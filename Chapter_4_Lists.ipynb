{
 "cells": [
  {
   "attachments": {},
   "cell_type": "markdown",
   "metadata": {},
   "source": [
    "# LISTS\n",
    "\n",
    "A **list** is a value that contains multiple values in an **ordered sequence**. The term list value refers to the list itself (*which is a value that can be stored in a variable or passed to a function like any other value*), NOT the values inside the list value. A list value looks like this: ['cat', 'bat', 'rat', 'elephant']. Just as string values are typed with quote characters to mark where the string begins and ends, a list begins with an opening square bracket and ends with a closing square bracket, []. Values inside the list are also called items."
   ]
  },
  {
   "cell_type": "code",
   "execution_count": 2,
   "metadata": {},
   "outputs": [
    {
     "data": {
      "text/plain": [
       "[1, 2, 3]"
      ]
     },
     "execution_count": 2,
     "metadata": {},
     "output_type": "execute_result"
    }
   ],
   "source": [
    "[1, 2, 3]"
   ]
  },
  {
   "cell_type": "code",
   "execution_count": 3,
   "metadata": {},
   "outputs": [
    {
     "data": {
      "text/plain": [
       "['cat', 'dog', 'rat', 'elephant']"
      ]
     },
     "execution_count": 3,
     "metadata": {},
     "output_type": "execute_result"
    }
   ],
   "source": [
    "['cat', 'dog', 'rat', 'elephant']"
   ]
  },
  {
   "cell_type": "code",
   "execution_count": 5,
   "metadata": {},
   "outputs": [
    {
     "data": {
      "text/plain": [
       "['hello', 'True', True, None, 3.145875]"
      ]
     },
     "execution_count": 5,
     "metadata": {},
     "output_type": "execute_result"
    }
   ],
   "source": [
    "['hello', 'True', True, None, 3.145875]"
   ]
  },
  {
   "attachments": {},
   "cell_type": "markdown",
   "metadata": {},
   "source": [
    "The **spam** variable is still assigned just one value, the **list**. But the **list** value itself contains values. The **value []** is an empty list that contains no values (smiliar to '' empty string)"
   ]
  },
  {
   "cell_type": "code",
   "execution_count": 14,
   "metadata": {},
   "outputs": [
    {
     "data": {
      "text/plain": [
       "['cat', 'bat', 'rat', 'elephant']"
      ]
     },
     "execution_count": 14,
     "metadata": {},
     "output_type": "execute_result"
    }
   ],
   "source": [
    "spam = ['cat', 'bat', 'rat', 'elephant']\n",
    "\n",
    "spam"
   ]
  },
  {
   "attachments": {
    "image.png": {
     "image/png": "[encoded data removed]"
    }
   },
   "cell_type": "markdown",
   "metadata": {},
   "source": [
    "## *Getting Individual Values in a List with Indexes*\n",
    "\n",
    "![image.png](attachment:image.png)\n",
    "\n",
    "The integer inside the square brackets that follows the list is called an **index**."
   ]
  },
  {
   "cell_type": "code",
   "execution_count": null,
   "metadata": {},
   "outputs": [
    {
     "data": {
      "text/plain": [
       "'bat'"
      ]
     },
     "execution_count": 19,
     "metadata": {},
     "output_type": "execute_result"
    }
   ],
   "source": [
    "# spam[0]\n",
    "spam[1]\n",
    "# spam[2]\n",
    "# spam[3]\n"
   ]
  },
  {
   "attachments": {},
   "cell_type": "markdown",
   "metadata": {},
   "source": [
    "\n",
    "The INDEX starts form 0 and it from 1 meaing that we start to count from 0 when we \n",
    "want to ectract the value"
   ]
  },
  {
   "cell_type": "code",
   "execution_count": 22,
   "metadata": {},
   "outputs": [
    {
     "data": {
      "text/plain": [
       "4"
      ]
     },
     "execution_count": 22,
     "metadata": {},
     "output_type": "execute_result"
    }
   ],
   "source": [
    "spum = [1, 2, 3, 4]\n",
    "\n",
    "spum[3]"
   ]
  },
  {
   "cell_type": "code",
   "execution_count": 16,
   "metadata": {},
   "outputs": [
    {
     "data": {
      "text/plain": [
       "'Hello, cat'"
      ]
     },
     "execution_count": 16,
     "metadata": {},
     "output_type": "execute_result"
    }
   ],
   "source": [
    "'Hello, ' + spam[0]"
   ]
  },
  {
   "attachments": {},
   "cell_type": "markdown",
   "metadata": {},
   "source": [
    "Python will give you an **IndexError** error message\n",
    "if you use an index that exceeds the number of values in your list value.**"
   ]
  },
  {
   "cell_type": "code",
   "execution_count": 18,
   "metadata": {},
   "outputs": [
    {
     "ename": "IndexError",
     "evalue": "list index out of range",
     "output_type": "error",
     "traceback": [
      "\u001b[1;31m---------------------------------------------------------------------------\u001b[0m",
      "\u001b[1;31mIndexError\u001b[0m                                Traceback (most recent call last)",
      "Cell \u001b[1;32mIn[18], line 3\u001b[0m\n\u001b[0;32m      1\u001b[0m \u001b[39m# we are trying to retrive the 9th element of the list but the list max index is 3.\u001b[39;00m\n\u001b[0;32m      2\u001b[0m \u001b[39m# It means that is impossible to retrive that element from the list as there is no such element\u001b[39;00m\n\u001b[1;32m----> 3\u001b[0m spam[\u001b[39m10\u001b[39;49m]\n",
      "\u001b[1;31mIndexError\u001b[0m: list index out of range"
     ]
    }
   ],
   "source": [
    "# we are trying to retrive the 9th element of the list but the list max index is 3.\n",
    "# It means that is impossible to retrive that element from the list \n",
    "# as there is no such element\n",
    "spam[10]"
   ]
  },
  {
   "attachments": {},
   "cell_type": "markdown",
   "metadata": {},
   "source": [
    "Indexes can be only integer values, not floats. The following example will cause a **TypeError** error:"
   ]
  },
  {
   "cell_type": "code",
   "execution_count": 24,
   "metadata": {},
   "outputs": [
    {
     "ename": "TypeError",
     "evalue": "list indices must be integers or slices, not float",
     "output_type": "error",
     "traceback": [
      "\u001b[1;31m---------------------------------------------------------------------------\u001b[0m",
      "\u001b[1;31mTypeError\u001b[0m                                 Traceback (most recent call last)",
      "Cell \u001b[1;32mIn[24], line 3\u001b[0m\n\u001b[0;32m      1\u001b[0m spam[\u001b[39m0\u001b[39m]\n\u001b[1;32m----> 3\u001b[0m spam[\u001b[39m1.0\u001b[39;49m]\n",
      "\u001b[1;31mTypeError\u001b[0m: list indices must be integers or slices, not float"
     ]
    }
   ],
   "source": [
    "spam[0]\n",
    "\n",
    "spam[1.0]"
   ]
  },
  {
   "cell_type": "code",
   "execution_count": 25,
   "metadata": {},
   "outputs": [
    {
     "data": {
      "text/plain": [
       "'bat'"
      ]
     },
     "execution_count": 25,
     "metadata": {},
     "output_type": "execute_result"
    }
   ],
   "source": [
    "spam[int(1.0)]"
   ]
  },
  {
   "attachments": {},
   "cell_type": "markdown",
   "metadata": {},
   "source": [
    "Lists can also contain other list values. The values in these lists of lists can be accessed using multiple indexes, like so:"
   ]
  },
  {
   "cell_type": "code",
   "execution_count": 27,
   "metadata": {},
   "outputs": [
    {
     "data": {
      "text/plain": [
       "['cat', 'bat']"
      ]
     },
     "execution_count": 27,
     "metadata": {},
     "output_type": "execute_result"
    }
   ],
   "source": [
    "spam = [['cat', 'bat'],[10, 20, 30, 40]]\n",
    "\n",
    "spam[0]"
   ]
  },
  {
   "cell_type": "code",
   "execution_count": 28,
   "metadata": {},
   "outputs": [
    {
     "data": {
      "text/plain": [
       "'bat'"
      ]
     },
     "execution_count": 28,
     "metadata": {},
     "output_type": "execute_result"
    }
   ],
   "source": [
    "spam[0][1]"
   ]
  },
  {
   "attachments": {},
   "cell_type": "markdown",
   "metadata": {},
   "source": [
    "The **first index** dictates which list value to use, and the **second indicates** the value within the list value. For example, spam[0][1] prints 'bat', the second value in the first list. If you only use one index, the program will print the full list value at that index.\n",
    "\n",
    "**NOTE: The list can be nasted as you prefer**"
   ]
  },
  {
   "cell_type": "code",
   "execution_count": 32,
   "metadata": {},
   "outputs": [
    {
     "data": {
      "text/plain": [
       "['Basia', 'Hono', 'Ewa']"
      ]
     },
     "execution_count": 32,
     "metadata": {},
     "output_type": "execute_result"
    }
   ],
   "source": [
    "spam = [[['Basia', 'Hono', 'Ewa'], 'bat'],[10, 20, 30, 40]]\n",
    "\n",
    "spam[0][0]"
   ]
  },
  {
   "attachments": {},
   "cell_type": "markdown",
   "metadata": {},
   "source": [
    "## *Negative Indexes*\n",
    "\n",
    "While indexes start at 0 and go up, you can also use negative integers for the index. The integer value -1 refers to the last index in a list, the value -2 refers to the second-to-last index in a list, and so on."
   ]
  },
  {
   "cell_type": "code",
   "execution_count": 35,
   "metadata": {},
   "outputs": [
    {
     "data": {
      "text/plain": [
       "'elephant'"
      ]
     },
     "execution_count": 35,
     "metadata": {},
     "output_type": "execute_result"
    }
   ],
   "source": [
    "spam = ['cat', 'bat', 'rat', 'elephant']\n",
    "\n",
    "spam[-1] # will gie the last element"
   ]
  },
  {
   "cell_type": "code",
   "execution_count": 36,
   "metadata": {},
   "outputs": [
    {
     "data": {
      "text/plain": [
       "'bat'"
      ]
     },
     "execution_count": 36,
     "metadata": {},
     "output_type": "execute_result"
    }
   ],
   "source": [
    "spam[-3] # it give the 3rd eleemnt from the end"
   ]
  },
  {
   "attachments": {},
   "cell_type": "markdown",
   "metadata": {},
   "source": [
    "## *List  Slices*\n",
    "\n",
    "A **slice** can get **several values from a list**, in the form of a **new list**. A slice is typed between square brackets, like an index, but it has two integers separated by a colon.\n",
    "\n",
    "* In a slice, the **first integer** is the index where the **slice starts**. \n",
    "* The **second integer** is the index where the **slice ends**. \n",
    "* A slice goes up to, but **will NOT include**, the value at the second index.\n",
    "* A slice evaluates to a **new list value**. "
   ]
  },
  {
   "cell_type": "code",
   "execution_count": 42,
   "metadata": {},
   "outputs": [
    {
     "data": {
      "text/plain": [
       "['cat', 'bat', 'rat']"
      ]
     },
     "execution_count": 42,
     "metadata": {},
     "output_type": "execute_result"
    }
   ],
   "source": [
    "spam = ['cat', 'bat', 'rat', 'elephant']\n",
    "\n",
    "spam[0:3] # even though previously spam[3] was giving as 'elephant' now extracting \n",
    "          # to the 3 index it will give us just to 'rat' as the slice excludes\n",
    "          # the second integer"
   ]
  },
  {
   "cell_type": "code",
   "execution_count": 44,
   "metadata": {},
   "outputs": [
    {
     "data": {
      "text/plain": [
       "['cat', 'bat', 'rat', 'elephant']"
      ]
     },
     "execution_count": 44,
     "metadata": {},
     "output_type": "execute_result"
    }
   ],
   "source": [
    "spam[0:4] # you need to go +1 on the index to extract that value"
   ]
  },
  {
   "cell_type": "code",
   "execution_count": 45,
   "metadata": {},
   "outputs": [
    {
     "data": {
      "text/plain": [
       "['bat', 'rat']"
      ]
     },
     "execution_count": 45,
     "metadata": {},
     "output_type": "execute_result"
    }
   ],
   "source": [
    "spam[1:3]"
   ]
  },
  {
   "attachments": {},
   "cell_type": "markdown",
   "metadata": {},
   "source": [
    "As a shortcut, you can leave out **one or both of the indexes** on either side of the colon in the slice. Leaving out the first index is the same as using 0, or the beginning of the list. Leaving out the second index is the same as using the length of the list, which will slice to the end of the list"
   ]
  },
  {
   "cell_type": "code",
   "execution_count": 47,
   "metadata": {},
   "outputs": [
    {
     "data": {
      "text/plain": [
       "['cat', 'bat']"
      ]
     },
     "execution_count": 47,
     "metadata": {},
     "output_type": "execute_result"
    }
   ],
   "source": [
    "spam[:2] # starts from the beginning of the list to the index = 2"
   ]
  },
  {
   "cell_type": "code",
   "execution_count": 49,
   "metadata": {},
   "outputs": [
    {
     "data": {
      "text/plain": [
       "['bat', 'rat', 'elephant']"
      ]
     },
     "execution_count": 49,
     "metadata": {},
     "output_type": "execute_result"
    }
   ],
   "source": [
    "spam[1:] # starts at the first index and arrives the end"
   ]
  },
  {
   "cell_type": "code",
   "execution_count": 52,
   "metadata": {},
   "outputs": [
    {
     "data": {
      "text/plain": [
       "['cat', 'bat', 'rat', 'elephant']"
      ]
     },
     "execution_count": 52,
     "metadata": {},
     "output_type": "execute_result"
    }
   ],
   "source": [
    "spam[:] # retrive all the indexes"
   ]
  },
  {
   "attachments": {},
   "cell_type": "markdown",
   "metadata": {},
   "source": [
    "## *len() Function*"
   ]
  },
  {
   "cell_type": "code",
   "execution_count": 55,
   "metadata": {},
   "outputs": [
    {
     "data": {
      "text/plain": [
       "4"
      ]
     },
     "execution_count": 55,
     "metadata": {},
     "output_type": "execute_result"
    }
   ],
   "source": [
    "len(spam) #gives the length of the list that we are givins as an argument"
   ]
  },
  {
   "attachments": {},
   "cell_type": "markdown",
   "metadata": {},
   "source": [
    "## *Changing Values in a List with Indexes*\n",
    "\n",
    "\n",
    "Normally, a variable name goes on the left side of an assignment statement, like spam = 42. However, you can also use an index of a list to change the value at that index. For example, spam[1] = 'aardvark' means “Assign the value at index 1 in the list spam to the string 'aardvark'.”\n"
   ]
  },
  {
   "cell_type": "code",
   "execution_count": 56,
   "metadata": {},
   "outputs": [],
   "source": [
    "spam = ['cat', 'bat', 'rat', 'elephant']"
   ]
  },
  {
   "cell_type": "code",
   "execution_count": 59,
   "metadata": {},
   "outputs": [
    {
     "data": {
      "text/plain": [
       "['cat', 'limortaccitua', 'rat', 'elephant']"
      ]
     },
     "execution_count": 59,
     "metadata": {},
     "output_type": "execute_result"
    }
   ],
   "source": [
    "spam[1] = 'limortaccitua' # we assigned the new value to thw item od index 1 in the list "
   ]
  },
  {
   "cell_type": "code",
   "execution_count": 61,
   "metadata": {},
   "outputs": [
    {
     "data": {
      "text/plain": [
       "['cat', 'limortaccitua', 'limortaccitua', 'elephant']"
      ]
     },
     "execution_count": 61,
     "metadata": {},
     "output_type": "execute_result"
    }
   ],
   "source": [
    "spam[2] = spam[1] # we set an equality between the list items\n",
    "\n",
    "spam"
   ]
  },
  {
   "cell_type": "code",
   "execution_count": 63,
   "metadata": {},
   "outputs": [
    {
     "data": {
      "text/plain": [
       "['cat', 'limortaccitua', 'limortaccitua', 12345]"
      ]
     },
     "execution_count": 63,
     "metadata": {},
     "output_type": "execute_result"
    }
   ],
   "source": [
    "spam[-1] = 12345\n",
    "\n",
    "spam"
   ]
  },
  {
   "attachments": {},
   "cell_type": "markdown",
   "metadata": {},
   "source": [
    "So we modified the list assigning to various items in the list ofther values. This has been accomplisehd by first selecting the element from the list using an index (cold be done using a slice) and than with the '=' statement we assign a new value to that item"
   ]
  },
  {
   "attachments": {},
   "cell_type": "markdown",
   "metadata": {},
   "source": [
    "## *List Concatenation and List Replication*\n",
    "\n",
    "Lists can be concatenated and replicated just like strings. The + operator combines two lists to create a new list value and the * operator can be used with a list and an integer value to replicate the list."
   ]
  },
  {
   "cell_type": "code",
   "execution_count": 66,
   "metadata": {},
   "outputs": [
    {
     "data": {
      "text/plain": [
       "[1, 2, 3, 'A', 'B', 'C']"
      ]
     },
     "execution_count": 66,
     "metadata": {},
     "output_type": "execute_result"
    }
   ],
   "source": [
    "numbers = [1, 2, 3] # First list is created\n",
    "\n",
    "letters = ['A', 'B', 'C'] # Second list created\n",
    "\n",
    "alphabet = numbers + letters # we create a 3rd list by adding up the previus list \n",
    "\n",
    "alphabet # as we can se the resulting list is basically a oriented list sum of the two previous"
   ]
  },
  {
   "attachments": {},
   "cell_type": "markdown",
   "metadata": {},
   "source": [
    "## *Removing Values from Lists with **del Statements***\n",
    "\n",
    "The del statement will delete values at an index in a list. All of the values in the list after the deleted value will be moved up one index."
   ]
  },
  {
   "cell_type": "code",
   "execution_count": 68,
   "metadata": {},
   "outputs": [
    {
     "data": {
      "text/plain": [
       "['cat', 'bat', 'elephant']"
      ]
     },
     "execution_count": 68,
     "metadata": {},
     "output_type": "execute_result"
    }
   ],
   "source": [
    "spam = ['cat', 'bat', 'rat', 'elephant']\n",
    "\n",
    "del spam[2] # we are deleting the spam value at index 2\n",
    "\n",
    "spam # now elephant becames the previous index as we removed one index "
   ]
  },
  {
   "cell_type": "code",
   "execution_count": 69,
   "metadata": {},
   "outputs": [
    {
     "data": {
      "text/plain": [
       "['rat', 'elephant']"
      ]
     },
     "execution_count": 69,
     "metadata": {},
     "output_type": "execute_result"
    }
   ],
   "source": [
    "spam = ['cat', 'bat', 'rat', 'elephant']\n",
    "\n",
    "del spam[:2] # we are deleting the spam value 0 and 1 by slicing up to 2\n",
    "\n",
    "spam # as we can see the list have 2 less values and the values in betwween were removed"
   ]
  },
  {
   "attachments": {},
   "cell_type": "markdown",
   "metadata": {},
   "source": [
    "The del statement can also be used on a simple variable to delete it, as if it were an “unassignment” statement. If you try to use the variable after deleting it, you will get a NameError error because the variable no longer exists. **In practice, you almost never need to delete simple variables. The del statement is mostly used to delete values from lists.**"
   ]
  },
  {
   "cell_type": "code",
   "execution_count": 70,
   "metadata": {},
   "outputs": [
    {
     "data": {
      "text/plain": [
       "2"
      ]
     },
     "execution_count": 70,
     "metadata": {},
     "output_type": "execute_result"
    }
   ],
   "source": [
    "x = 2\n",
    "\n",
    "x"
   ]
  },
  {
   "attachments": {},
   "cell_type": "markdown",
   "metadata": {},
   "source": [
    "We are getting an error here as we deleted the variable but we are trying to print it anyways. We are getting a **NameError** as the variable is no longer existing"
   ]
  },
  {
   "cell_type": "code",
   "execution_count": 71,
   "metadata": {},
   "outputs": [
    {
     "ename": "NameError",
     "evalue": "name 'x' is not defined",
     "output_type": "error",
     "traceback": [
      "\u001b[1;31m---------------------------------------------------------------------------\u001b[0m",
      "\u001b[1;31mNameError\u001b[0m                                 Traceback (most recent call last)",
      "Cell \u001b[1;32mIn[71], line 3\u001b[0m\n\u001b[0;32m      1\u001b[0m \u001b[39mdel\u001b[39;00m x\n\u001b[1;32m----> 3\u001b[0m x\n",
      "\u001b[1;31mNameError\u001b[0m: name 'x' is not defined"
     ]
    }
   ],
   "source": [
    "del x\n",
    "\n",
    "x"
   ]
  },
  {
   "attachments": {},
   "cell_type": "markdown",
   "metadata": {},
   "source": [
    "# WORKING WITH LISTS\n",
    "\n",
    "When you first begin writing programs, it’s tempting to create many individual variables to store a group of similar values. \n",
    "\n",
    "**It turns out that this is a bad way to write code.** \n",
    "For one thing, if the number of cats changes, your program will never be able to store more cats than you have variables. **These types of programs also have a lot of duplicate or nearly identical code in them.**\n"
   ]
  },
  {
   "cell_type": "code",
   "execution_count": null,
   "metadata": {},
   "outputs": [],
   "source": [
    "# WE COULD CREATE MANY VARIALES EACH ONE FOR A CAT NAME\n",
    "\n",
    "catName1 = 'Zophie'\n",
    "catName2 = 'Pooka'\n",
    "catName3 = 'Simon'\n",
    "catName4 = 'Lady Macbeth'\n",
    "catName5 = 'Fat-tail'\n",
    "catName6 = 'Miss Cleo'"
   ]
  },
  {
   "attachments": {},
   "cell_type": "markdown",
   "metadata": {},
   "source": [
    "Instead of using multiple, repetitive variables, **you can use a single variable that contains a list value**"
   ]
  },
  {
   "cell_type": "code",
   "execution_count": 76,
   "metadata": {},
   "outputs": [
    {
     "name": "stdout",
     "output_type": "stream",
     "text": [
      "Enter the name of the cat 1 (Or enter nothing to stop):\n",
      "The cat names are:\n",
      " Mark\n",
      "Enter the name of the cat 2 (Or enter nothing to stop):\n",
      "The cat names are:\n",
      " Mark\n",
      " Melissa\n",
      "Enter the name of the cat 3 (Or enter nothing to stop):\n",
      "The cat names are:\n",
      " Mark\n",
      " Melissa\n",
      " Natalia\n",
      "Enter the name of the cat 4 (Or enter nothing to stop):\n",
      "The cat names are:\n",
      " Mark\n",
      " Melissa\n",
      " Natalia\n",
      " Basia\n",
      "Enter the name of the cat 5 (Or enter nothing to stop):\n",
      "The cat names are:\n",
      " Mark\n",
      " Melissa\n",
      " Natalia\n",
      " Basia\n",
      " Olek\n",
      "Enter the name of the cat 6 (Or enter nothing to stop):\n",
      "The cat names are:\n",
      " Mark\n",
      " Melissa\n",
      " Natalia\n",
      " Basia\n",
      " Olek\n",
      " Marek\n",
      "Enter the name of the cat 7 (Or enter nothing to stop):\n",
      "The cat names are:\n",
      " Mark\n",
      " Melissa\n",
      " Natalia\n",
      " Basia\n",
      " Olek\n",
      " Marek\n",
      " Ewa\n",
      "Enter the name of the cat 8 (Or enter nothing to stop):\n",
      "The cat names are:\n",
      " Mark\n",
      " Melissa\n",
      " Natalia\n",
      " Basia\n",
      " Olek\n",
      " Marek\n",
      " Ewa\n",
      " Leosia\n",
      "Enter the name of the cat 9 (Or enter nothing to stop):\n"
     ]
    }
   ],
   "source": [
    "cat_names = []\n",
    "\n",
    "while True:\n",
    "    # we are asking to enter the name of the can\n",
    "    # the number of the cat is calculated based on the length of the cat list logically\n",
    "    print(f'Enter the name of the cat {(len(cat_names)) + 1} (Or enter nothing to stop):')\n",
    "    \n",
    "    #WE INPUT THE NAME OF THE CAT\n",
    "    name = input()\n",
    "    # IF THE CAT NAME IS EMPTY THE LOOP STOPS\n",
    "    if name == '':\n",
    "        break\n",
    "    # WE ADD THE INPUT TO THE LIST \n",
    "    cat_names = cat_names + [name]\n",
    "    \n",
    "    # WE PRINT THE WHLE LIST\n",
    "    print('The cat names are:')\n",
    "    \n",
    "    # WE PRINT THE NAME OF EVERY CAT IN THE LIST \n",
    "    for name in cat_names:\n",
    "        print(' ' + name)"
   ]
  },
  {
   "attachments": {},
   "cell_type": "markdown",
   "metadata": {},
   "source": [
    "## *Using for Loops with Lists*\n",
    "\n",
    "Technically, a for loop repeats the code block once for each item in a list value. For example, if you ran this code:"
   ]
  },
  {
   "cell_type": "code",
   "execution_count": 77,
   "metadata": {},
   "outputs": [
    {
     "name": "stdout",
     "output_type": "stream",
     "text": [
      "0\n",
      "1\n",
      "2\n",
      "3\n"
     ]
    }
   ],
   "source": [
    "for i in range(4):\n",
    "    print(i)"
   ]
  },
  {
   "attachments": {},
   "cell_type": "markdown",
   "metadata": {},
   "source": [
    "The result is the same while iterating over this list "
   ]
  },
  {
   "cell_type": "code",
   "execution_count": 78,
   "metadata": {},
   "outputs": [
    {
     "name": "stdout",
     "output_type": "stream",
     "text": [
      "0\n",
      "1\n",
      "2\n",
      "3\n"
     ]
    }
   ],
   "source": [
    "for i in [0, 1, 2, 3]:\n",
    "    print(i)"
   ]
  },
  {
   "attachments": {},
   "cell_type": "markdown",
   "metadata": {},
   "source": [
    "The previous for loop actually loops through its clause with the variable i set to a successive value in the [0, 1, 2, 3] list in each iteration.\n",
    "\n",
    "*A common Python technique is to use range(len(someList)) with a for loop to iterate over the indexes of a list.*"
   ]
  },
  {
   "cell_type": "code",
   "execution_count": 84,
   "metadata": {},
   "outputs": [
    {
     "name": "stdout",
     "output_type": "stream",
     "text": [
      "Index 0 in supplis is: pens\n",
      "Index 1 in supplis is: staplers\n",
      "Index 2 in supplis is: flamethrowers\n",
      "Index 3 in supplis is: binders\n"
     ]
    }
   ],
   "source": [
    "supplies = ['pens', 'staplers', 'flamethrowers', 'binders']\n",
    "\n",
    "for i in range(len(supplies)):\n",
    "    print(f'Index {i} in supplis is: {supplies[i]}')"
   ]
  },
  {
   "attachments": {},
   "cell_type": "markdown",
   "metadata": {},
   "source": [
    "**In the version with range(4), Python does not \"know\" that it has to iterate over supplies.**\n",
    "\n",
    "Instead, the loop iterates over the sequence of numbers generated by range(4), which is the sequence [0, 1, 2, 3]. Inside the loop, the loop variable i takes on each value in this sequence in turn.\n",
    "\n",
    "The code supplies[i] then accesses the value of supplies at the index specified by i. **Since i is taking on the values [0, 1, 2, 3] in turn, the loop is effectively iterating over the indices of supplies.**\n",
    "\n",
    "So even though the loop is not directly iterating over supplies, the fact that it is using supplies[i] to access the values of the list means that it is effectively iterating over supplies."
   ]
  },
  {
   "cell_type": "code",
   "execution_count": 85,
   "metadata": {},
   "outputs": [
    {
     "name": "stdout",
     "output_type": "stream",
     "text": [
      "Index 0 in supplis is: pens\n",
      "Index 1 in supplis is: staplers\n",
      "Index 2 in supplis is: flamethrowers\n",
      "Index 3 in supplis is: binders\n"
     ]
    }
   ],
   "source": [
    "supplies = ['pens', 'staplers', 'flamethrowers', 'binders']\n",
    "\n",
    "for i in range(4):\n",
    "    print(f'Index {i} in supplis is: {supplies[i]}')"
   ]
  },
  {
   "attachments": {},
   "cell_type": "markdown",
   "metadata": {},
   "source": [
    "As a matter of fact if we use another range value we will get an **IndexError**, that's why if we have to iterate over a list it's better to use the len(list) approach to have a code that is more dynamic and changes automatucally according to the new list\n",
    "\n",
    "Using range(len(supplies)) in the previously shown for loop is handy because the code in the loop can access the index (as the variable i) and the value at that index (as supplies[i]). Best of all, range(len(supplies)) will iterate through all the indexes of supplies, no matter how many items it contains."
   ]
  },
  {
   "cell_type": "code",
   "execution_count": 86,
   "metadata": {},
   "outputs": [
    {
     "name": "stdout",
     "output_type": "stream",
     "text": [
      "Index 0 in supplis is: pens\n",
      "Index 1 in supplis is: staplers\n",
      "Index 2 in supplis is: flamethrowers\n",
      "Index 3 in supplis is: binders\n"
     ]
    },
    {
     "ename": "IndexError",
     "evalue": "list index out of range",
     "output_type": "error",
     "traceback": [
      "\u001b[1;31m---------------------------------------------------------------------------\u001b[0m",
      "\u001b[1;31mIndexError\u001b[0m                                Traceback (most recent call last)",
      "Cell \u001b[1;32mIn[86], line 4\u001b[0m\n\u001b[0;32m      1\u001b[0m supplies \u001b[39m=\u001b[39m [\u001b[39m'\u001b[39m\u001b[39mpens\u001b[39m\u001b[39m'\u001b[39m, \u001b[39m'\u001b[39m\u001b[39mstaplers\u001b[39m\u001b[39m'\u001b[39m, \u001b[39m'\u001b[39m\u001b[39mflamethrowers\u001b[39m\u001b[39m'\u001b[39m, \u001b[39m'\u001b[39m\u001b[39mbinders\u001b[39m\u001b[39m'\u001b[39m]\n\u001b[0;32m      3\u001b[0m \u001b[39mfor\u001b[39;00m i \u001b[39min\u001b[39;00m \u001b[39mrange\u001b[39m(\u001b[39m5\u001b[39m):\n\u001b[1;32m----> 4\u001b[0m     \u001b[39mprint\u001b[39m(\u001b[39mf\u001b[39m\u001b[39m'\u001b[39m\u001b[39mIndex \u001b[39m\u001b[39m{\u001b[39;00mi\u001b[39m}\u001b[39;00m\u001b[39m in supplis is: \u001b[39m\u001b[39m{\u001b[39;00msupplies[i]\u001b[39m}\u001b[39;00m\u001b[39m'\u001b[39m)\n",
      "\u001b[1;31mIndexError\u001b[0m: list index out of range"
     ]
    }
   ],
   "source": [
    "supplies = ['pens', 'staplers', 'flamethrowers', 'binders']\n",
    "\n",
    "for i in range(5):\n",
    "    print(f'Index {i} in supplis is: {supplies[i]}')"
   ]
  },
  {
   "attachments": {},
   "cell_type": "markdown",
   "metadata": {},
   "source": [
    "## *The _**in**_ and _**not in**_ Operators*\n",
    "\n",
    "You can determine whether a value is or isn’t in a list with the **in** and **not in** operators.\n",
    "\n",
    "Like other operators, in and not in are used in expressions and connect two values: a value to look for in a list and the list where it may be found."
   ]
  },
  {
   "cell_type": "code",
   "execution_count": 91,
   "metadata": {},
   "outputs": [
    {
     "data": {
      "text/plain": [
       "True"
      ]
     },
     "execution_count": 91,
     "metadata": {},
     "output_type": "execute_result"
    }
   ],
   "source": [
    "spam =  ['hello', 'hi', 'howdy', 'heyas']\n",
    "\n",
    "# WE ARE CHECKING IF THE VALUE IS IN THE LIST , WE GET A BOOL VALUES TRUE/FALSE\n",
    "'howdy' in spam"
   ]
  },
  {
   "cell_type": "code",
   "execution_count": 93,
   "metadata": {},
   "outputs": [
    {
     "data": {
      "text/plain": [
       "False"
      ]
     },
     "execution_count": 93,
     "metadata": {},
     "output_type": "execute_result"
    }
   ],
   "source": [
    "'hawfy' in spam"
   ]
  },
  {
   "cell_type": "code",
   "execution_count": 94,
   "metadata": {},
   "outputs": [
    {
     "data": {
      "text/plain": [
       "True"
      ]
     },
     "execution_count": 94,
     "metadata": {},
     "output_type": "execute_result"
    }
   ],
   "source": [
    "'gwrgwwg' not in spam "
   ]
  },
  {
   "attachments": {},
   "cell_type": "markdown",
   "metadata": {},
   "source": [
    "For example, the following program lets the user type in a pet name and then checks to see whether the name is in a list of pets. "
   ]
  },
  {
   "cell_type": "code",
   "execution_count": 100,
   "metadata": {},
   "outputs": [
    {
     "name": "stdout",
     "output_type": "stream",
     "text": [
      "Enter a pet name\n",
      "I do have a pet named Zophie\n"
     ]
    }
   ],
   "source": [
    "my_pets = ['Zophie', 'Pooka', 'Fat-tail']\n",
    "\n",
    "print('Enter a pet name')\n",
    "\n",
    "name = input()\n",
    "\n",
    "#WE CHECK WHEATHER THE NAME THAT WE INPUT IS ALREADY IN THE LIST \n",
    "if name in my_pets:\n",
    "\n",
    "    print(f'I do have a pet named {name}')\n",
    "\n",
    "else:\n",
    "\n",
    "    print(f'{name} it\\'s not my pet, You idiot!')\n"
   ]
  },
  {
   "attachments": {},
   "cell_type": "markdown",
   "metadata": {},
   "source": [
    "## *The Multiple Assignment Trick*\n",
    "\n",
    "The multiple assignment trick *(technically called tuple unpacking)* is a shortcut that lets you assign multiple variables with the values in a list in one line of code. "
   ]
  },
  {
   "cell_type": "code",
   "execution_count": 104,
   "metadata": {},
   "outputs": [],
   "source": [
    "cat = ['fat', 'grey', 'loud']\n",
    "\n",
    "#WE ARE ASSIGNING THE LIST ITEMS TO OUR VARIABLES SO SIZE INHERITS FAT, COLOR INHERITS GREY AND DISPOSITION INHERITS LOUD\n",
    "size = cat[0]\n",
    "color = cat[1]\n",
    "disposition = cat[2]\n",
    "\n"
   ]
  },
  {
   "cell_type": "code",
   "execution_count": 107,
   "metadata": {},
   "outputs": [
    {
     "name": "stdout",
     "output_type": "stream",
     "text": [
      "fat, grey, loud\n"
     ]
    }
   ],
   "source": [
    "cat = ['fat', 'grey', 'loud']\n",
    "\n",
    "size, color, disposition = cat\n",
    "\n",
    "print(size, color, disposition, sep= ', ')"
   ]
  },
  {
   "attachments": {},
   "cell_type": "markdown",
   "metadata": {},
   "source": [
    "The number of variables and the length of the list must be exactly equal, or Python will give you a **ValueError:**"
   ]
  },
  {
   "cell_type": "code",
   "execution_count": 108,
   "metadata": {},
   "outputs": [
    {
     "ename": "ValueError",
     "evalue": "not enough values to unpack (expected 4, got 3)",
     "output_type": "error",
     "traceback": [
      "\u001b[1;31m---------------------------------------------------------------------------\u001b[0m",
      "\u001b[1;31mValueError\u001b[0m                                Traceback (most recent call last)",
      "Cell \u001b[1;32mIn[108], line 3\u001b[0m\n\u001b[0;32m      1\u001b[0m cat \u001b[39m=\u001b[39m [\u001b[39m'\u001b[39m\u001b[39mfat\u001b[39m\u001b[39m'\u001b[39m, \u001b[39m'\u001b[39m\u001b[39mgrey\u001b[39m\u001b[39m'\u001b[39m, \u001b[39m'\u001b[39m\u001b[39mloud\u001b[39m\u001b[39m'\u001b[39m]\n\u001b[1;32m----> 3\u001b[0m size, color, disposition, name \u001b[39m=\u001b[39m cat\n\u001b[0;32m      5\u001b[0m \u001b[39mprint\u001b[39m(size, color, disposition, sep\u001b[39m=\u001b[39m \u001b[39m'\u001b[39m\u001b[39m, \u001b[39m\u001b[39m'\u001b[39m)\n",
      "\u001b[1;31mValueError\u001b[0m: not enough values to unpack (expected 4, got 3)"
     ]
    }
   ],
   "source": [
    "cat = ['fat', 'grey', 'loud']\n",
    "\n",
    "size, color, disposition, name = cat\n",
    "\n",
    "print(size, color, disposition, sep= ', ')"
   ]
  },
  {
   "attachments": {},
   "cell_type": "markdown",
   "metadata": {},
   "source": [
    "### *Using the **enumerate()** Function with Lists*\n",
    "\n",
    "Instead of using the **range(len(someList))** technique with a for loop to obtain the integer index of the items in the list, you can call the **enumerate()** function instead. On each iteration of the loop, enumerate()"
   ]
  },
  {
   "attachments": {},
   "cell_type": "markdown",
   "metadata": {},
   "source": [
    "_**The advantage of using enumerate(list) instead of range(len(list)) is that it simplifies the loop, making it more concise and easier to read, and is generally more efficient.**_"
   ]
  },
  {
   "cell_type": "code",
   "execution_count": 111,
   "metadata": {},
   "outputs": [
    {
     "name": "stdout",
     "output_type": "stream",
     "text": [
      "Index 0 in suplies is: pens\n",
      "Index 1 in suplies is: staplers\n",
      "Index 2 in suplies is: flamethrowers\n",
      "Index 3 in suplies is: binders\n"
     ]
    }
   ],
   "source": [
    "supplies = ['pens', 'staplers', 'flamethrowers', 'binders']\n",
    "\n",
    "# WE NOW USE THE ENUMERATE() FUNCTION\n",
    "\n",
    "for i, item in enumerate(supplies):\n",
    "\n",
    "    print(f'Index {i} in suplies is: {item}')"
   ]
  },
  {
   "attachments": {},
   "cell_type": "markdown",
   "metadata": {},
   "source": [
    "###  **random.choice(), random.shuffle()** *Functions with Lists*\n",
    "\n",
    "The random module has a couple functions that accept lists for arguments. The random.choice() function will return a randomly selected item from the list."
   ]
  },
  {
   "cell_type": "code",
   "execution_count": 114,
   "metadata": {},
   "outputs": [],
   "source": [
    "import random as rd\n",
    "\n",
    "pets = ['Dog', 'Cat', 'Moose']"
   ]
  },
  {
   "cell_type": "code",
   "execution_count": 119,
   "metadata": {},
   "outputs": [
    {
     "data": {
      "text/plain": [
       "'Moose'"
      ]
     },
     "execution_count": 119,
     "metadata": {},
     "output_type": "execute_result"
    }
   ],
   "source": [
    "# WE ARE SELECTING A RANDOM ELEMENT FROM THE LIST\n",
    "rd.choice(pets)"
   ]
  },
  {
   "cell_type": "code",
   "execution_count": 120,
   "metadata": {},
   "outputs": [
    {
     "data": {
      "text/plain": [
       "['Cat', 'Dog', 'Moose']"
      ]
     },
     "execution_count": 120,
     "metadata": {},
     "output_type": "execute_result"
    }
   ],
   "source": [
    "# WE ARE SHUFFLING THE LIST TO OBTAKIN THE SAME LIST BUT IN A DIFFERENT ORDER\n",
    "rd.shuffle(pets)\n",
    "\n",
    "pets"
   ]
  },
  {
   "attachments": {
    "image.png": {
     "image/png": "[encoded data removed]"
    }
   },
   "cell_type": "markdown",
   "metadata": {},
   "source": [
    "# AGUMENTED ASSIGNMENT OPERATORS\n",
    "\n",
    "augmented assignment statements can be a useful tool in coding and are generally considered good practice when used appropriately. However, like any tool, they should be used with care and consideration for the specific needs of your code.\n",
    "\n",
    "![image.png](attachment:image.png)"
   ]
  },
  {
   "cell_type": "code",
   "execution_count": 124,
   "metadata": {},
   "outputs": [
    {
     "data": {
      "text/plain": [
       "'Hello world'"
      ]
     },
     "execution_count": 124,
     "metadata": {},
     "output_type": "execute_result"
    }
   ],
   "source": [
    "# ASSIGNING HELLO TO SPAM \n",
    "spam = 'Hello '\n",
    "# ADDING WORLD TO SPAM\n",
    "spam += 'world'\n",
    "\n",
    "# MEANING THAT SPAM NOW IS HELLO AND WORLD\n",
    "spam"
   ]
  },
  {
   "cell_type": "code",
   "execution_count": 126,
   "metadata": {},
   "outputs": [
    {
     "data": {
      "text/plain": [
       "['Zophie', 'Zophie', 'Zophie']"
      ]
     },
     "execution_count": 126,
     "metadata": {},
     "output_type": "execute_result"
    }
   ],
   "source": [
    "bacon = ['Zophie']\n",
    "# WE ARE JUST SAYING THAT BACON WILL BE MULTIPLIED 3 TIMES\n",
    "bacon *= 3\n",
    "# THE RESULT IS PRINTED AND IT IS 3X ZOPHIE AS EXCPECTED\n",
    "bacon"
   ]
  },
  {
   "attachments": {},
   "cell_type": "markdown",
   "metadata": {},
   "source": [
    "# METHODS\n",
    "\n",
    "A method is the same thing as a function, except it is “called on” a value\n",
    "\n",
    "Each data type has its own set of methods. The list data type, for example, has several useful methods for finding, adding, removing, and otherwise manipulating values in a list."
   ]
  },
  {
   "attachments": {},
   "cell_type": "markdown",
   "metadata": {},
   "source": [
    "### ***index()** Method*\n",
    "\n",
    "List values have an **index() method** that can be passed **a value**, and if that value exists in the list, **the index** of the value **is returned**. If the value isn’t in the list, then Python produces a **ValueError** error."
   ]
  },
  {
   "cell_type": "code",
   "execution_count": 127,
   "metadata": {},
   "outputs": [
    {
     "data": {
      "text/plain": [
       "1"
      ]
     },
     "execution_count": 127,
     "metadata": {},
     "output_type": "execute_result"
    }
   ],
   "source": [
    "spam = ['hello', 'hi', 'howdy', 'heyas']\n",
    "\n",
    "# WE ARE RETRIVING THE INDEX OF THE 'hi' ITEM. \n",
    "spam.index('hi')"
   ]
  },
  {
   "cell_type": "code",
   "execution_count": 129,
   "metadata": {},
   "outputs": [
    {
     "data": {
      "text/plain": [
       "3"
      ]
     },
     "execution_count": 129,
     "metadata": {},
     "output_type": "execute_result"
    }
   ],
   "source": [
    "spam.index('heyas')"
   ]
  },
  {
   "cell_type": "code",
   "execution_count": 128,
   "metadata": {},
   "outputs": [
    {
     "ename": "ValueError",
     "evalue": "'hOi' is not in list",
     "output_type": "error",
     "traceback": [
      "\u001b[1;31m---------------------------------------------------------------------------\u001b[0m",
      "\u001b[1;31mValueError\u001b[0m                                Traceback (most recent call last)",
      "Cell \u001b[1;32mIn[128], line 2\u001b[0m\n\u001b[0;32m      1\u001b[0m \u001b[39m# WE ARE RETRIVING THE INDEX OF THE 'hOi' ITEM. \u001b[39;00m\n\u001b[1;32m----> 2\u001b[0m spam\u001b[39m.\u001b[39;49mindex(\u001b[39m'\u001b[39;49m\u001b[39mhOi\u001b[39;49m\u001b[39m'\u001b[39;49m)\n",
      "\u001b[1;31mValueError\u001b[0m: 'hOi' is not in list"
     ]
    }
   ],
   "source": [
    "# WE ARE RETRIVING THE INDEX OF THE 'hOi' ITEM. \n",
    "spam.index('hOi')\n",
    "\n",
    "# IT DOESN'T EXIST MANING THAT WE WILL GET A ValueError"
   ]
  },
  {
   "attachments": {},
   "cell_type": "markdown",
   "metadata": {},
   "source": [
    "**When there are duplicates of the value in the list, the index of its first appearance is returned**\n",
    "\n",
    "On this occasion the output is just 1 instead od 1,2 and 3 as just the first index of the matching item is returned"
   ]
  },
  {
   "cell_type": "code",
   "execution_count": 130,
   "metadata": {},
   "outputs": [
    {
     "data": {
      "text/plain": [
       "1"
      ]
     },
     "execution_count": 130,
     "metadata": {},
     "output_type": "execute_result"
    }
   ],
   "source": [
    "spam = ['hello', 'hi', 'hi', 'hi']\n",
    "\n",
    "# WE ARE RETRIVING THE INDEX OF THE 'hi' ITEM. \n",
    "spam.index('hi')"
   ]
  },
  {
   "attachments": {},
   "cell_type": "markdown",
   "metadata": {},
   "source": [
    "### ***append(), insert()** Methods*\n",
    "\n",
    "To add new values to a list, use the append() and insert() methods."
   ]
  },
  {
   "cell_type": "code",
   "execution_count": 134,
   "metadata": {},
   "outputs": [
    {
     "data": {
      "text/plain": [
       "['cat', 'dog', 'bat', 'dio']"
      ]
     },
     "execution_count": 134,
     "metadata": {},
     "output_type": "execute_result"
    }
   ],
   "source": [
    "Cspam = ['cat', 'dog', 'bat']\n",
    "\n",
    "# THE APPEND METHOD ADDS THE VALUE IN THE PARENTHESIS AS THE LAST ELEMENT TO OUR LIST \n",
    "spam.append('dio')\n",
    "# AS A RESULT 'dio' IS ADDED\n",
    "spam"
   ]
  },
  {
   "attachments": {},
   "cell_type": "markdown",
   "metadata": {},
   "source": [
    "The insert() method can insert a value at any index in the list.\n",
    "\n",
    "* **Ffirst argument**: index for the new value\n",
    "* **Second argument**: new value to be inserted."
   ]
  },
  {
   "cell_type": "code",
   "execution_count": 136,
   "metadata": {},
   "outputs": [
    {
     "data": {
      "text/plain": [
       "['cat', 'dio', 'dog', 'bat']"
      ]
     },
     "execution_count": 136,
     "metadata": {},
     "output_type": "execute_result"
    }
   ],
   "source": [
    "spam = ['cat', 'dog', 'bat']\n",
    "\n",
    "# THE INSERT METHOD ADDS THE VALUE IN THE PARENTHESIS AT THE INDEX PROVIDED \n",
    "spam.insert(1,'dio')\n",
    "# AS A RESULT 'dio' IS ADDED AT INDEX = 1 \n",
    "spam"
   ]
  },
  {
   "attachments": {},
   "cell_type": "markdown",
   "metadata": {},
   "source": [
    "Neither **append()** nor **insert()** gives the new value of spam as its return value. In fact, **the return value of append() and insert() is None**, so you definitely wouldn’t want to store this as the new variable value. **RATHER, THE LIST IS MODIFIED IN PLACE**"
   ]
  },
  {
   "cell_type": "code",
   "execution_count": 141,
   "metadata": {},
   "outputs": [
    {
     "data": {
      "text/plain": [
       "True"
      ]
     },
     "execution_count": 141,
     "metadata": {},
     "output_type": "execute_result"
    }
   ],
   "source": [
    "spam.insert(1,1) == None"
   ]
  },
  {
   "attachments": {},
   "cell_type": "markdown",
   "metadata": {},
   "source": [
    "Methods belong to a single data type. The *append()* and *insert()* methods are list methods and can be called only on list values, not on other values such as strings or integers"
   ]
  },
  {
   "cell_type": "code",
   "execution_count": 142,
   "metadata": {},
   "outputs": [
    {
     "ename": "AttributeError",
     "evalue": "'str' object has no attribute 'append'",
     "output_type": "error",
     "traceback": [
      "\u001b[1;31m---------------------------------------------------------------------------\u001b[0m",
      "\u001b[1;31mAttributeError\u001b[0m                            Traceback (most recent call last)",
      "Cell \u001b[1;32mIn[142], line 3\u001b[0m\n\u001b[0;32m      1\u001b[0m eggs \u001b[39m=\u001b[39m \u001b[39m'\u001b[39m\u001b[39mhello\u001b[39m\u001b[39m'\u001b[39m\n\u001b[1;32m----> 3\u001b[0m eggs\u001b[39m.\u001b[39;49mappend(\u001b[39m'\u001b[39m\u001b[39mworld\u001b[39m\u001b[39m'\u001b[39m)\n",
      "\u001b[1;31mAttributeError\u001b[0m: 'str' object has no attribute 'append'"
     ]
    }
   ],
   "source": [
    "eggs = 'hello'\n",
    "\n",
    "# APPENDING A STRING TO ANOTHER STRING WILL GENERATE A AttributeErrorc\n",
    "eggs.append('world')"
   ]
  },
  {
   "cell_type": "code",
   "execution_count": 143,
   "metadata": {},
   "outputs": [
    {
     "ename": "AttributeError",
     "evalue": "'int' object has no attribute 'insert'",
     "output_type": "error",
     "traceback": [
      "\u001b[1;31m---------------------------------------------------------------------------\u001b[0m",
      "\u001b[1;31mAttributeError\u001b[0m                            Traceback (most recent call last)",
      "Cell \u001b[1;32mIn[143], line 4\u001b[0m\n\u001b[0;32m      1\u001b[0m becon \u001b[39m=\u001b[39m \u001b[39m42\u001b[39m\n\u001b[0;32m      3\u001b[0m \u001b[39m# APPENDING A STRING TO ANOTHER STRING WILL GENERATE A AttributeErrorc\u001b[39;00m\n\u001b[1;32m----> 4\u001b[0m becon\u001b[39m.\u001b[39;49minsert(\u001b[39m1\u001b[39m, \u001b[39m'\u001b[39m\u001b[39mworld\u001b[39m\u001b[39m'\u001b[39m)\n",
      "\u001b[1;31mAttributeError\u001b[0m: 'int' object has no attribute 'insert'"
     ]
    }
   ],
   "source": [
    "becon = 42\n",
    "\n",
    "# INSERTING A STRING TO A NUMBER WILL GENERATE A AttributeError AS WELL\n",
    "becon.insert(1, 'world')"
   ]
  },
  {
   "attachments": {},
   "cell_type": "markdown",
   "metadata": {},
   "source": [
    "### ***Remove()** Method*\n",
    "\n",
    "The remove() method is passed the value to be removed from the list it is called on."
   ]
  },
  {
   "cell_type": "code",
   "execution_count": 146,
   "metadata": {},
   "outputs": [
    {
     "data": {
      "text/plain": [
       "['bat', 'rat', 'elephant']"
      ]
     },
     "execution_count": 146,
     "metadata": {},
     "output_type": "execute_result"
    }
   ],
   "source": [
    "spam = ['cat', 'bat', 'rat', 'elephant']\n",
    "\n",
    "# WE REMOVE THE STRING THAT WE PASS TO THE METHOD IN THE LIST ON WHAT WE CALL THE METHOD\n",
    "spam.remove('cat')\n",
    "\n",
    "# VIZUALIZE THE LIST WITH THE REMOVED VALUE\n",
    "\n",
    "spam"
   ]
  },
  {
   "attachments": {},
   "cell_type": "markdown",
   "metadata": {},
   "source": [
    "Attempting to delete a value that does not exist in the list will result in a **ValueError** error. "
   ]
  },
  {
   "cell_type": "code",
   "execution_count": 148,
   "metadata": {},
   "outputs": [
    {
     "ename": "ValueError",
     "evalue": "list.remove(): 'catO' is not in list",
     "output_type": "error",
     "traceback": [
      "\u001b[1;31m---------------------------------------------------------------------------\u001b[0m",
      "\u001b[1;31mValueError\u001b[0m                                Traceback (most recent call last)",
      "Cell \u001b[1;32mIn[148], line 4\u001b[0m\n\u001b[0;32m      1\u001b[0m spam \u001b[39m=\u001b[39m [\u001b[39m'\u001b[39m\u001b[39mcat\u001b[39m\u001b[39m'\u001b[39m, \u001b[39m'\u001b[39m\u001b[39mbat\u001b[39m\u001b[39m'\u001b[39m, \u001b[39m'\u001b[39m\u001b[39mrat\u001b[39m\u001b[39m'\u001b[39m, \u001b[39m'\u001b[39m\u001b[39melephant\u001b[39m\u001b[39m'\u001b[39m]\n\u001b[0;32m      3\u001b[0m \u001b[39m# WE REMOVE THE STRING THAT WE PASS TO THE METHOD IN THE LIST ON WHAT WE CALL THE METHOD\u001b[39;00m\n\u001b[1;32m----> 4\u001b[0m spam\u001b[39m.\u001b[39;49mremove(\u001b[39m'\u001b[39;49m\u001b[39mcatO\u001b[39;49m\u001b[39m'\u001b[39;49m)\n\u001b[0;32m      6\u001b[0m \u001b[39m# VIZUALIZE THE LIST WITH THE REMOVED VALUE\u001b[39;00m\n\u001b[0;32m      7\u001b[0m \u001b[39m# BUT IN THIS CASE THE VALUE IS NOT IN THE LIST SO WE GET A VALUE ERROR\u001b[39;00m\n\u001b[0;32m      9\u001b[0m spam\n",
      "\u001b[1;31mValueError\u001b[0m: list.remove(): 'catO' is not in list"
     ]
    }
   ],
   "source": [
    "spam = ['cat', 'bat', 'rat', 'elephant']\n",
    "\n",
    "# WE REMOVE THE STRING THAT WE PASS TO THE METHOD IN THE LIST ON WHAT WE CALL THE METHOD\n",
    "spam.remove('catO')\n",
    "\n",
    "# VIZUALIZE THE LIST WITH THE REMOVED VALUE\n",
    "# BUT IN THIS CASE THE VALUE IS NOT IN THE LIST SO WE GET A VALUE ERROR\n",
    "\n",
    "spam"
   ]
  },
  {
   "attachments": {},
   "cell_type": "markdown",
   "metadata": {},
   "source": [
    "If the value appears **multiple times** in the list, only the first instance of the value will be removed. "
   ]
  },
  {
   "cell_type": "code",
   "execution_count": 150,
   "metadata": {},
   "outputs": [
    {
     "data": {
      "text/plain": [
       "['cat', 'rat', 'elephant']"
      ]
     },
     "execution_count": 150,
     "metadata": {},
     "output_type": "execute_result"
    }
   ],
   "source": [
    "spam = ['cat', 'cat', 'rat', 'elephant']\n",
    "\n",
    "# WE REMOVE THE STRING THAT WE PASS TO THE METHOD IN THE LIST ON WHAT WE CALL THE METHOD\n",
    "spam.remove('cat')\n",
    "\n",
    "# VIZUALIZE THE LIST WITH THE REMOVED VALUE\n",
    "# AS WE CAN SEE JUST THE FIRST INSTANCE OF CAT IS REMOVED AS A RESULT\n",
    "# TO REMOVE EVERYTHING WE SHOULD ITERATE OVER THE LIST \n",
    "\n",
    "spam"
   ]
  },
  {
   "attachments": {},
   "cell_type": "markdown",
   "metadata": {},
   "source": [
    "* The **del statement** is good to use when you know the index of the value you want to remove from the list. * \n",
    "* The **remove() method** is useful when you know the value you want to remove from the list."
   ]
  },
  {
   "attachments": {},
   "cell_type": "markdown",
   "metadata": {},
   "source": [
    "### ***sort()** Method*\n",
    "Lists of number values or lists of strings can be sorted with the sort() method."
   ]
  },
  {
   "cell_type": "code",
   "execution_count": 152,
   "metadata": {},
   "outputs": [
    {
     "data": {
      "text/plain": [
       "[-8, 0, 2, 3, 5, 8]"
      ]
     },
     "execution_count": 152,
     "metadata": {},
     "output_type": "execute_result"
    }
   ],
   "source": [
    "spam = [2, 5, 8, 3, 0, -8]\n",
    "# WE ARE APPLYONG THE SORT METHOD TO THE SPAM LIST \n",
    "spam.sort()\n",
    "# LET'S SEE HOW THE LIST LOOKS LIKE\n",
    "spam"
   ]
  },
  {
   "attachments": {},
   "cell_type": "markdown",
   "metadata": {},
   "source": [
    "In case what we want is to sort in **descending** order we have to provode a **reverse = True** argument to the function"
   ]
  },
  {
   "cell_type": "code",
   "execution_count": 156,
   "metadata": {},
   "outputs": [
    {
     "data": {
      "text/plain": [
       "[8, 5, 3, 2, 0, -8]"
      ]
     },
     "execution_count": 156,
     "metadata": {},
     "output_type": "execute_result"
    }
   ],
   "source": [
    "spam = [2, 5, 8, 3, 0, -8]\n",
    "# WE ARE APPLYONG THE SORT METHOD TO THE SPAM LIST \n",
    "spam.sort(reverse= True)\n",
    "# LET'S SEE HOW THE LIST LOOKS LIKE\n",
    "spam"
   ]
  },
  {
   "attachments": {},
   "cell_type": "markdown",
   "metadata": {},
   "source": [
    "Strings can be sorted as well, and it will be sorted in **ASCIIbetical order**."
   ]
  },
  {
   "cell_type": "code",
   "execution_count": 155,
   "metadata": {},
   "outputs": [
    {
     "data": {
      "text/plain": [
       "['ants', 'badgers', 'cats', 'dogs', 'elephants']"
      ]
     },
     "execution_count": 155,
     "metadata": {},
     "output_type": "execute_result"
    }
   ],
   "source": [
    "spam = ['ants', 'cats', 'dogs', 'badgers', 'elephants']\n",
    "# WE ARE APPLINF THE SORT METHOD TO THE SPAM LIST\n",
    "spam.sort()\n",
    "# AND THE LIST IS SORTED IN ALPHABETICAL ORDER\n",
    "spam"
   ]
  },
  {
   "attachments": {},
   "cell_type": "markdown",
   "metadata": {},
   "source": [
    "Strings can be sorted as well, and it will be sorted in **alfabetical order** using the **str.lower** for the **key** argument in the sort() method call"
   ]
  },
  {
   "cell_type": "code",
   "execution_count": 158,
   "metadata": {},
   "outputs": [
    {
     "data": {
      "text/plain": [
       "['A', 'Z', 'a', 'z']"
      ]
     },
     "execution_count": 158,
     "metadata": {},
     "output_type": "execute_result"
    }
   ],
   "source": [
    "spam = ['a', 'z', 'A', 'Z']\n",
    "\n",
    "spam.sort()\n",
    "# THE SPAM IS SORTED USING THE ASCIIBETICAL ORDER SO THE UPPER CASE LETTERS ARE PUT AT FIRST\n",
    "\n",
    "spam"
   ]
  },
  {
   "cell_type": "code",
   "execution_count": 160,
   "metadata": {},
   "outputs": [
    {
     "data": {
      "text/plain": [
       "['a', 'A', 'z', 'Z']"
      ]
     },
     "execution_count": 160,
     "metadata": {},
     "output_type": "execute_result"
    }
   ],
   "source": [
    "spam = ['a', 'z', 'A', 'Z']\n",
    "\n",
    "spam.sort(key= str.lower)\n",
    "# NOW WE ARE SORTING THE STRINGS NOT ONLY BY THE STRING VALUE BUT BY \n",
    "# THE UPPER/LOWER CASE OF THE STRING\n",
    "spam"
   ]
  },
  {
   "attachments": {},
   "cell_type": "markdown",
   "metadata": {},
   "source": [
    "## IMPORTANT ABOUT THE _**sort()**_ method\n",
    "\n",
    "* The sort() method sorts the list in place; don’t try to capture the return value by writing code like the one below"
   ]
  },
  {
   "cell_type": "code",
   "execution_count": 171,
   "metadata": {},
   "outputs": [
    {
     "name": "stdout",
     "output_type": "stream",
     "text": [
      "None\n"
     ]
    }
   ],
   "source": [
    "spam = ['ants', 'cats', 'dogs', 'badgers', 'elephants']\n",
    "spam = spam.sort()\n",
    "# AS DESCRIBED THE LIST IS SORTED IN PLACE AND THE RETURN OF THE SORT() METHOD IS NONE\n",
    "print(spam)"
   ]
  },
  {
   "attachments": {},
   "cell_type": "markdown",
   "metadata": {},
   "source": [
    "However, if you want to keep the original unsorted list and also have a sorted copy of it, you can create a copy of the list and sort the copy instead of the original list. You can do this by using the sorted() function"
   ]
  },
  {
   "cell_type": "code",
   "execution_count": 173,
   "metadata": {},
   "outputs": [
    {
     "name": "stdout",
     "output_type": "stream",
     "text": [
      "[3, 1, 4, 1, 5, 9, 2, 6, 5, 3, 5]\n",
      "[1, 1, 2, 3, 3, 4, 5, 5, 5, 6, 9]\n"
     ]
    }
   ],
   "source": [
    "spam = [3, 1, 4, 1, 5, 9, 2, 6, 5, 3, 5]\n",
    "sorted_spam = sorted(spam)\n",
    "print(spam)         # [3, 1, 4, 1, 5, 9, 2, 6, 5, 3, 5]\n",
    "print(sorted_spam)  # [1, 1, 2, 3, 3, 4, 5, 5, 5, 6, 9]"
   ]
  },
  {
   "attachments": {},
   "cell_type": "markdown",
   "metadata": {},
   "source": [
    "* You cannot sort lists that have both number values and string values in them since Python does not know ho to compare those values."
   ]
  },
  {
   "cell_type": "code",
   "execution_count": 176,
   "metadata": {},
   "outputs": [
    {
     "ename": "TypeError",
     "evalue": "'<' not supported between instances of 'str' and 'int'",
     "output_type": "error",
     "traceback": [
      "\u001b[1;31m---------------------------------------------------------------------------\u001b[0m",
      "\u001b[1;31mTypeError\u001b[0m                                 Traceback (most recent call last)",
      "Cell \u001b[1;32mIn[176], line 3\u001b[0m\n\u001b[0;32m      1\u001b[0m spam \u001b[39m=\u001b[39m [\u001b[39m1\u001b[39m, \u001b[39m3\u001b[39m, \u001b[39m2\u001b[39m, \u001b[39m4\u001b[39m, \u001b[39m'\u001b[39m\u001b[39mAlice\u001b[39m\u001b[39m'\u001b[39m, \u001b[39m'\u001b[39m\u001b[39mBob\u001b[39m\u001b[39m'\u001b[39m]\n\u001b[1;32m----> 3\u001b[0m spam\u001b[39m.\u001b[39;49msort()\n",
      "\u001b[1;31mTypeError\u001b[0m: '<' not supported between instances of 'str' and 'int'"
     ]
    }
   ],
   "source": [
    "spam = [1, 3, 2, 4, 'Alice', 'Bob']\n",
    "\n",
    "spam.sort()\n",
    "\n",
    "# THIS CODE GIVES AN ERROR AS IT IS NOT POSSIBLE TO SORT A LIST WHERE\n",
    "# BOTH NUMBERS AND STRINGS ARE NOT COMPARABLE"
   ]
  },
  {
   "attachments": {},
   "cell_type": "markdown",
   "metadata": {},
   "source": [
    "* Third, sort() uses **“ASCIIbetical order”** rather than actual alphabetical order for sorting strings. This means uppercase letters come before lowercase letters. "
   ]
  },
  {
   "attachments": {},
   "cell_type": "markdown",
   "metadata": {},
   "source": [
    "### ***reverse()** Method*\n",
    "\n",
    "If you need to quickly reverse the order of the items in a list, you can call the **reverse()**\n",
    "\n",
    "As well as sort(), reverse() does not return a new list but modifies in place the list to which is applied\n",
    "\n",
    "We are NOT sorting in a reverse order we are **REVERSING the order of the list**"
   ]
  },
  {
   "cell_type": "code",
   "execution_count": 177,
   "metadata": {},
   "outputs": [
    {
     "data": {
      "text/plain": [
       "['moose', 'dog', 'cat']"
      ]
     },
     "execution_count": 177,
     "metadata": {},
     "output_type": "execute_result"
    }
   ],
   "source": [
    "spam = ['cat', 'dog', 'moose']\n",
    "\n",
    "spam.reverse()\n",
    "\n",
    "spam"
   ]
  },
  {
   "attachments": {},
   "cell_type": "markdown",
   "metadata": {},
   "source": [
    "##### To reverse a list we can also apply the following foramtting **list[::-1]**\n",
    "##### This applies also for list inside lists"
   ]
  },
  {
   "cell_type": "code",
   "execution_count": 212,
   "metadata": {},
   "outputs": [],
   "source": [
    "import pprint as pp"
   ]
  },
  {
   "cell_type": "code",
   "execution_count": 206,
   "metadata": {},
   "outputs": [
    {
     "data": {
      "text/plain": [
       "['moose', 'dog', 'cat']"
      ]
     },
     "execution_count": 206,
     "metadata": {},
     "output_type": "execute_result"
    }
   ],
   "source": [
    "spam = ['cat', 'dog', 'moose']\n",
    "\n",
    "spam[::-1]"
   ]
  },
  {
   "cell_type": "code",
   "execution_count": 219,
   "metadata": {},
   "outputs": [
    {
     "name": "stdout",
     "output_type": "stream",
     "text": [
      "[[1, 2, 3], ['cat', 'dog', 'moose']] \n",
      "\n"
     ]
    }
   ],
   "source": [
    "spam = [['cat', 'dog', 'moose'],[1, 2, 3]]\n",
    "\n",
    "spam[::-1] # HERE WE ARE REVERSING THE ORDER OF THE 'COLUMNS'"
   ]
  },
  {
   "attachments": {},
   "cell_type": "markdown",
   "metadata": {},
   "source": [
    "## Methods and Function comparison\n",
    "\n",
    "In Python, methods are functions that are attached to an object and operate on that object's data. When you call a method on an object, **the method modifies the object's data in some way, but it does not create a new object.**\n",
    "\n",
    "For example, when you call the sort() method on a list object in Python, the method modifies the list object by rearranging its elements in ascending order. Similarly, when you call the append() method on a list object, the method adds a new element to the end of the list without creating a new list object.\n",
    "\n",
    "This is in contrast to functions in Python, which **typically take one or more arguments and return a new object as a result**. Functions do not modify their input arguments (unless the arguments are mutable objects that are explicitly modified within the function), and they create new objects as their output.\n",
    "\n",
    "So when you call a method on an object in Python, you are operating directly on the object's data, and any modifications to that data will be reflected in the original object."
   ]
  },
  {
   "attachments": {},
   "cell_type": "markdown",
   "metadata": {},
   "source": [
    "## Examlpe program: MAGIC 8 BALL "
   ]
  },
  {
   "cell_type": "code",
   "execution_count": 178,
   "metadata": {},
   "outputs": [],
   "source": [
    "import random as rd "
   ]
  },
  {
   "cell_type": "code",
   "execution_count": 180,
   "metadata": {},
   "outputs": [],
   "source": [
    "# WE CREATE A LIST OF MESSAGES THAT WE WANT TO GENERATE\n",
    "messages = ['It is certain',\n",
    "    'It is decidedly so',\n",
    "    'Yes definitely',\n",
    "    'Reply hazy try again',\n",
    "    'Ask again later',\n",
    "    'Concentrate and ask again',\n",
    "    'My reply is no',\n",
    "    'Outlook not so good',\n",
    "    'Very doubtful']"
   ]
  },
  {
   "attachments": {},
   "cell_type": "markdown",
   "metadata": {},
   "source": [
    "* NOTE: we have to subtract 1 to the length of the list message. \n",
    "**The length of the list is 9 if we apply the len() function but the maximum index is 8 that's why**"
   ]
  },
  {
   "cell_type": "code",
   "execution_count": 194,
   "metadata": {},
   "outputs": [
    {
     "name": "stdout",
     "output_type": "stream",
     "text": [
      "My reply is no\n"
     ]
    }
   ],
   "source": [
    "# NOTE THAT WE HAVE TO ADD THE -1 TO THE LEN(MESSAGES)\n",
    "# TO AVOID THE INDEXOUTOFRANGE ERROR MESSAGES\n",
    "\n",
    "print(messages[rd.randint(0, len(messages) -1)])"
   ]
  },
  {
   "cell_type": "code",
   "execution_count": 188,
   "metadata": {},
   "outputs": [
    {
     "name": "stdout",
     "output_type": "stream",
     "text": [
      "0. It is certain\n",
      "1. It is decidedly so\n",
      "2. Yes definitely\n",
      "3. Reply hazy try again\n",
      "4. Ask again later\n",
      "5. Concentrate and ask again\n",
      "6. My reply is no\n",
      "7. Outlook not so good\n",
      "8. Very doubtful\n"
     ]
    }
   ],
   "source": [
    "for i, item in enumerate(messages):\n",
    "    print(f'{i}. {item}')"
   ]
  },
  {
   "cell_type": "code",
   "execution_count": 189,
   "metadata": {},
   "outputs": [
    {
     "data": {
      "text/plain": [
       "9"
      ]
     },
     "execution_count": 189,
     "metadata": {},
     "output_type": "execute_result"
    }
   ],
   "source": [
    "len(messages)"
   ]
  },
  {
   "attachments": {},
   "cell_type": "markdown",
   "metadata": {},
   "source": [
    "## Sequence Data Types\n",
    "\n",
    "Python sequence data types include lists, strings, range objects returned by range(), and tuples.\n",
    "\n",
    "Many of the things you can do with lists can also be done with strings and other values of sequence types: indexing; slicing; and using them with for loops, with len(), and with the in and not in operators."
   ]
  },
  {
   "cell_type": "code",
   "execution_count": 202,
   "metadata": {},
   "outputs": [
    {
     "data": {
      "text/plain": [
       "'Z'"
      ]
     },
     "execution_count": 202,
     "metadata": {},
     "output_type": "execute_result"
    }
   ],
   "source": [
    "name = 'Zophie'\n",
    "\n",
    "name[0]"
   ]
  },
  {
   "cell_type": "code",
   "execution_count": 203,
   "metadata": {},
   "outputs": [
    {
     "data": {
      "text/plain": [
       "'i'"
      ]
     },
     "execution_count": 203,
     "metadata": {},
     "output_type": "execute_result"
    }
   ],
   "source": [
    "name[-2]"
   ]
  },
  {
   "cell_type": "code",
   "execution_count": 204,
   "metadata": {},
   "outputs": [
    {
     "data": {
      "text/plain": [
       "'Zoph'"
      ]
     },
     "execution_count": 204,
     "metadata": {},
     "output_type": "execute_result"
    }
   ],
   "source": [
    "name[0:4]"
   ]
  },
  {
   "cell_type": "code",
   "execution_count": 205,
   "metadata": {},
   "outputs": [
    {
     "data": {
      "text/plain": [
       "'eihpoZ'"
      ]
     },
     "execution_count": 205,
     "metadata": {},
     "output_type": "execute_result"
    }
   ],
   "source": [
    "name[::-1]"
   ]
  },
  {
   "cell_type": "code",
   "execution_count": 246,
   "metadata": {},
   "outputs": [
    {
     "data": {
      "text/plain": [
       "True"
      ]
     },
     "execution_count": 246,
     "metadata": {},
     "output_type": "execute_result"
    }
   ],
   "source": [
    "'Zo' in name"
   ]
  },
  {
   "cell_type": "code",
   "execution_count": 251,
   "metadata": {},
   "outputs": [
    {
     "name": "stdout",
     "output_type": "stream",
     "text": [
      "**** Z **** \n",
      "\n",
      "**** o **** \n",
      "\n",
      "**** p **** \n",
      "\n",
      "**** h **** \n",
      "\n",
      "**** i **** \n",
      "\n",
      "**** e **** \n",
      "\n"
     ]
    }
   ],
   "source": [
    "for i in name:\n",
    "    print(f'**** {i} **** \\n')"
   ]
  },
  {
   "attachments": {},
   "cell_type": "markdown",
   "metadata": {},
   "source": [
    "## Mutable and Immutable Data Types\n",
    "\n",
    "But lists and strings are different in an important way. **A list value is a mutable data type**: it can have values added, removed, or changed. However, **a string is immutable**: it cannot be changed. Trying to reassign a single character in a string results in a **TypeError**"
   ]
  },
  {
   "cell_type": "code",
   "execution_count": 255,
   "metadata": {},
   "outputs": [
    {
     "ename": "TypeError",
     "evalue": "'str' object does not support item assignment",
     "output_type": "error",
     "traceback": [
      "\u001b[1;31m---------------------------------------------------------------------------\u001b[0m",
      "\u001b[1;31mTypeError\u001b[0m                                 Traceback (most recent call last)",
      "Cell \u001b[1;32mIn[255], line 3\u001b[0m\n\u001b[0;32m      1\u001b[0m name \u001b[39m=\u001b[39m \u001b[39m'\u001b[39m\u001b[39mZophie a cat\u001b[39m\u001b[39m'\u001b[39m\n\u001b[1;32m----> 3\u001b[0m name[\u001b[39m7\u001b[39;49m] \u001b[39m=\u001b[39m \u001b[39m'\u001b[39m\u001b[39mthe\u001b[39m\u001b[39m'\u001b[39m\n",
      "\u001b[1;31mTypeError\u001b[0m: 'str' object does not support item assignment"
     ]
    }
   ],
   "source": [
    "name = 'Zophie a cat'\n",
    "\n",
    "name[7] = 'the'\n",
    "\n",
    "# THIS RETURNS AN ERROR AS IT CAN'T BE MODIFIED\n",
    "# IF IT WAS LIKE A LIST WE WOULD JUST REASSING THE VALUE TO THE NEW VARIABLE"
   ]
  },
  {
   "attachments": {},
   "cell_type": "markdown",
   "metadata": {},
   "source": [
    "The proper way to “mutate” a string is to use slicing and concatenation to build a new string by copying from parts of the old string."
   ]
  },
  {
   "cell_type": "code",
   "execution_count": 258,
   "metadata": {},
   "outputs": [
    {
     "data": {
      "text/plain": [
       "'Zophie the cat'"
      ]
     },
     "execution_count": 258,
     "metadata": {},
     "output_type": "execute_result"
    }
   ],
   "source": [
    "name = 'Zophie a cat'\n",
    "\n",
    "new_name = name[0:7] + 'the' + name[8:12]\n",
    "\n",
    "new_name\n",
    "\n",
    "# THE STRING HAS TO BE SLICED AND WE HAVE TO ADD A NEW STRING TO THE SLICED \n",
    "# WITH A STRING WE HAVE TO BE LIKE SURGEONS AS THEY ARE IMMUTABLE"
   ]
  },
  {
   "attachments": {},
   "cell_type": "markdown",
   "metadata": {},
   "source": [
    "Although a list value **is mutable**, the second line in the following code does not modify the list eggs:"
   ]
  },
  {
   "cell_type": "code",
   "execution_count": 260,
   "metadata": {},
   "outputs": [
    {
     "data": {
      "text/plain": [
       "[4, 5, 6]"
      ]
     },
     "execution_count": 260,
     "metadata": {},
     "output_type": "execute_result"
    }
   ],
   "source": [
    "eggs = [1, 2, 3]\n",
    "eggs = [4, 5, 6]\n",
    "\n",
    "eggs"
   ]
  },
  {
   "attachments": {
    "image.png": {
     "image/png": "[encoded data removed]"
    }
   },
   "cell_type": "markdown",
   "metadata": {},
   "source": [
    "![image.png](attachment:image.png)"
   ]
  },
  {
   "attachments": {},
   "cell_type": "markdown",
   "metadata": {},
   "source": [
    "If you wanted to actually modify the original list in eggs to contain [4, 5, 6], you would have to do something like this"
   ]
  },
  {
   "cell_type": "code",
   "execution_count": 263,
   "metadata": {},
   "outputs": [
    {
     "data": {
      "text/plain": [
       "[4, 5, 6]"
      ]
     },
     "execution_count": 263,
     "metadata": {},
     "output_type": "execute_result"
    }
   ],
   "source": [
    "eggs = [1, 2, 3]\n",
    "\n",
    "\n",
    "# WE HAVE TO START FRM THE END TO DELETE THE ELEMENTS\n",
    "del eggs[2]\n",
    "del eggs[1]\n",
    "del eggs[0]\n",
    "\n",
    "eggs.append(4)\n",
    "eggs.append(5)\n",
    "eggs.append(6)\n",
    "\n",
    "eggs"
   ]
  },
  {
   "attachments": {
    "image.png": {
     "image/png": "[encoded data removed]"
    }
   },
   "cell_type": "markdown",
   "metadata": {},
   "source": [
    "![image.png](attachment:image.png)"
   ]
  },
  {
   "attachments": {},
   "cell_type": "markdown",
   "metadata": {},
   "source": [
    "**Changing a value of a mutable data type (like what the del statement and append() method do in the previous example) changes the value in place, since the variable’s value is not replaced with a new list value.**"
   ]
  },
  {
   "attachments": {},
   "cell_type": "markdown",
   "metadata": {},
   "source": [
    "## The Tuple Data Type\n",
    "\n",
    "The tuple data type is almost identical to the list data type, **except in two ways**.\n",
    "\n",
    "* First: **tuples** are typed with **parentheses**, ( and ), instead of square brackets, [ and ]."
   ]
  },
  {
   "cell_type": "code",
   "execution_count": 264,
   "metadata": {},
   "outputs": [
    {
     "data": {
      "text/plain": [
       "'hello'"
      ]
     },
     "execution_count": 264,
     "metadata": {},
     "output_type": "execute_result"
    }
   ],
   "source": [
    "eggs = ('hello', 42, 0.5)\n",
    "\n",
    "eggs[0]"
   ]
  },
  {
   "cell_type": "code",
   "execution_count": 265,
   "metadata": {},
   "outputs": [
    {
     "data": {
      "text/plain": [
       "('hello', 42)"
      ]
     },
     "execution_count": 265,
     "metadata": {},
     "output_type": "execute_result"
    }
   ],
   "source": [
    "eggs[0:2]"
   ]
  },
  {
   "cell_type": "code",
   "execution_count": 266,
   "metadata": {},
   "outputs": [
    {
     "data": {
      "text/plain": [
       "3"
      ]
     },
     "execution_count": 266,
     "metadata": {},
     "output_type": "execute_result"
    }
   ],
   "source": [
    "len(eggs)"
   ]
  },
  {
   "attachments": {},
   "cell_type": "markdown",
   "metadata": {},
   "source": [
    "* Second: **tuples are immutable*\n",
    "\n",
    "All the code below will nor work as the methods below applies just to list data type\n",
    "but it is not just because of that but also because of the fact that tuples are immutable "
   ]
  },
  {
   "cell_type": "code",
   "execution_count": 267,
   "metadata": {},
   "outputs": [
    {
     "ename": "TypeError",
     "evalue": "'tuple' object does not support item assignment",
     "output_type": "error",
     "traceback": [
      "\u001b[1;31m---------------------------------------------------------------------------\u001b[0m",
      "\u001b[1;31mTypeError\u001b[0m                                 Traceback (most recent call last)",
      "Cell \u001b[1;32mIn[267], line 3\u001b[0m\n\u001b[0;32m      1\u001b[0m eggs \u001b[39m=\u001b[39m (\u001b[39m'\u001b[39m\u001b[39mhello\u001b[39m\u001b[39m'\u001b[39m, \u001b[39m42\u001b[39m, \u001b[39m0.5\u001b[39m)\n\u001b[1;32m----> 3\u001b[0m eggs[\u001b[39m1\u001b[39;49m] \u001b[39m=\u001b[39m \u001b[39m3\u001b[39m\n",
      "\u001b[1;31mTypeError\u001b[0m: 'tuple' object does not support item assignment"
     ]
    }
   ],
   "source": [
    "eggs = ('hello', 42, 0.5)\n",
    "\n",
    "eggs[1] = 3"
   ]
  },
  {
   "cell_type": "code",
   "execution_count": 268,
   "metadata": {},
   "outputs": [
    {
     "ename": "AttributeError",
     "evalue": "'tuple' object has no attribute 'append'",
     "output_type": "error",
     "traceback": [
      "\u001b[1;31m---------------------------------------------------------------------------\u001b[0m",
      "\u001b[1;31mAttributeError\u001b[0m                            Traceback (most recent call last)",
      "Cell \u001b[1;32mIn[268], line 1\u001b[0m\n\u001b[1;32m----> 1\u001b[0m eggs\u001b[39m.\u001b[39;49mappend(\u001b[39m56\u001b[39m)\n",
      "\u001b[1;31mAttributeError\u001b[0m: 'tuple' object has no attribute 'append'"
     ]
    }
   ],
   "source": [
    "eggs.append(56)"
   ]
  },
  {
   "attachments": {},
   "cell_type": "markdown",
   "metadata": {},
   "source": [
    "If you have only one value in your tuple, you can indicate this **by placing a trailing comma after the value inside the parentheses.** Otherwise, Python will think you’ve just typed a value inside regular parentheses"
   ]
  },
  {
   "attachments": {},
   "cell_type": "markdown",
   "metadata": {},
   "source": [
    "### ***list() and tuple()** Functions*\n",
    "\n",
    "Just like how str(42) will return '42', the string representation of the integer 42, the functions **list() and tuple()** will return list and tuple versions of the values passed to them."
   ]
  },
  {
   "cell_type": "code",
   "execution_count": 269,
   "metadata": {},
   "outputs": [],
   "source": [
    "spam = ['cat', 'dog', 5]"
   ]
  },
  {
   "cell_type": "code",
   "execution_count": 273,
   "metadata": {},
   "outputs": [
    {
     "data": {
      "text/plain": [
       "('cat', 'dog', 5)"
      ]
     },
     "execution_count": 273,
     "metadata": {},
     "output_type": "execute_result"
    }
   ],
   "source": [
    "# HERE WE CONVERT THE DATA TYPE TO TUPLE FROM LIST \n",
    "spam2 = tuple(spam)\n",
    "spam2"
   ]
  },
  {
   "cell_type": "code",
   "execution_count": 274,
   "metadata": {},
   "outputs": [
    {
     "data": {
      "text/plain": [
       "['cat', 'dog', 5]"
      ]
     },
     "execution_count": 274,
     "metadata": {},
     "output_type": "execute_result"
    }
   ],
   "source": [
    "# HERE WE CONVERT THE DATA TYPE TO LIST FROM TUPLE\n",
    "spam3 = list(spam2)\n",
    "spam3"
   ]
  },
  {
   "cell_type": "code",
   "execution_count": 275,
   "metadata": {},
   "outputs": [
    {
     "data": {
      "text/plain": [
       "['H', 'e', 'l', 'l', 'o']"
      ]
     },
     "execution_count": 275,
     "metadata": {},
     "output_type": "execute_result"
    }
   ],
   "source": [
    "# HERE WE CONVERT THE DATA TYPE TO LIST FROM STRING \n",
    "list('Hello')"
   ]
  }
 ],
 "metadata": {
  "kernelspec": {
   "display_name": "Python 3",
   "language": "python",
   "name": "python3"
  },
  "language_info": {
   "codemirror_mode": {
    "name": "ipython",
    "version": 3
   },
   "file_extension": ".py",
   "mimetype": "text/x-python",
   "name": "python",
   "nbconvert_exporter": "python",
   "pygments_lexer": "ipython3",
   "version": "3.9.16"
  },
  "orig_nbformat": 4
 },
 "nbformat": 4,
 "nbformat_minor": 2
}
