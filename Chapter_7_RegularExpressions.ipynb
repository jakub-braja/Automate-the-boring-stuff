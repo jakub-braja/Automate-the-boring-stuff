{
 "cells": [
  {
   "attachments": {},
   "cell_type": "markdown",
   "metadata": {},
   "source": [
    "# REGULAR EXPRESSIONS\n",
    "https://regex101.com/\n",
    "\n",
    "They allow you to specify a **pattern** of text to search for.  \n",
    "\n",
    "* Email addresses have @ symbols in the middle\n",
    "* US social security numbers have nine digits and two hyphens\n",
    "* website URLs often have periods and forward slashes\n",
    "* News headlines use title case\n",
    "* Social media hashtags begin with # and contain no spaces, and more.\n",
    "\n",
    "\n",
    "**Regular expressions are huge time-savers, not just for software users but also for programmers.**\n"
   ]
  },
  {
   "attachments": {},
   "cell_type": "markdown",
   "metadata": {},
   "source": [
    "## Finding Patterns of Text Without Regular Expressions\n",
    "\n",
    "Say you want to find an American phone number in a string. You know the pattern if you’re American: three numbers, a hyphen, three numbers, a hyphen, and four numbers. Here’s an example: 415-555-4242.\n",
    "\n",
    "Let's write a function that helps us recognize a phone number."
   ]
  },
  {
   "cell_type": "code",
   "execution_count": 1,
   "metadata": {},
   "outputs": [],
   "source": [
    "def isPhoneNumber(text):\n",
    "    \n",
    "    if len(text) != 12:\n",
    "        return False\n",
    "        \n",
    "    for i in range(0,3):\n",
    "\n",
    "        if not text[i].isdecimal():\n",
    "            return False\n",
    "    \n",
    "    if text[3] != '-':\n",
    "        return False\n",
    "\n",
    "    for i in range(4,7):\n",
    "\n",
    "        if not text[i].isdecimal():\n",
    "            return False\n",
    "\n",
    "    if text[7] != '-':\n",
    "        return False\n",
    "\n",
    "    for i in range(8,12):\n",
    "\n",
    "        if not text[i].isdecimal():\n",
    "            return False\n",
    "    else:\n",
    "        return True\n",
    "\n",
    "    \n",
    "    "
   ]
  },
  {
   "cell_type": "code",
   "execution_count": 6,
   "metadata": {},
   "outputs": [
    {
     "data": {
      "text/plain": [
       "True"
      ]
     },
     "execution_count": 6,
     "metadata": {},
     "output_type": "execute_result"
    }
   ],
   "source": [
    "text = '333-555-4955'\n",
    "\n",
    "isPhoneNumber(text)"
   ]
  },
  {
   "cell_type": "code",
   "execution_count": 7,
   "metadata": {},
   "outputs": [
    {
     "data": {
      "text/plain": [
       "False"
      ]
     },
     "execution_count": 7,
     "metadata": {},
     "output_type": "execute_result"
    }
   ],
   "source": [
    "text = '5333-555-4955'\n",
    "\n",
    "isPhoneNumber(text)"
   ]
  },
  {
   "cell_type": "code",
   "execution_count": 8,
   "metadata": {},
   "outputs": [
    {
     "data": {
      "text/plain": [
       "False"
      ]
     },
     "execution_count": 8,
     "metadata": {},
     "output_type": "execute_result"
    }
   ],
   "source": [
    "text = 'omg-god-what'\n",
    "\n",
    "isPhoneNumber(text)"
   ]
  },
  {
   "attachments": {},
   "cell_type": "markdown",
   "metadata": {},
   "source": [
    "**If you wanted to find a phone number within a larger string, you would have to add even more code to find the phone number pattern.**\n",
    "\n",
    "So it really took us a lot of effort to check whether a list of character in a string is a phone number or not.\n",
    "With regulra expressions we can simplify this process really easly."
   ]
  },
  {
   "cell_type": "code",
   "execution_count": 13,
   "metadata": {},
   "outputs": [
    {
     "name": "stdout",
     "output_type": "stream",
     "text": [
      "Phone number found: 415-555-1011\n",
      "Phone number found: 415-555-9999\n"
     ]
    }
   ],
   "source": [
    "message = 'Call me at 415-555-1011 tomorrow. 415-555-9999 is my office.'\n",
    "\n",
    "for i in range(len(message)):\n",
    "\n",
    "    chunck = message[i:i+12]\n",
    "\n",
    "    if isPhoneNumber(chunck):   # we don't have to put equals True as it is by default!!!\n",
    "        print(f'Phone number found: {chunck}')"
   ]
  },
  {
   "attachments": {},
   "cell_type": "markdown",
   "metadata": {},
   "source": [
    "While the string in message is short in this example, it could be millions of characters long and the program would still run in less than a second. A similar program that finds phone numbers using **regular expressions would also run in less than a second, but regular expressions make it quicker to write these programs.**"
   ]
  },
  {
   "cell_type": "code",
   "execution_count": 14,
   "metadata": {},
   "outputs": [
    {
     "ename": "TypeError",
     "evalue": "can only concatenate str (not \"int\") to str",
     "output_type": "error",
     "traceback": [
      "\u001b[1;31m---------------------------------------------------------------------------\u001b[0m",
      "\u001b[1;31mTypeError\u001b[0m                                 Traceback (most recent call last)",
      "Cell \u001b[1;32mIn[14], line 5\u001b[0m\n\u001b[0;32m      1\u001b[0m message \u001b[39m=\u001b[39m \u001b[39m'\u001b[39m\u001b[39mCall me at 415-555-1011 tomorrow. 415-555-9999 is my office.\u001b[39m\u001b[39m'\u001b[39m\n\u001b[0;32m      3\u001b[0m \u001b[39mfor\u001b[39;00m i \u001b[39min\u001b[39;00m message:\n\u001b[1;32m----> 5\u001b[0m     chunck \u001b[39m=\u001b[39m message[i:i\u001b[39m+\u001b[39;49m\u001b[39m12\u001b[39;49m]\n\u001b[0;32m      7\u001b[0m     \u001b[39mif\u001b[39;00m isPhoneNumber(chunck):   \u001b[39m# we don't have to put equals True as it is by default!!!\u001b[39;00m\n\u001b[0;32m      8\u001b[0m         \u001b[39mprint\u001b[39m(\u001b[39mf\u001b[39m\u001b[39m'\u001b[39m\u001b[39mPhone number found: \u001b[39m\u001b[39m{\u001b[39;00mchunck\u001b[39m}\u001b[39;00m\u001b[39m'\u001b[39m)\n",
      "\u001b[1;31mTypeError\u001b[0m: can only concatenate str (not \"int\") to str"
     ]
    }
   ],
   "source": [
    "message = 'Call me at 415-555-1011 tomorrow. 415-555-9999 is my office.'\n",
    "\n",
    "\n",
    "''' I cannot iterate like this as in this situation i is a character and not a number and io canno't \n",
    "    add 12 to it.\n",
    "'''\n",
    "for i in message:\n",
    "\n",
    "    chunck = message[i:i+12]\n",
    "\n",
    "    if isPhoneNumber(chunck):   # we don't have to put equals True as it is by default!!!\n",
    "        print(f'Phone number found: {chunck}')"
   ]
  },
  {
   "attachments": {},
   "cell_type": "markdown",
   "metadata": {},
   "source": [
    "## Finding Patterns of Text with Regular Expressions\n",
    "\n",
    "The previous phone number–finding program works, but it uses a lot of code to do something limited: the isPhoneNumber() function is 17 lines but can find only one pattern of phone numbers. What about a phone number formatted like 415.555.4242 or (415) 555-4242? What if the phone number had an extension, like 415-555-4242 x99?\n",
    "\n",
    "In General it is better to have those patterns quite elastic in order to accomodate any future changes and specific situations. A function like the one from before is not the best way to achieve that \n",
    "\n",
    "**Regular expressions are descriptions for a pattern of text.**\n",
    "\n",
    " For example, a \\d in a regex stands for a digit character—that is, any single numeral from 0 to 9. \n",
    " \n",
    " * *\\d\\d\\d-\\d\\d\\d-\\d\\d\\d\\d* mathces the pattern from the previous isPhoneNumber() function did\n",
    " * *\\d{3}-\\d{3}-\\d{4}* also matches the correct phone number format."
   ]
  },
  {
   "attachments": {},
   "cell_type": "markdown",
   "metadata": {},
   "source": [
    "### Creating Regex Objects\n",
    "\n",
    "All the regex functions in Python are in the **re module**. But we can use a site like regex101 to write directly the regular expression into python\n",
    "\n",
    "Passing a string value representing your regular expression to re.compile() **returns a Regex pattern object (or simply, a Regex object).**"
   ]
  },
  {
   "cell_type": "code",
   "execution_count": 16,
   "metadata": {},
   "outputs": [],
   "source": [
    "import re"
   ]
  },
  {
   "cell_type": "code",
   "execution_count": 18,
   "metadata": {},
   "outputs": [],
   "source": [
    "phoneMuberRegex = re.compile(r'\\d\\d\\d-\\d\\d\\d-\\d\\d\\d\\d')\n",
    "\n",
    "# Now the phoneNumRegex variable contains a Regex object"
   ]
  },
  {
   "attachments": {},
   "cell_type": "markdown",
   "metadata": {},
   "source": [
    "### Matching Regex Objects\n",
    "\n",
    "A Regex object’s **search() METHOD** searches the string it is passed for any matches to the regex. The **search() METHOD** will return **None** if the regex pattern is not found in the string. If the pattern is found, the **search() METHOD** returns a **Match object**, which have a **group() METHOD** that will return the actual matched text from the searched string. "
   ]
  },
  {
   "cell_type": "code",
   "execution_count": 21,
   "metadata": {},
   "outputs": [
    {
     "name": "stdout",
     "output_type": "stream",
     "text": [
      "Phone number found: 415-555-4242\n"
     ]
    }
   ],
   "source": [
    "phoneMuberRegex = re.compile(r'\\d\\d\\d-\\d\\d\\d-\\d\\d\\d\\d')\n",
    "\n",
    "\n",
    "# The mo variable name is just a generic name to use for Match objects.\n",
    "mo = phoneMuberRegex.search('My number is 415-555-4242.')\n",
    "\n",
    "print(f'Phone number found: {mo.group()}')\n"
   ]
  },
  {
   "attachments": {},
   "cell_type": "markdown",
   "metadata": {},
   "source": [
    "1. **Pass our desired pattern to re.compile()** and store the resulting Regex object in phoneNumRegex. \n",
    "2. **Call search()** on phoneNumRegex **and pass search() the string we want to match** for during the search\n",
    "3. **The result of the search gets stored in the variable mo**. \n",
    "4. Knowing that mo contains a Match object and not the null value None, **we can call group()** on mo to return the match.\n",
    "5. Writing mo.group() inside our print() function call displays the whole match, 415-555-4242."
   ]
  },
  {
   "attachments": {},
   "cell_type": "markdown",
   "metadata": {},
   "source": [
    "### Review of Regular Expression Matching\n",
    "\n",
    "1. Import the regex module with import re.\n",
    "2. Create a Regex object with the re.compile() function. (Remember to use a raw string.)\n",
    "3. Pass the string you want to search into the Regex object’s search() method. This returns a Match object.\n",
    "4. Call the Match object’s group() method to return a string of the actual matched text."
   ]
  },
  {
   "attachments": {},
   "cell_type": "markdown",
   "metadata": {},
   "source": [
    "## Pattern Matching with Regular Expressions\n",
    "### Grouping with parentheses\n",
    "\n",
    "Say you want to separate the area code from the rest of the phone number. Adding parentheses will create groups in the regex: **(\\d\\d\\d)-(\\d\\d\\d-\\d\\d\\d\\d).** Then you can use the group() match object method to grab the matching text from just one group.\n",
    "\n",
    "* The **first** set of parentheses will be group 1 -> **(\\d\\d\\d)**\n",
    "* The **second** set of parentheses will be group 2 -> **(\\d\\d\\d- \\d\\d\\d\\d)**\n",
    "\n",
    " By passing the integer 1 or 2 to the group() match object method, you can grab different parts of the matched text."
   ]
  },
  {
   "cell_type": "code",
   "execution_count": 33,
   "metadata": {},
   "outputs": [],
   "source": [
    "phoneMuberRegex = re.compile(r'(\\d\\d\\d)-(\\d\\d\\d-\\d\\d\\d\\d)')\n",
    "\n",
    "\n",
    "# The mo variable name is just a generic name to use for Match objects.\n",
    "mo = phoneMuberRegex.search('My number is 415-555-4242')"
   ]
  },
  {
   "cell_type": "code",
   "execution_count": 35,
   "metadata": {},
   "outputs": [
    {
     "data": {
      "text/plain": [
       "'415'"
      ]
     },
     "execution_count": 35,
     "metadata": {},
     "output_type": "execute_result"
    }
   ],
   "source": [
    "mo.group(1) # gives the first group"
   ]
  },
  {
   "cell_type": "code",
   "execution_count": 36,
   "metadata": {},
   "outputs": [
    {
     "data": {
      "text/plain": [
       "'555-4242'"
      ]
     },
     "execution_count": 36,
     "metadata": {},
     "output_type": "execute_result"
    }
   ],
   "source": [
    "mo.group(2) # gives the second group"
   ]
  },
  {
   "cell_type": "code",
   "execution_count": 38,
   "metadata": {},
   "outputs": [
    {
     "data": {
      "text/plain": [
       "'415-555-4242'"
      ]
     },
     "execution_count": 38,
     "metadata": {},
     "output_type": "execute_result"
    }
   ],
   "source": [
    "mo.group() # gives all the expression"
   ]
  },
  {
   "cell_type": "code",
   "execution_count": 39,
   "metadata": {},
   "outputs": [
    {
     "data": {
      "text/plain": [
       "'415-555-4242'"
      ]
     },
     "execution_count": 39,
     "metadata": {},
     "output_type": "execute_result"
    }
   ],
   "source": [
    "mo.group(0) # gives all the expression"
   ]
  },
  {
   "attachments": {},
   "cell_type": "markdown",
   "metadata": {},
   "source": [
    "If you would like to retrieve all the groups at once, use the **groups() METHOD** (NOTE: the plural form for the name.)\n",
    "\n",
    "Since mo.groups() returns a tuple of multiple values, y**ou can use the multiple-assignment trick to assign each value to a separate variable**, as in the previous areaCode, mainNumber = mo.groups()"
   ]
  },
  {
   "cell_type": "code",
   "execution_count": 46,
   "metadata": {},
   "outputs": [],
   "source": [
    "areaCode, mainNumber = mo.groups()"
   ]
  },
  {
   "cell_type": "code",
   "execution_count": 47,
   "metadata": {},
   "outputs": [
    {
     "data": {
      "text/plain": [
       "'415'"
      ]
     },
     "execution_count": 47,
     "metadata": {},
     "output_type": "execute_result"
    }
   ],
   "source": [
    "areaCode"
   ]
  },
  {
   "cell_type": "code",
   "execution_count": 48,
   "metadata": {},
   "outputs": [
    {
     "data": {
      "text/plain": [
       "'555-4242'"
      ]
     },
     "execution_count": 48,
     "metadata": {},
     "output_type": "execute_result"
    }
   ],
   "source": [
    "mainNumber"
   ]
  },
  {
   "attachments": {},
   "cell_type": "markdown",
   "metadata": {},
   "source": [
    "Parentheses have a special meaning in regular expressions, but w*hat do you do if you need to match a parenthesis in your text?*  \n",
    "For instance, maybe the phone numbers you are trying to match have the area code set in parentheses. In this case, **you need to escape the ( and ) characters with a backslash.**\n",
    "\n",
    "\n",
    "The **\\\\(** and **\\\\)** escape characters in the raw string passed to re.compile() will match actual parenthesis characters."
   ]
  },
  {
   "cell_type": "code",
   "execution_count": 54,
   "metadata": {},
   "outputs": [],
   "source": [
    "phoneMuberRegex = re.compile(r'(\\(\\d\\d\\d\\)) (\\d\\d\\d-\\d\\d\\d\\d)')\n",
    "\n",
    "\n",
    "# The mo variable name is just a generic name to use for Match objects.\n",
    "mo = phoneMuberRegex.search('My number is (415) 555-4242')"
   ]
  },
  {
   "cell_type": "code",
   "execution_count": 55,
   "metadata": {},
   "outputs": [
    {
     "data": {
      "text/plain": [
       "'(415)'"
      ]
     },
     "execution_count": 55,
     "metadata": {},
     "output_type": "execute_result"
    }
   ],
   "source": [
    "mo.group(1)"
   ]
  },
  {
   "cell_type": "code",
   "execution_count": 56,
   "metadata": {},
   "outputs": [
    {
     "data": {
      "text/plain": [
       "'555-4242'"
      ]
     },
     "execution_count": 56,
     "metadata": {},
     "output_type": "execute_result"
    }
   ],
   "source": [
    "mo.group(2)"
   ]
  },
  {
   "attachments": {},
   "cell_type": "markdown",
   "metadata": {},
   "source": [
    "In regular expressions, the following characters have special meanings:\n",
    "\n",
    ".  ^  $  *  +  ?  {  }  [  ]  \\  |  (  )\n",
    "\n",
    "If you want to detect these characters as part of your text pattern, you need to escape them with a backslash:\n",
    "\n",
    "\\\\.  \\\\^    \\\\$    \\\\*    \\\\+    \\\\?    \\\\{    \\\\}    \\\\[    \\\\]    \\\\\\    \\\\|    \\\\(    \\\\)\n",
    "\n",
    "Make sure to double-check that you haven’t mistaken escaped parentheses \\\\( and \\\\) for parentheses ( and ) in a regular expression. If you receive an error message about “missing )” or “unbalanced parenthesis,” you may have forgotten to include the closing unescaped parenthesis for a group"
   ]
  },
  {
   "cell_type": "code",
   "execution_count": 57,
   "metadata": {},
   "outputs": [
    {
     "ename": "error",
     "evalue": "missing ), unterminated subpattern at position 0",
     "output_type": "error",
     "traceback": [
      "\u001b[1;31m---------------------------------------------------------------------------\u001b[0m",
      "\u001b[1;31merror\u001b[0m                                     Traceback (most recent call last)",
      "Cell \u001b[1;32mIn[57], line 1\u001b[0m\n\u001b[1;32m----> 1\u001b[0m re\u001b[39m.\u001b[39;49mcompile(\u001b[39mr\u001b[39;49m\u001b[39m'\u001b[39;49m\u001b[39m(\u001b[39;49m\u001b[39m\\\u001b[39;49m\u001b[39m(Parentheses\u001b[39;49m\u001b[39m\\\u001b[39;49m\u001b[39m)\u001b[39;49m\u001b[39m'\u001b[39;49m)\n",
      "File \u001b[1;32mc:\\Users\\jakub\\AppData\\Local\\Programs\\Python\\Python311\\Lib\\re\\__init__.py:227\u001b[0m, in \u001b[0;36mcompile\u001b[1;34m(pattern, flags)\u001b[0m\n\u001b[0;32m    225\u001b[0m \u001b[39mdef\u001b[39;00m \u001b[39mcompile\u001b[39m(pattern, flags\u001b[39m=\u001b[39m\u001b[39m0\u001b[39m):\n\u001b[0;32m    226\u001b[0m     \u001b[39m\"\u001b[39m\u001b[39mCompile a regular expression pattern, returning a Pattern object.\u001b[39m\u001b[39m\"\u001b[39m\n\u001b[1;32m--> 227\u001b[0m     \u001b[39mreturn\u001b[39;00m _compile(pattern, flags)\n",
      "File \u001b[1;32mc:\\Users\\jakub\\AppData\\Local\\Programs\\Python\\Python311\\Lib\\re\\__init__.py:294\u001b[0m, in \u001b[0;36m_compile\u001b[1;34m(pattern, flags)\u001b[0m\n\u001b[0;32m    288\u001b[0m     \u001b[39mimport\u001b[39;00m \u001b[39mwarnings\u001b[39;00m\n\u001b[0;32m    289\u001b[0m     warnings\u001b[39m.\u001b[39mwarn(\u001b[39m\"\u001b[39m\u001b[39mThe re.TEMPLATE/re.T flag is deprecated \u001b[39m\u001b[39m\"\u001b[39m\n\u001b[0;32m    290\u001b[0m               \u001b[39m\"\u001b[39m\u001b[39mas it is an undocumented flag \u001b[39m\u001b[39m\"\u001b[39m\n\u001b[0;32m    291\u001b[0m               \u001b[39m\"\u001b[39m\u001b[39mwithout an obvious purpose. \u001b[39m\u001b[39m\"\u001b[39m\n\u001b[0;32m    292\u001b[0m               \u001b[39m\"\u001b[39m\u001b[39mDon\u001b[39m\u001b[39m'\u001b[39m\u001b[39mt use it.\u001b[39m\u001b[39m\"\u001b[39m,\n\u001b[0;32m    293\u001b[0m               \u001b[39mDeprecationWarning\u001b[39;00m)\n\u001b[1;32m--> 294\u001b[0m p \u001b[39m=\u001b[39m _compiler\u001b[39m.\u001b[39;49mcompile(pattern, flags)\n\u001b[0;32m    295\u001b[0m \u001b[39mif\u001b[39;00m \u001b[39mnot\u001b[39;00m (flags \u001b[39m&\u001b[39m DEBUG):\n\u001b[0;32m    296\u001b[0m     \u001b[39mif\u001b[39;00m \u001b[39mlen\u001b[39m(_cache) \u001b[39m>\u001b[39m\u001b[39m=\u001b[39m _MAXCACHE:\n\u001b[0;32m    297\u001b[0m         \u001b[39m# Drop the oldest item\u001b[39;00m\n",
      "File \u001b[1;32mc:\\Users\\jakub\\AppData\\Local\\Programs\\Python\\Python311\\Lib\\re\\_compiler.py:743\u001b[0m, in \u001b[0;36mcompile\u001b[1;34m(p, flags)\u001b[0m\n\u001b[0;32m    741\u001b[0m \u001b[39mif\u001b[39;00m isstring(p):\n\u001b[0;32m    742\u001b[0m     pattern \u001b[39m=\u001b[39m p\n\u001b[1;32m--> 743\u001b[0m     p \u001b[39m=\u001b[39m _parser\u001b[39m.\u001b[39;49mparse(p, flags)\n\u001b[0;32m    744\u001b[0m \u001b[39melse\u001b[39;00m:\n\u001b[0;32m    745\u001b[0m     pattern \u001b[39m=\u001b[39m \u001b[39mNone\u001b[39;00m\n",
      "File \u001b[1;32mc:\\Users\\jakub\\AppData\\Local\\Programs\\Python\\Python311\\Lib\\re\\_parser.py:980\u001b[0m, in \u001b[0;36mparse\u001b[1;34m(str, flags, state)\u001b[0m\n\u001b[0;32m    977\u001b[0m state\u001b[39m.\u001b[39mflags \u001b[39m=\u001b[39m flags\n\u001b[0;32m    978\u001b[0m state\u001b[39m.\u001b[39mstr \u001b[39m=\u001b[39m \u001b[39mstr\u001b[39m\n\u001b[1;32m--> 980\u001b[0m p \u001b[39m=\u001b[39m _parse_sub(source, state, flags \u001b[39m&\u001b[39;49m SRE_FLAG_VERBOSE, \u001b[39m0\u001b[39;49m)\n\u001b[0;32m    981\u001b[0m p\u001b[39m.\u001b[39mstate\u001b[39m.\u001b[39mflags \u001b[39m=\u001b[39m fix_flags(\u001b[39mstr\u001b[39m, p\u001b[39m.\u001b[39mstate\u001b[39m.\u001b[39mflags)\n\u001b[0;32m    983\u001b[0m \u001b[39mif\u001b[39;00m source\u001b[39m.\u001b[39mnext \u001b[39mis\u001b[39;00m \u001b[39mnot\u001b[39;00m \u001b[39mNone\u001b[39;00m:\n",
      "File \u001b[1;32mc:\\Users\\jakub\\AppData\\Local\\Programs\\Python\\Python311\\Lib\\re\\_parser.py:455\u001b[0m, in \u001b[0;36m_parse_sub\u001b[1;34m(source, state, verbose, nested)\u001b[0m\n\u001b[0;32m    453\u001b[0m start \u001b[39m=\u001b[39m source\u001b[39m.\u001b[39mtell()\n\u001b[0;32m    454\u001b[0m \u001b[39mwhile\u001b[39;00m \u001b[39mTrue\u001b[39;00m:\n\u001b[1;32m--> 455\u001b[0m     itemsappend(_parse(source, state, verbose, nested \u001b[39m+\u001b[39;49m \u001b[39m1\u001b[39;49m,\n\u001b[0;32m    456\u001b[0m                        \u001b[39mnot\u001b[39;49;00m nested \u001b[39mand\u001b[39;49;00m \u001b[39mnot\u001b[39;49;00m items))\n\u001b[0;32m    457\u001b[0m     \u001b[39mif\u001b[39;00m \u001b[39mnot\u001b[39;00m sourcematch(\u001b[39m\"\u001b[39m\u001b[39m|\u001b[39m\u001b[39m\"\u001b[39m):\n\u001b[0;32m    458\u001b[0m         \u001b[39mbreak\u001b[39;00m\n",
      "File \u001b[1;32mc:\\Users\\jakub\\AppData\\Local\\Programs\\Python\\Python311\\Lib\\re\\_parser.py:865\u001b[0m, in \u001b[0;36m_parse\u001b[1;34m(source, state, verbose, nested, first)\u001b[0m\n\u001b[0;32m    863\u001b[0m p \u001b[39m=\u001b[39m _parse_sub(source, state, sub_verbose, nested \u001b[39m+\u001b[39m \u001b[39m1\u001b[39m)\n\u001b[0;32m    864\u001b[0m \u001b[39mif\u001b[39;00m \u001b[39mnot\u001b[39;00m source\u001b[39m.\u001b[39mmatch(\u001b[39m\"\u001b[39m\u001b[39m)\u001b[39m\u001b[39m\"\u001b[39m):\n\u001b[1;32m--> 865\u001b[0m     \u001b[39mraise\u001b[39;00m source\u001b[39m.\u001b[39merror(\u001b[39m\"\u001b[39m\u001b[39mmissing ), unterminated subpattern\u001b[39m\u001b[39m\"\u001b[39m,\n\u001b[0;32m    866\u001b[0m                        source\u001b[39m.\u001b[39mtell() \u001b[39m-\u001b[39m start)\n\u001b[0;32m    867\u001b[0m \u001b[39mif\u001b[39;00m group \u001b[39mis\u001b[39;00m \u001b[39mnot\u001b[39;00m \u001b[39mNone\u001b[39;00m:\n\u001b[0;32m    868\u001b[0m     state\u001b[39m.\u001b[39mclosegroup(group, p)\n",
      "\u001b[1;31merror\u001b[0m: missing ), unterminated subpattern at position 0"
     ]
    }
   ],
   "source": [
    "re.compile(r'(\\(Parentheses\\)')"
   ]
  },
  {
   "cell_type": "code",
   "execution_count": 58,
   "metadata": {},
   "outputs": [
    {
     "data": {
      "text/plain": [
       "re.compile(r'(\\(Parentheses\\))', re.UNICODE)"
      ]
     },
     "execution_count": 58,
     "metadata": {},
     "output_type": "execute_result"
    }
   ],
   "source": [
    "re.compile(r'(\\(Parentheses\\))')"
   ]
  },
  {
   "attachments": {},
   "cell_type": "markdown",
   "metadata": {},
   "source": [
    "### Matching Multiple Groups with the Pipe\n",
    "\n",
    "The **| character is called a pipe.** You can use it anywhere you want to match one of many expressions.  \n",
    "For example, the regular expression r'Batman|Tina Fey' will match either 'Batman' or 'Tina Fey'.\n",
    "\n",
    "When both Batman and Tina Fey occur in the searched string, **the first occurrence of matching text** will be returned as the Match object.\n",
    "\n",
    "**What this means is tht the first between the two to appear in teh text will be retrived**"
   ]
  },
  {
   "cell_type": "code",
   "execution_count": 59,
   "metadata": {},
   "outputs": [
    {
     "data": {
      "text/plain": [
       "'Batman'"
      ]
     },
     "execution_count": 59,
     "metadata": {},
     "output_type": "execute_result"
    }
   ],
   "source": [
    "heroRegex = re.compile (r'Batman|Tina Fey')\n",
    "mo1 = heroRegex.search('Batman and Tina Fey')\n",
    "mo1.group()"
   ]
  },
  {
   "cell_type": "code",
   "execution_count": 61,
   "metadata": {},
   "outputs": [
    {
     "data": {
      "text/plain": [
       "'Tina Fey'"
      ]
     },
     "execution_count": 61,
     "metadata": {},
     "output_type": "execute_result"
    }
   ],
   "source": [
    "heroRegex = re.compile (r'Batman|Tina Fey')\n",
    "mo1 = heroRegex.search('Tina Fey and Batman')\n",
    "mo1.group()"
   ]
  },
  {
   "attachments": {},
   "cell_type": "markdown",
   "metadata": {},
   "source": [
    "**You can also use the pipe to match one of several patterns as part of your regex**.  \n",
    "For example, say you wanted to match any of the strings 'Batman', 'Batmobile', 'Batcopter', and 'Batbat'. Since all these strings start with Bat, it would be nice if you could specify that prefix only once. This can be done with parentheses."
   ]
  },
  {
   "cell_type": "code",
   "execution_count": 63,
   "metadata": {},
   "outputs": [
    {
     "data": {
      "text/plain": [
       "'Batmobile'"
      ]
     },
     "execution_count": 63,
     "metadata": {},
     "output_type": "execute_result"
    }
   ],
   "source": [
    "batRegex = re.compile(r'Bat(man|mobile|copter|bat)')\n",
    "\n",
    "mo = batRegex.search('Batmobile lost a wheel')\n",
    "\n",
    "mo.group()"
   ]
  },
  {
   "cell_type": "code",
   "execution_count": 64,
   "metadata": {},
   "outputs": [
    {
     "data": {
      "text/plain": [
       "'mobile'"
      ]
     },
     "execution_count": 64,
     "metadata": {},
     "output_type": "execute_result"
    }
   ],
   "source": [
    "mo.group(1) \n",
    "\n",
    "'''\n",
    "It shows me the element of that group that was retrived. In this case the 'mobile'\n",
    "an important thing is that we don't have 2 groups here but just one \n",
    "\n",
    "Bat is not part of any group, to retrive that we should have put that into parentheses\n",
    "'''"
   ]
  },
  {
   "cell_type": "code",
   "execution_count": 67,
   "metadata": {},
   "outputs": [
    {
     "data": {
      "text/plain": [
       "'Batmobile'"
      ]
     },
     "execution_count": 67,
     "metadata": {},
     "output_type": "execute_result"
    }
   ],
   "source": [
    "mo.group(0)"
   ]
  },
  {
   "attachments": {},
   "cell_type": "markdown",
   "metadata": {},
   "source": [
    "If i want to retrive Bat as well from my group i have to put it into parentheses\n",
    "\n",
    "The method call mo.group() returns the full matched text 'Batmobile', while mo.group(1) returns just the part of the matched text inside the first parentheses group, 'mobile'. By using the pipe character and grouping parentheses, you can specify several alternative patterns you would like your regex to match."
   ]
  },
  {
   "cell_type": "code",
   "execution_count": 68,
   "metadata": {},
   "outputs": [
    {
     "data": {
      "text/plain": [
       "'Batmobile'"
      ]
     },
     "execution_count": 68,
     "metadata": {},
     "output_type": "execute_result"
    }
   ],
   "source": [
    "batRegex = re.compile(r'(Bat)(man|mobile|copter|bat)')\n",
    "\n",
    "mo = batRegex.search('Batmobile lost a wheel')\n",
    "\n",
    "mo.group()"
   ]
  },
  {
   "cell_type": "code",
   "execution_count": 69,
   "metadata": {},
   "outputs": [
    {
     "data": {
      "text/plain": [
       "'Bat'"
      ]
     },
     "execution_count": 69,
     "metadata": {},
     "output_type": "execute_result"
    }
   ],
   "source": [
    "mo.group(1)"
   ]
  },
  {
   "cell_type": "code",
   "execution_count": 70,
   "metadata": {},
   "outputs": [
    {
     "data": {
      "text/plain": [
       "'mobile'"
      ]
     },
     "execution_count": 70,
     "metadata": {},
     "output_type": "execute_result"
    }
   ],
   "source": [
    "mo.group(2)"
   ]
  },
  {
   "attachments": {},
   "cell_type": "markdown",
   "metadata": {},
   "source": [
    "### Optional Matching with the Question Mark\n",
    "\n",
    "Sometimes there is a pattern that you want to match only optionally. That is, the regex should find a match regardless of whether that bit of text is there.  \n",
    "The **(?) character** flags the group that precedes **(just the one group/character that is preceeding)** it as an optional part of the pattern. Of course it can be used \n",
    "also with just a character for example:\n",
    "\n",
    "**Batw?o?man** *this will do the same as the grouped (?), but we do the same operation twice first we check for an optional 'w' than for an optional 'o'*\n",
    "\n",
    "The (wo)? part of the regular expression means that **the pattern wo is an optional group**. The regex will match text that has zero instances or one instance of wo in it. This is why the regex matches both 'Batwoman' and 'Batman'."
   ]
  },
  {
   "cell_type": "code",
   "execution_count": 76,
   "metadata": {},
   "outputs": [
    {
     "data": {
      "text/plain": [
       "'Batman'"
      ]
     },
     "execution_count": 76,
     "metadata": {},
     "output_type": "execute_result"
    }
   ],
   "source": [
    "batRegex = re.compile(r'Bat(wo)?man')\n",
    "\n",
    "mo1 = batRegex.search('The Adventures of Batman')\n",
    "\n",
    "mo1.group()"
   ]
  },
  {
   "cell_type": "code",
   "execution_count": 78,
   "metadata": {},
   "outputs": [
    {
     "data": {
      "text/plain": [
       "'Batwoman'"
      ]
     },
     "execution_count": 78,
     "metadata": {},
     "output_type": "execute_result"
    }
   ],
   "source": [
    "batRegex = re.compile(r'Bat(wo)?man')\n",
    "\n",
    "mo1 = batRegex.search('The Adventures of Batwoman')\n",
    "\n",
    "mo1.group()"
   ]
  },
  {
   "cell_type": "code",
   "execution_count": 88,
   "metadata": {},
   "outputs": [
    {
     "data": {
      "text/plain": [
       "'Batwoman'"
      ]
     },
     "execution_count": 88,
     "metadata": {},
     "output_type": "execute_result"
    }
   ],
   "source": [
    "batRegex = re.compile(r'Batw?o?man')\n",
    "\n",
    "mo1 = batRegex.search('The Adventures of Batwoman')\n",
    "\n",
    "mo1.group()"
   ]
  },
  {
   "attachments": {},
   "cell_type": "markdown",
   "metadata": {},
   "source": [
    "Using the earlier phone number example, you can make the regex look for phone numbers that do or do not have an area code. "
   ]
  },
  {
   "cell_type": "code",
   "execution_count": 87,
   "metadata": {},
   "outputs": [
    {
     "data": {
      "text/plain": [
       "'415-555-4242'"
      ]
     },
     "execution_count": 87,
     "metadata": {},
     "output_type": "execute_result"
    }
   ],
   "source": [
    "phoneRegex = re.compile(r'(\\d\\d\\d-)?\\d\\d\\d-\\d\\d\\d\\d')\n",
    "\n",
    "mo1 = phoneRegex.search('My number is 415-555-4242')\n",
    "\n",
    "mo1.group()"
   ]
  },
  {
   "attachments": {},
   "cell_type": "markdown",
   "metadata": {},
   "source": [
    "### Matching Zero or More with the Star\n",
    "\n",
    "The **(*) means “match zero or more”**—the group that precedes the star can occur any number of times in the text. It can be completely absent or repeated over and over again.  \n",
    "\n",
    "* **(?)** means that the group can be matched **zero or one time**\n",
    "* **(*)** means that the group can be matched **zero or multiple times**\n"
   ]
  },
  {
   "cell_type": "code",
   "execution_count": 89,
   "metadata": {},
   "outputs": [
    {
     "data": {
      "text/plain": [
       "'Batman'"
      ]
     },
     "execution_count": 89,
     "metadata": {},
     "output_type": "execute_result"
    }
   ],
   "source": [
    "batRegex = re.compile(r'Bat(wo)*man')\n",
    "mo1 = batRegex.search('The Adventures of Batman')\n",
    "mo1.group()"
   ]
  },
  {
   "cell_type": "code",
   "execution_count": 95,
   "metadata": {},
   "outputs": [
    {
     "data": {
      "text/plain": [
       "'Batwoman'"
      ]
     },
     "execution_count": 95,
     "metadata": {},
     "output_type": "execute_result"
    }
   ],
   "source": [
    "batRegex = re.compile(r'Bat(wo)*man')\n",
    "mo2 = batRegex.search('The Adventures of Batwoman')\n",
    "mo2.group()"
   ]
  },
  {
   "cell_type": "code",
   "execution_count": 103,
   "metadata": {},
   "outputs": [
    {
     "data": {
      "text/plain": [
       "'Batwowowowoman'"
      ]
     },
     "execution_count": 103,
     "metadata": {},
     "output_type": "execute_result"
    }
   ],
   "source": [
    "batRegex = re.compile(r'Bat(wo)*man')\n",
    "mo3 = batRegex.search('The Adventures of Batwowowowoman')\n",
    "mo3.group()"
   ]
  },
  {
   "attachments": {},
   "cell_type": "markdown",
   "metadata": {},
   "source": [
    "Below we used the (?) and it gives an error as it cannot find that pattern"
   ]
  },
  {
   "cell_type": "code",
   "execution_count": 106,
   "metadata": {},
   "outputs": [
    {
     "name": "stdout",
     "output_type": "stream",
     "text": [
      "No match found\n"
     ]
    }
   ],
   "source": [
    "batRegex = re.compile(r'Bat(wo)?man')\n",
    "try:\n",
    "    mo3 = batRegex.search('The Adventures of Batwowowowoman')\n",
    "    mo3.group()\n",
    "except AttributeError:\n",
    "    print('No match found')\n"
   ]
  },
  {
   "attachments": {},
   "cell_type": "markdown",
   "metadata": {},
   "source": [
    "In regular expressions, the ? and * are quantifiers that specify the number of occurrences of the preceding element. However, they have different meanings and behaviors:\n",
    "\n",
    "* **(?) (Question Mark):**  \n",
    "1. The ? quantifier denotes that the preceding element is optional, and it matches zero or one occurrence of the element.\n",
    "2. For example, the pattern colou?r matches both \"color\" and \"colour\" because the u is optional.\n",
    "3. It is equivalent to {0,1} quantifier.\n",
    "* **(*) (Asterisk):**  \n",
    "1. The * quantifier denotes that the preceding element can occur zero or more times. It matches zero or more occurrences of the element.\n",
    "2. For example, the pattern go*d matches \"gd\" (zero occurrences of \"o\"), \"god\" (one occurrence of \"o\"), \"good\" (two occurrences of \"o\"), and so on.\n",
    "3. It is equivalent to {0,} quantifier.\n",
    "\n",
    "\n",
    "In summary, ? makes the preceding element optional, matching it zero or one time, while * allows the preceding element to occur zero or more times."
   ]
  },
  {
   "attachments": {},
   "cell_type": "markdown",
   "metadata": {},
   "source": [
    "### Matching One or More with the Plus\n",
    "\n",
    "* **(*)** means **ZERO** or MORE\n",
    "* **(+)** means **ONE** or MORE\n",
    "\n",
    "**THERE IS A BIG DIFFERNCES**\n",
    "\n",
    "Unlike the star, which does not require its group to appear in the matched string, **the group preceding a plus must appear AT LEAST ONCE. IT IS NOT OPTIONAL**"
   ]
  },
  {
   "cell_type": "code",
   "execution_count": 110,
   "metadata": {},
   "outputs": [
    {
     "name": "stdout",
     "output_type": "stream",
     "text": [
      "No match found\n"
     ]
    }
   ],
   "source": [
    "batRegex = re.compile(r'Bat(wo)+man')\n",
    "try:\n",
    "    mo3 = batRegex.search('The Adventures of Batman')\n",
    "    mo3.group()\n",
    "except AttributeError:\n",
    "    print('No match found')\n"
   ]
  },
  {
   "cell_type": "code",
   "execution_count": 113,
   "metadata": {},
   "outputs": [
    {
     "data": {
      "text/plain": [
       "True"
      ]
     },
     "execution_count": 113,
     "metadata": {},
     "output_type": "execute_result"
    }
   ],
   "source": [
    "batRegex = re.compile(r'Bat(wo)+man')\n",
    "\n",
    "mo3 = batRegex.search('The Adventures of Batman')\n",
    "\n",
    "mo3 == None"
   ]
  },
  {
   "cell_type": "code",
   "execution_count": 114,
   "metadata": {},
   "outputs": [
    {
     "data": {
      "text/plain": [
       "False"
      ]
     },
     "execution_count": 114,
     "metadata": {},
     "output_type": "execute_result"
    }
   ],
   "source": [
    "batRegex = re.compile(r'Bat(wo)+man')\n",
    "\n",
    "mo3 = batRegex.search('The Adventures of Batwoman')\n",
    "\n",
    "mo3 == None"
   ]
  },
  {
   "cell_type": "code",
   "execution_count": 115,
   "metadata": {},
   "outputs": [
    {
     "data": {
      "text/plain": [
       "'Batwoman'"
      ]
     },
     "execution_count": 115,
     "metadata": {},
     "output_type": "execute_result"
    }
   ],
   "source": [
    "batRegex = re.compile(r'Bat(wo)+man')\n",
    "\n",
    "mo3 = batRegex.search('The Adventures of Batwoman')\n",
    "\n",
    "mo3.group()"
   ]
  },
  {
   "cell_type": "code",
   "execution_count": 116,
   "metadata": {},
   "outputs": [
    {
     "data": {
      "text/plain": [
       "'Batwowowowowoman'"
      ]
     },
     "execution_count": 116,
     "metadata": {},
     "output_type": "execute_result"
    }
   ],
   "source": [
    "batRegex = re.compile(r'Bat(wo)+man')\n",
    "\n",
    "mo3 = batRegex.search('The Adventures of Batwowowowowoman')\n",
    "\n",
    "mo3.group()"
   ]
  },
  {
   "attachments": {},
   "cell_type": "markdown",
   "metadata": {},
   "source": [
    "### Matching Specific Repetitions with Braces\n",
    "\n",
    "If you have a group/character that you want to repeat a specific number of times, follow the group in your regex with a **number in braces**. The number of time s that it has to be repeated can be specified in various ways:\n",
    "\n",
    "1. **Exact number:**    (Ha){3} meaning that just HaHaHa (Ha repeated 3 tiems) will be a match\n",
    "2. **Range:**           (Ha){2,5} meaning that Ha repeated from 2 to 5 times will be a mamtch \n",
    "3. **Unbounded range:** \n",
    "    * (Ha){,3} there is no minimum but the max is 3\n",
    "    * (Ha){2,} there is a minimum of 2 but no maximum \n",
    "                       \n",
    "\n",
    "These two regular expressions match identical patterns.\n",
    "\n",
    "(Ha){3}  \n",
    "(Ha)(Ha)(Ha)\n",
    "\n",
    "Rhese two will match identical patterns as well:  \n",
    "\n",
    "(Ha){3,5}  \n",
    "((Ha)(Ha)(Ha))|((Ha)(Ha)(Ha)(Ha))|((Ha)(Ha)(Ha)(Ha)(Ha))"
   ]
  },
  {
   "cell_type": "code",
   "execution_count": 117,
   "metadata": {},
   "outputs": [
    {
     "data": {
      "text/plain": [
       "'HaHaHa'"
      ]
     },
     "execution_count": 117,
     "metadata": {},
     "output_type": "execute_result"
    }
   ],
   "source": [
    "haRegex = re.compile(r'(Ha){3}')\n",
    "mo1 = haRegex.search('HaHaHa')\n",
    "mo1.group()"
   ]
  },
  {
   "cell_type": "code",
   "execution_count": 120,
   "metadata": {},
   "outputs": [
    {
     "data": {
      "text/plain": [
       "True"
      ]
     },
     "execution_count": 120,
     "metadata": {},
     "output_type": "execute_result"
    }
   ],
   "source": [
    "haRegex = re.compile(r'(Ha){3}')\n",
    "mo1 = haRegex.search('Ha')\n",
    "\n",
    "# This shos that the {} are not optional en we are searchingfor an EXACT match\n",
    "mo1 == None"
   ]
  },
  {
   "attachments": {},
   "cell_type": "markdown",
   "metadata": {},
   "source": [
    "### Greedy and Non-greedy Matching"
   ]
  },
  {
   "cell_type": "code",
   "execution_count": 126,
   "metadata": {},
   "outputs": [
    {
     "data": {
      "text/plain": [
       "'HaHaHaHaHa'"
      ]
     },
     "execution_count": 126,
     "metadata": {},
     "output_type": "execute_result"
    }
   ],
   "source": [
    "haRegex = re.compile(r'(Ha){3,5}')\n",
    "mo1 = haRegex.search('HaHaHaHaHaHaHaHaHaHaHa')\n",
    "mo1.group()"
   ]
  },
  {
   "attachments": {},
   "cell_type": "markdown",
   "metadata": {},
   "source": [
    "Since (Ha){3,5} can match three, four, or five instances of Ha in the string 'HaHaHaHaHa', you may wonder *why the Match object’s call to group() in the previous brace example returns 'HaHaHaHaHa'* instead of the shorter possibilities. After all, 'HaHaHa' and 'HaHaHaHa' are also valid matches of the regular expression (Ha){3,5}.\n",
    "\n",
    "Python’s regular expressions are **GREEDY by default**, which means that in ambiguous situations they **will match the longest string possible**. **The NON-GREEDY** (also called lazy) version of the braces, which matches the shortest string possible, has the closing brace **followed by a question mark**."
   ]
  },
  {
   "cell_type": "code",
   "execution_count": 127,
   "metadata": {},
   "outputs": [
    {
     "data": {
      "text/plain": [
       "'HaHaHa'"
      ]
     },
     "execution_count": 127,
     "metadata": {},
     "output_type": "execute_result"
    }
   ],
   "source": [
    "haRegex = re.compile(r'(Ha){3,5}?')\n",
    "mo1 = haRegex.search('HaHaHaHaHaHaHaHaHaHaHa')\n",
    "mo1.group()"
   ]
  },
  {
   "attachments": {},
   "cell_type": "markdown",
   "metadata": {},
   "source": [
    "Note that the question mark can have two meanings in regular expressions: declaring a non-greedy match or flagging an optional group.**THESE MEAININGS ARE ENTIRELY UNRELATED**"
   ]
  },
  {
   "attachments": {},
   "cell_type": "markdown",
   "metadata": {},
   "source": [
    "### The findall() Method\n",
    "\n",
    "* **search()** returns the **FIRST** match in the searched string\n",
    "* **findall()** returns **ALL** the matches in the searched string"
   ]
  },
  {
   "cell_type": "code",
   "execution_count": 128,
   "metadata": {},
   "outputs": [
    {
     "data": {
      "text/plain": [
       "'415-555-9999'"
      ]
     },
     "execution_count": 128,
     "metadata": {},
     "output_type": "execute_result"
    }
   ],
   "source": [
    "phoneNumRegex = re.compile(r'\\d\\d\\d-\\d\\d\\d-\\d\\d\\d\\d')\n",
    "mo = phoneNumRegex.search('Cell: 415-555-9999 Work: 212-555-0000')\n",
    "mo.group()"
   ]
  },
  {
   "attachments": {},
   "cell_type": "markdown",
   "metadata": {},
   "source": [
    "**findall()** will NOT return a MATCH object but a list of strings **as long as there are no groups in the regular expression**. Each string in the list is a piece of the searched text that matched the regualr expression "
   ]
  },
  {
   "cell_type": "code",
   "execution_count": 130,
   "metadata": {},
   "outputs": [
    {
     "data": {
      "text/plain": [
       "['415-555-9999', '212-555-0000']"
      ]
     },
     "execution_count": 130,
     "metadata": {},
     "output_type": "execute_result"
    }
   ],
   "source": [
    "phoneNumRegex = re.compile(r'\\d\\d\\d-\\d\\d\\d-\\d\\d\\d\\d')  # has no groups \n",
    "mo = phoneNumRegex.findall('Cell: 415-555-9999 Work: 212-555-0000')\n",
    "mo"
   ]
  },
  {
   "attachments": {},
   "cell_type": "markdown",
   "metadata": {},
   "source": [
    "If there are groups in the regular expression, then **findall() will return a list of tuples**. Each tuple represents a found match and its items are the matching strings for each group in the regex"
   ]
  },
  {
   "cell_type": "code",
   "execution_count": 135,
   "metadata": {},
   "outputs": [
    {
     "data": {
      "text/plain": [
       "[('415', '555', '9999'), ('212', '555', '0000')]"
      ]
     },
     "execution_count": 135,
     "metadata": {},
     "output_type": "execute_result"
    }
   ],
   "source": [
    "phoneNumRegex = re.compile(r'(\\d\\d\\d)-(\\d\\d\\d)-(\\d\\d\\d\\d)')  # has no groups \n",
    "mo = phoneNumRegex.findall('Cell: 415-555-9999 Work: 212-555-0000')\n",
    "mo"
   ]
  },
  {
   "cell_type": "code",
   "execution_count": 138,
   "metadata": {},
   "outputs": [
    {
     "data": {
      "text/plain": [
       "['415-555-9999', '212-555-0000']"
      ]
     },
     "execution_count": 138,
     "metadata": {},
     "output_type": "execute_result"
    }
   ],
   "source": [
    "phoneNumRegex = re.compile(r'(\\d\\d\\d-\\d\\d\\d-\\d\\d\\d\\d)')  # has no groups \n",
    "mo = phoneNumRegex.findall('Cell: 415-555-9999 Work: 212-555-0000')\n",
    "mo"
   ]
  },
  {
   "attachments": {},
   "cell_type": "markdown",
   "metadata": {},
   "source": [
    "To summarize what the findall() method returns, remember the following:\n",
    "\n",
    "* **When called on a regex with no groups**, such as \\d\\d\\d-\\d\\d\\d-\\d\\d\\d\\d, the method findall() returns a list of string matches, such as ['415-555-9999', '212-555-0000'].\n",
    "* **When called on a regex that has groups**, such as (\\d\\d\\d)-(\\d\\d\\d)-(\\d\\d\\d\\d), the method findall() returns a list of tuples of strings (one string for each group), such as [('415', '555', '9999'), ('212', '555', '0000')]."
   ]
  },
  {
   "attachments": {
    "image.png": {
     "image/png": "[encoded data removed]"
    }
   },
   "cell_type": "markdown",
   "metadata": {},
   "source": [
    "## Character Classes\n",
    "\n",
    "In the earlier phone number regex example, you learned that \\d could stand for any numeric digit.  \n",
    "*That is, \\d is shorthand for the regular expression (0|1|2|3|4|5|6|7|8|9).*\n",
    "\n",
    "* **?** matches zero or one of the preceding group.\n",
    "* **\\*** matches zero or more of the preceding group.\n",
    "* **+** matches one or more of the preceding group.\n",
    "* **{n}** matches exactly n of the preceding group.\n",
    "* **{n,}** matches n or more of the preceding group.\n",
    "* **{,m}** matches 0 to m of the preceding group.\n",
    "* **{n,m}** matches at least n and at most m of the preceding group.\n",
    "* **{n,m}?** **or *? or +?** performs a non-greedy match of the preceding group.\n",
    "* **^spam** means the string must begin with spam.\n",
    "* **spam$** means the string must end with spam.\n",
    "* **(.)** matches any character, except newline characters.\n",
    "* **\\d, \\w, and \\s** match a digit, word, or space character, respectively.\n",
    "* **\\D, \\W, and \\S** match anything except a digit, word, or space character, respectively.\n",
    "* **[abc]** matches any character between the brackets (such as a, b, or c).\n",
    "* **[^abc]** matches any character that isn’t between the brackets.\n",
    "\n",
    "![image.png](attachment:image.png)"
   ]
  },
  {
   "attachments": {},
   "cell_type": "markdown",
   "metadata": {},
   "source": [
    "Character classes are nice for shortening regular expressions. The character class [0-5] will match only the numbers 0 to 5; this is much shorter than typing (0|1|2|3|4|5). Note that while \\d matches digits and \\w matches digits, letters, and the underscore, **there is no shorthand character class that matches only letters.** (Though you can use the [a-zA-Z] character class, as explained next.)"
   ]
  },
  {
   "cell_type": "code",
   "execution_count": 139,
   "metadata": {},
   "outputs": [
    {
     "data": {
      "text/plain": [
       "['12 drummers',\n",
       " '11 pipers',\n",
       " '10 lords',\n",
       " '9 ladies',\n",
       " '8 maids',\n",
       " '6 geese',\n",
       " '5 rings',\n",
       " '4 birds',\n",
       " '3 hens',\n",
       " '2 doves',\n",
       " '1 partridge']"
      ]
     },
     "execution_count": 139,
     "metadata": {},
     "output_type": "execute_result"
    }
   ],
   "source": [
    "xmasRegex = re.compile(r'\\d+\\s\\w+')\n",
    "xmasRegex.findall('12 drummers, 11 pipers, 10 lords, 9 ladies, 8 maids, 7swans, 6 geese, 5 rings, 4 birds, 3 hens, 2 doves, 1 partridge')\n",
    "\n"
   ]
  },
  {
   "cell_type": "code",
   "execution_count": 144,
   "metadata": {},
   "outputs": [
    {
     "data": {
      "text/plain": [
       "[('12', 'drummers'),\n",
       " ('11', 'pipers'),\n",
       " ('10', 'lords'),\n",
       " ('9', 'ladies'),\n",
       " ('8', 'maids'),\n",
       " ('6', 'geese'),\n",
       " ('5', 'rings'),\n",
       " ('4', 'birds'),\n",
       " ('3', 'hens'),\n",
       " ('2', 'doves'),\n",
       " ('1', 'partridge')]"
      ]
     },
     "execution_count": 144,
     "metadata": {},
     "output_type": "execute_result"
    }
   ],
   "source": [
    "xmasRegex = re.compile(r'(\\d+)\\s(\\w+)')\n",
    "mo = xmasRegex.findall('12 drummers, 11 pipers, 10 lords, 9 ladies, 8 maids, 7swans, 6 geese, 5 rings, 4 birds, 3 hens, 2 doves, 1 partridge')\n",
    "mo\n"
   ]
  },
  {
   "attachments": {},
   "cell_type": "markdown",
   "metadata": {},
   "source": [
    "### Making Your Own Character Classes\n",
    "\n",
    "There are times when you want to match a set of characters but the shorthand character classes (\\d, \\w, \\s, and so on) are too broad. **You can define your own character class using square brackets.**\n",
    "\n",
    "For example, the character class [aeiouAEIOU] will match any vowel, both lowercase and uppercase."
   ]
  },
  {
   "cell_type": "code",
   "execution_count": 145,
   "metadata": {},
   "outputs": [
    {
     "data": {
      "text/plain": [
       "['o', 'o', 'o', 'e', 'a', 'a', 'o', 'o', 'A', 'O', 'O']"
      ]
     },
     "execution_count": 145,
     "metadata": {},
     "output_type": "execute_result"
    }
   ],
   "source": [
    "vowelRegex = re.compile(r'[aeiouAEIOU]')\n",
    "vowelRegex.findall('RoboCop eats baby food. BABY FOOD.')"
   ]
  },
  {
   "attachments": {},
   "cell_type": "markdown",
   "metadata": {},
   "source": [
    "* You can also include **ranges of letters or numbers by using a hyphen**. For example, the character class [a-zA-Z0-9] will match all lowercase letters, uppercase letters, and numbers.  \n",
    "\n",
    "* NOTE THAT inside the square brackets, the normal regular expression symbols are not interpreted as such. This means you DO NOT NEED to escape the ., *, ?, or () characters with a preceding backslash. For example, the character class [0-5.] will match digits 0 to 5 and a period. You do not need to write it as [0-5\\.].\n",
    "\n",
    "* By placing a **caret character (^)** **just after the character class’s opening bracket,** you can make a negative character class. A negative character class will match all the characters that are not in the character class."
   ]
  },
  {
   "cell_type": "code",
   "execution_count": 148,
   "metadata": {},
   "outputs": [
    {
     "data": {
      "text/plain": [
       "['R',\n",
       " 'b',\n",
       " 'C',\n",
       " 'p',\n",
       " ' ',\n",
       " 't',\n",
       " 's',\n",
       " ' ',\n",
       " 'b',\n",
       " 'b',\n",
       " 'y',\n",
       " ' ',\n",
       " 'f',\n",
       " 'd',\n",
       " '.',\n",
       " ' ',\n",
       " 'B',\n",
       " 'B',\n",
       " 'Y',\n",
       " ' ',\n",
       " 'F',\n",
       " 'D',\n",
       " '.']"
      ]
     },
     "execution_count": 148,
     "metadata": {},
     "output_type": "execute_result"
    }
   ],
   "source": [
    "NOvowelRegex = re.compile(r'[^aeiouAEIOU]') \n",
    "# Now, instead of matching every vowel, we’re matching every character that isn’t a vowel.\n",
    "NOvowelRegex.findall('RoboCop eats baby food. BABY FOOD.')"
   ]
  },
  {
   "attachments": {},
   "cell_type": "markdown",
   "metadata": {},
   "source": [
    "### The Caret and Dollar Sign Characters\n",
    "* **caret symbol (^)** at the start of a regex to indicate that a match **must occur at the beginning of the searched text**\n",
    "* **dollar sign ($)** at the end of the regex to indicate the **string must end with this regex pattern.** \n",
    "* And you can use the **^ and $ together** to indicate that the entire string must match the regex—that is, it’s not enough for a match to be made on some subset of the string."
   ]
  },
  {
   "cell_type": "code",
   "execution_count": 157,
   "metadata": {},
   "outputs": [
    {
     "data": {
      "text/plain": [
       "'Hello'"
      ]
     },
     "execution_count": 157,
     "metadata": {},
     "output_type": "execute_result"
    }
   ],
   "source": [
    "beginsWithHello = re.compile(r'^Hello')\n",
    "mo = beginsWithHello.search('Hello, world!')\n",
    "mo.group()"
   ]
  },
  {
   "attachments": {},
   "cell_type": "markdown",
   "metadata": {},
   "source": [
    "The r'\\d$' regular expression string matches strings that end with a numeric character from 0 to 9. "
   ]
  },
  {
   "cell_type": "code",
   "execution_count": 159,
   "metadata": {},
   "outputs": [
    {
     "data": {
      "text/plain": [
       "'2'"
      ]
     },
     "execution_count": 159,
     "metadata": {},
     "output_type": "execute_result"
    }
   ],
   "source": [
    "endsWithNumber = re.compile(r'\\d$')\n",
    "mo = endsWithNumber.search('Your number is 42')\n",
    "mo.group()"
   ]
  },
  {
   "cell_type": "code",
   "execution_count": 160,
   "metadata": {},
   "outputs": [
    {
     "data": {
      "text/plain": [
       "'42'"
      ]
     },
     "execution_count": 160,
     "metadata": {},
     "output_type": "execute_result"
    }
   ],
   "source": [
    "endsWithNumber = re.compile(r'\\d+$')\n",
    "mo = endsWithNumber.search('Your number is 42')\n",
    "mo.group()"
   ]
  },
  {
   "attachments": {},
   "cell_type": "markdown",
   "metadata": {},
   "source": [
    "The r'^\\d+$' regular expression string matches strings that both begin and end with one or more numeric characters. "
   ]
  },
  {
   "cell_type": "code",
   "execution_count": 161,
   "metadata": {},
   "outputs": [
    {
     "data": {
      "text/plain": [
       "'1234567890'"
      ]
     },
     "execution_count": 161,
     "metadata": {},
     "output_type": "execute_result"
    }
   ],
   "source": [
    "wholeStringIsNum = re.compile(r'^\\d+$')\n",
    "mo = wholeStringIsNum.search('1234567890')\n",
    "mo.group()"
   ]
  },
  {
   "cell_type": "code",
   "execution_count": 163,
   "metadata": {},
   "outputs": [
    {
     "data": {
      "text/plain": [
       "'1234567890'"
      ]
     },
     "execution_count": 163,
     "metadata": {},
     "output_type": "execute_result"
    }
   ],
   "source": [
    "wholeStringIsNum = re.compile(r'^\\d+$')\n",
    "mo = wholeStringIsNum.search('1234567890')\n",
    "mo.group()"
   ]
  },
  {
   "cell_type": "code",
   "execution_count": 164,
   "metadata": {},
   "outputs": [
    {
     "data": {
      "text/plain": [
       "True"
      ]
     },
     "execution_count": 164,
     "metadata": {},
     "output_type": "execute_result"
    }
   ],
   "source": [
    "wholeStringIsNum = re.compile(r'^\\d+$')\n",
    "wholeStringIsNum.search('12345xyz67890') == None"
   ]
  },
  {
   "cell_type": "code",
   "execution_count": 165,
   "metadata": {},
   "outputs": [
    {
     "data": {
      "text/plain": [
       "True"
      ]
     },
     "execution_count": 165,
     "metadata": {},
     "output_type": "execute_result"
    }
   ],
   "source": [
    "wholeStringIsNum = re.compile(r'^\\d+$')\n",
    "wholeStringIsNum.search('12345 67890') == None"
   ]
  },
  {
   "attachments": {},
   "cell_type": "markdown",
   "metadata": {},
   "source": [
    "The last two search() calls in the previous interactive shell example demonstrate how **the entire string must match the regex if ^ and $ are used**."
   ]
  },
  {
   "attachments": {},
   "cell_type": "markdown",
   "metadata": {},
   "source": [
    "### The Wildcard Character\n",
    "The **. (or dot) character** in a regular expression is called a wildcard and **will match any character except for a newline.**"
   ]
  },
  {
   "cell_type": "code",
   "execution_count": 167,
   "metadata": {},
   "outputs": [
    {
     "data": {
      "text/plain": [
       "['cat', 'hat', 'sat', 'lat', 'mat']"
      ]
     },
     "execution_count": 167,
     "metadata": {},
     "output_type": "execute_result"
    }
   ],
   "source": [
    "atRegex = re.compile(r'.at')\n",
    "atRegex.findall('The cat in the hat sat on the flat mat.')"
   ]
  },
  {
   "attachments": {},
   "cell_type": "markdown",
   "metadata": {},
   "source": [
    "**Remember that the dot character will match just one character,** which is why the match for the text flat in the previous example matched only lat. To match an actual dot, escape the dot with a backslash: \\.."
   ]
  },
  {
   "cell_type": "code",
   "execution_count": 169,
   "metadata": {},
   "outputs": [
    {
     "data": {
      "text/plain": [
       "[' cat', ' hat', ' sat', 'flat', ' mat']"
      ]
     },
     "execution_count": 169,
     "metadata": {},
     "output_type": "execute_result"
    }
   ],
   "source": [
    "atRegex = re.compile(r'.{,2}at')\n",
    "atRegex.findall('The cat in the hat sat on the flat mat.')"
   ]
  },
  {
   "attachments": {},
   "cell_type": "markdown",
   "metadata": {},
   "source": [
    "### Matching Everything with Dot-Star\n",
    "\n",
    "Sometimes you will want to match everything and anything. For example, say you want to match the string 'First Name:', followed by any and all text, followed by 'Last Name:', and then followed by anything again. You can use the dot-star (.*) to stand in for that “anything.” \n",
    "* **(.) dot character** means “any single character except the newline,” \n",
    "* **(*) star character** means “zero or more of the preceding character."
   ]
  },
  {
   "cell_type": "code",
   "execution_count": 182,
   "metadata": {},
   "outputs": [],
   "source": [
    "nameRegex = re.compile(r'First Name: (.*) Last Name: (.*)')\n",
    "mo = nameRegex.search('First Name: Al Last Name: Sweigart')"
   ]
  },
  {
   "cell_type": "code",
   "execution_count": 183,
   "metadata": {},
   "outputs": [
    {
     "data": {
      "text/plain": [
       "'Al'"
      ]
     },
     "execution_count": 183,
     "metadata": {},
     "output_type": "execute_result"
    }
   ],
   "source": [
    "mo.group(1)"
   ]
  },
  {
   "cell_type": "code",
   "execution_count": 184,
   "metadata": {},
   "outputs": [
    {
     "data": {
      "text/plain": [
       "'Sweigart'"
      ]
     },
     "execution_count": 184,
     "metadata": {},
     "output_type": "execute_result"
    }
   ],
   "source": [
    "mo.group(2)"
   ]
  },
  {
   "attachments": {},
   "cell_type": "markdown",
   "metadata": {},
   "source": [
    "The dot-star uses greedy mode: It will always try to match as much text as possible. To match any and all text in a non-greedy fashion, use the dot, star, and question mark (.*?). Like with braces, the question mark tells Python to match in a non-greedy way."
   ]
  },
  {
   "cell_type": "code",
   "execution_count": 185,
   "metadata": {},
   "outputs": [
    {
     "data": {
      "text/plain": [
       "'<To serve man>'"
      ]
     },
     "execution_count": 185,
     "metadata": {},
     "output_type": "execute_result"
    }
   ],
   "source": [
    "nongreedyRegex = re.compile(r'<.*?>')\n",
    "mo = nongreedyRegex.search('<To serve man> for dinner.>')\n",
    "mo.group()"
   ]
  },
  {
   "cell_type": "code",
   "execution_count": 187,
   "metadata": {},
   "outputs": [
    {
     "data": {
      "text/plain": [
       "'<To serve man> for dinner.>'"
      ]
     },
     "execution_count": 187,
     "metadata": {},
     "output_type": "execute_result"
    }
   ],
   "source": [
    "greedyRegex = re.compile(r'<.*>')\n",
    "mo = greedyRegex.search('<To serve man> for dinner.>')\n",
    "mo.group()"
   ]
  },
  {
   "attachments": {},
   "cell_type": "markdown",
   "metadata": {},
   "source": [
    "Both regexes roughly translate to “Match an opening angle bracket, followed by anything, followed by a closing angle bracket.” But the string '<To serve man> for dinner.>' has two possible matches for the closing angle bracket. \n",
    "\n",
    "* **In the non-greedy version** of the regex, Python matches the shortest possible string: '<To serve man>'.\n",
    "* **In the greedy version**, Python matches the longest possible string: '<To serve man> for dinner.>'."
   ]
  },
  {
   "attachments": {},
   "cell_type": "markdown",
   "metadata": {},
   "source": [
    "### Matching Newlines with the Dot Character\n",
    "The dot-star will match everything except a newline. By passing **re.DOTALL as the second argument to re.compile()**, you can make the dot character match all characters, including the newline character."
   ]
  },
  {
   "cell_type": "code",
   "execution_count": 188,
   "metadata": {},
   "outputs": [
    {
     "data": {
      "text/plain": [
       "'Serve the public trust.'"
      ]
     },
     "execution_count": 188,
     "metadata": {},
     "output_type": "execute_result"
    }
   ],
   "source": [
    "noNewlineRegex = re.compile('.*')\n",
    "mo = noNewlineRegex.search('Serve the public trust.\\nProtect the innocent.\\nUphold the law.')\n",
    "mo.group()"
   ]
  },
  {
   "cell_type": "code",
   "execution_count": 191,
   "metadata": {},
   "outputs": [
    {
     "data": {
      "text/plain": [
       "'Serve the public trust.\\nProtect the innocent.\\nUphold the law.'"
      ]
     },
     "execution_count": 191,
     "metadata": {},
     "output_type": "execute_result"
    }
   ],
   "source": [
    "NewlineRegex = re.compile('.*',re.DOTALL)\n",
    "mo = NewlineRegex.search('Serve the public trust.\\nProtect the innocent.\\nUphold the law.')\n",
    "mo.group()"
   ]
  },
  {
   "attachments": {},
   "cell_type": "markdown",
   "metadata": {},
   "source": [
    "*  noNewlineRegex, which **did not have** re.DOTALL passed to the re.compile() call that created it, will match everything only up to the first newline character\n",
    "* newlineRegex, which **did have re.DOTALL** passed to re.compile(), matches everything. This is why the newlineRegex.\n",
    "search() call matches the full string, including its newline characters."
   ]
  },
  {
   "attachments": {},
   "cell_type": "markdown",
   "metadata": {},
   "source": [
    "## Case-Insensitive Matching\n",
    "\n",
    "Normally, regular expressions match text with the exact casing you specify. For example, the following regexes match completely different strings:"
   ]
  },
  {
   "cell_type": "code",
   "execution_count": 192,
   "metadata": {},
   "outputs": [],
   "source": [
    "regex1 = re.compile('RoboCop')\n",
    "regex2 = re.compile('ROBOCOP')\n",
    "regex3 = re.compile('robOcop')\n",
    "regex4 = re.compile('RobocOp')"
   ]
  },
  {
   "attachments": {},
   "cell_type": "markdown",
   "metadata": {},
   "source": [
    "But sometimes you care only about matching the letters without worrying whether they’re uppercase or lowercase.  \n",
    "**To make your regex case-insensitive**, you can pass **re.IGNORECASE** or **re.I** as a second argument to re.compile()."
   ]
  },
  {
   "cell_type": "code",
   "execution_count": 195,
   "metadata": {},
   "outputs": [
    {
     "data": {
      "text/plain": [
       "True"
      ]
     },
     "execution_count": 195,
     "metadata": {},
     "output_type": "execute_result"
    }
   ],
   "source": [
    "robocop = re.compile(r'robocop')\n",
    "mo = robocop.search('RoboCop is part man, part machine, all cop.')\n",
    "mo == None # gives true meaning that no match has been found "
   ]
  },
  {
   "attachments": {},
   "cell_type": "markdown",
   "metadata": {},
   "source": [
    "now that we modify it to be case-insensitive we can see that is finds a match with Robocop"
   ]
  },
  {
   "cell_type": "code",
   "execution_count": 199,
   "metadata": {},
   "outputs": [
    {
     "data": {
      "text/plain": [
       "'RoboCop'"
      ]
     },
     "execution_count": 199,
     "metadata": {},
     "output_type": "execute_result"
    }
   ],
   "source": [
    "robocop = re.compile(r'robocop', re.I)\n",
    "mo = robocop.search('RoboCop is part man, part machine, all cop.')\n",
    "mo.group()"
   ]
  },
  {
   "attachments": {},
   "cell_type": "markdown",
   "metadata": {},
   "source": [
    "## Substituting Strings with the sub() Method\n",
    "\n",
    "Regular expressions can not only find text patterns but can also substitute new text in place of those patterns.  \n",
    "**The sub() method** for Regex objects is passed two arguments. \n",
    "* The first argument is a string to replace any matches\n",
    "* The second is the string for the regular expression. \n",
    "\n",
    "**The sub() method returns a string with the substitutions applied.**"
   ]
  },
  {
   "cell_type": "code",
   "execution_count": 200,
   "metadata": {},
   "outputs": [
    {
     "data": {
      "text/plain": [
       "'CENSORED gave the secret documents to CENSORED.'"
      ]
     },
     "execution_count": 200,
     "metadata": {},
     "output_type": "execute_result"
    }
   ],
   "source": [
    "namesRegex = re.compile(r'Agent \\w+')\n",
    "namesRegex.sub('CENSORED', 'Agent Alice gave the secret documents to Agent Bob.')"
   ]
  },
  {
   "attachments": {},
   "cell_type": "markdown",
   "metadata": {},
   "source": [
    "ometimes you may need to use the matched text itself as part of the substitution. In the first argument to sub(), you can type \\1, \\2, \\3, and so on, to mean **“Enter the text of group 1, 2, 3, and so on, in the substitution.”**\n",
    "\n",
    "*FOR EXAMPLE say you want to censor the names of the secret agents by showing just the first letters of their names. To do this, you could use the regex Agent (\\w)\\w* and pass r'\\1****' as the first argument to sub(). The \\1 in that string will be replaced by whatever text was matched by group 1—that is, the (\\w) group of the regular expression.*"
   ]
  },
  {
   "cell_type": "code",
   "execution_count": 210,
   "metadata": {},
   "outputs": [
    {
     "data": {
      "text/plain": [
       "'Agent A** told Agent C** that Agent E** knew Agent B** was a double agent.'"
      ]
     },
     "execution_count": 210,
     "metadata": {},
     "output_type": "execute_result"
    }
   ],
   "source": [
    "namesRegex = re.compile(r'Agent (\\w)\\w+')\n",
    "namesRegex.sub(r'Agent \\1**', '''Agent Alice told Agent Carol that Agent Eve knew Agent Bob was a double agent.''')"
   ]
  },
  {
   "attachments": {},
   "cell_type": "markdown",
   "metadata": {},
   "source": [
    "## Managing Complex Regexes\n",
    "\n",
    "Regular expressions are fine if the text pattern you need to match is simple. \n",
    "**But matching complicated text patterns might require long, convoluted regular expressions.** You can mitigate this by telling the re.compile() function to ignore whitespace and comments inside the regular expression string.\n",
    "\n",
    "**This “verbose mode”** can be enabled by passing the variable **re.VERBOSE** as the second argument to re.compile().\n",
    "\n"
   ]
  },
  {
   "cell_type": "code",
   "execution_count": null,
   "metadata": {},
   "outputs": [],
   "source": [
    "# Now instead of a hard-to-read regular expression like this:\n",
    "\n",
    "phoneRegex = re.compile(r'((\\d{3}|\\(\\d{3}\\))?(\\s|-|\\.)?\\d{3}(\\s|-|\\.)\\d{4}(\\s*(ext|x|ext.)\\s*\\d{2,5})?)')\n",
    "\n",
    "#you can spread the regular expression over multiple lines with comments like this:\n",
    "# still we had to use the \"'''\" triple quotes string to spread the regular expression through multiple lines\n",
    "\n",
    "phoneRegex = re.compile(r'''(\n",
    "    (\\d{3}|\\(\\d{3}\\))?            # area code\n",
    "    (\\s|-|\\.)?                    # separator\n",
    "    \\d{3}                         # first 3 digits\n",
    "    (\\s|-|\\.)                     # separator\n",
    "    \\d{4}                         # last 4 digits\n",
    "    (\\s*(ext|x|ext.)\\s*\\d{2,5})?  # extension\n",
    "    )'''\n",
    "    \n",
    "    , re.VERBOSE)\n"
   ]
  },
  {
   "attachments": {},
   "cell_type": "markdown",
   "metadata": {},
   "source": [
    "he comment rules inside the regular expression string are the same as regular Python code: the # symbol and everything after it to the end of the line are ignored. Also, the extra spaces inside the multiline string for the regular expression are not considered part of the text pattern to be matched. This lets you organize the regular expression so it’s easier to read."
   ]
  },
  {
   "attachments": {},
   "cell_type": "markdown",
   "metadata": {},
   "source": [
    "## Combining re.IGNORECASE, re.DOTALL, and re.VERBOSE\n",
    "\n",
    "What if you want to use re.VERBOSE to write comments in your regular expression but also want to use re.IGNORECASE to ignore capitalization? Unfortunately, the re.compile() function takes only a single value as its second argument. You can get around this limitation by combining the re.IGNORECASE, re.DOTALL, and re.VERBOSE variables using the pipe character (|), which in this context is known as the bitwise or operator"
   ]
  },
  {
   "cell_type": "code",
   "execution_count": 211,
   "metadata": {},
   "outputs": [],
   "source": [
    "#So if you want a regular expression that’s case-insensitive and includes newlines to match the dot character,\n",
    "# you would form your re.compile() call like this:\n",
    "\n",
    "someRegexValue = re.compile('foo', re.IGNORECASE | re.DOTALL)"
   ]
  },
  {
   "cell_type": "code",
   "execution_count": 212,
   "metadata": {},
   "outputs": [],
   "source": [
    "# Including all three options in the second argument will look like this:\n",
    "\n",
    "someRegexValue = re.compile('foo', re.IGNORECASE | re.DOTALL | re.VERBOSE)"
   ]
  },
  {
   "attachments": {},
   "cell_type": "markdown",
   "metadata": {},
   "source": [
    "## Capturing And non-Capturing Groups\n",
    "\n",
    "* **capturing groups** are used to extract specific parts of a matched string.  \n",
    "Capturing groups are denoted by **parentheses ()** in the regex pattern. Any text that matches the pattern within the parentheses is captured and **can be referenced later using backreferences.**\n",
    "* **non-capturing groups** are used to group parts of a regex pattern together without capturing them.  \n",
    "Non-capturing groups are denoted by **(?:)** in the regex pattern. Any text that matches the pattern within the non-capturing group is not captured and **cannot be referenced later.** "
   ]
  },
  {
   "cell_type": "code",
   "execution_count": 223,
   "metadata": {},
   "outputs": [
    {
     "name": "stdout",
     "output_type": "stream",
     "text": [
      "My phone number is 123-456-7890\n"
     ]
    },
    {
     "data": {
      "text/plain": [
       "'(123) 456-7890'"
      ]
     },
     "execution_count": 223,
     "metadata": {},
     "output_type": "execute_result"
    }
   ],
   "source": [
    "# Here all the goups are capturing groups as we have () everywhere and in fact\n",
    "# we have extracted 3 groups and in the if statement we are using all 3 groups \n",
    "\n",
    "text = \"My phone number is (123) 456-7890\"\n",
    "pattern = r\"\\((\\d{3})\\)\\s*(\\d{3})-(\\d{4})\"\n",
    "match = re.search(pattern, text)\n",
    "\n",
    "if match:\n",
    "    area_code = match.group(1)\n",
    "    phone_number = match.group(2) + '-' + match.group(3)\n",
    "    print(f\"My phone number is {area_code}-{phone_number}\")\n",
    "\n",
    "match.group()"
   ]
  },
  {
   "cell_type": "code",
   "execution_count": 227,
   "metadata": {},
   "outputs": [
    {
     "data": {
      "text/plain": [
       "'(123) 456-7890'"
      ]
     },
     "execution_count": 227,
     "metadata": {},
     "output_type": "execute_result"
    }
   ],
   "source": [
    "import re\n",
    "\n",
    "text = \"My phone number is (123) 456-7890\"\n",
    "pattern = r\"\\((\\d{3})\\)\\s*(\\d{3})-(?:\\d{4})\"\n",
    "match = re.search(pattern, text)\n",
    "\n",
    "match.group()"
   ]
  },
  {
   "cell_type": "code",
   "execution_count": 228,
   "metadata": {},
   "outputs": [
    {
     "data": {
      "text/plain": [
       "'123'"
      ]
     },
     "execution_count": 228,
     "metadata": {},
     "output_type": "execute_result"
    }
   ],
   "source": [
    "match.group(1)"
   ]
  },
  {
   "cell_type": "code",
   "execution_count": 229,
   "metadata": {},
   "outputs": [
    {
     "data": {
      "text/plain": [
       "'456'"
      ]
     },
     "execution_count": 229,
     "metadata": {},
     "output_type": "execute_result"
    }
   ],
   "source": [
    "match.group(2)"
   ]
  },
  {
   "cell_type": "code",
   "execution_count": 230,
   "metadata": {},
   "outputs": [
    {
     "ename": "IndexError",
     "evalue": "no such group",
     "output_type": "error",
     "traceback": [
      "\u001b[1;31m---------------------------------------------------------------------------\u001b[0m",
      "\u001b[1;31mIndexError\u001b[0m                                Traceback (most recent call last)",
      "Cell \u001b[1;32mIn[230], line 1\u001b[0m\n\u001b[1;32m----> 1\u001b[0m \u001b[39mmatch\u001b[39;49;00m\u001b[39m.\u001b[39;49mgroup(\u001b[39m3\u001b[39;49m)\n",
      "\u001b[1;31mIndexError\u001b[0m: no such group"
     ]
    }
   ],
   "source": [
    "# Group 3 is used just to regex purposes but is not captured that's why when we try to retrive it we get an ERROR \"no such group\"\n",
    "match.group(3)"
   ]
  },
  {
   "attachments": {},
   "cell_type": "markdown",
   "metadata": {},
   "source": [
    "# Project: Phone Number and Email Address Extractor\n",
    "Big Picture \n",
    "* Get the text off the clipboard.\n",
    "* Find all phone numbers and email addresses in the text.\n",
    "* Paste them onto the clipboard.\n",
    "\n",
    "Now you can start thinking about how this might work in code. The code will need to do the following:\n",
    "\n",
    "* Use the pyperclip module to copy and paste strings.\n",
    "* Create two regexes, one for matching phone numbers and the other for matching email addresses.\n",
    "* Find all matches, not just the first match, of both regexes.\n",
    "* Neatly format the matched strings into a single string to paste.\n",
    "* Display some kind of message if no matches were found in the text.\n",
    "\n"
   ]
  },
  {
   "cell_type": "code",
   "execution_count": 218,
   "metadata": {},
   "outputs": [],
   "source": [
    "import pyperclip as pyp\n",
    "import re"
   ]
  },
  {
   "cell_type": "code",
   "execution_count": 431,
   "metadata": {},
   "outputs": [],
   "source": [
    "phoneRegex = re.compile(r'''(\n",
    "#(\\+\\d{1,3}|0{2}\\d{1,3}(\\s|\\.|-|))?    # He we catch the international prefix\n",
    "(\\d{3}|\\(\\d{3}\\))                    # He we catch the first 3 digits \n",
    "(\\s|\\.|-|)                            # Separator is here\n",
    "(\\d{3})                               # He we catch the second 3 digits \n",
    "(\\s|\\.|-|)                            # Separator is here\n",
    "(\\d{4})                               # He we catch the last 4 digits \n",
    "(\\s*(ext|x|ext.)\\s*(\\d{2,5}))?        # Extension is captured here \n",
    ")''', re.VERBOSE)"
   ]
  },
  {
   "cell_type": "code",
   "execution_count": 432,
   "metadata": {},
   "outputs": [],
   "source": [
    "emailRegex = re.compile(r'''\n",
    "(                \n",
    "\\b([\\w.-]+)               #the addres\n",
    "@                   \n",
    "([\\w\\.-]+)               # the first extension of the email\n",
    "\\.\n",
    "(\\w{2,3})\\b         # the .com part that can be different \n",
    "\\.?\n",
    "(\\w{2,3})?         # the .com part that can be different \n",
    ")\n",
    "''', re.VERBOSE | re.IGNORECASE)"
   ]
  },
  {
   "cell_type": "code",
   "execution_count": 438,
   "metadata": {},
   "outputs": [],
   "source": [
    "text = str(pyp.paste())"
   ]
  },
  {
   "cell_type": "code",
   "execution_count": 439,
   "metadata": {},
   "outputs": [
    {
     "data": {
      "text/plain": [
       "'Main menu\\r\\n\\r\\nWikipediaThe Free Encyclopedia\\r\\nSearch\\r\\nCreate account\\r\\nLog in\\r\\n\\r\\nPersonal tools\\r\\nToggle the table of contents\\r\\nEmail address\\r\\n\\r\\nArticle\\r\\nTalk\\r\\nRead\\r\\nEdit\\r\\nView history\\r\\n\\r\\nTools\\r\\nFrom Wikipedia, the free encyclopedia\\r\\nAn email address identifies an email box to which messages are delivered. While early messaging systems used a variety of formats for addressing, today, email addresses follow a set of specific rules originally standardized by the Internet Engineering Task Force (IETF) in the 1980s, and updated by RFC 5322 and 6854. The term email address in this article refers to just the addr-spec in Section 3.4 of RFC 5322. The RFC defines address more broadly as either a mailbox or group. A mailbox value can be either a name-addr, which contains a display-name and addr-spec, or the more common addr-spec alone.\\r\\n\\r\\nAn email address, such as john.smith@example.com, is made up from a local-part, the symbol @, and a domain, which must be a domain name. Although the standard requires the local part to be case-sensitive,[1] it also urges that receiving hosts deliver messages in a case-independent manner,[2] e.g., that the mail system in the domain example.com treat John.Smith as equivalent to john.smith; some mail systems even treat them as equivalent to johnsmith.[3] Mail systems often limit the users\\' choice of name to a subset of the technically permitted characters.\\r\\n\\r\\nWith the introduction of internationalized domain names, efforts are progressing to permit non-ASCII characters in email addresses.\\r\\n\\r\\nMessage transport\\r\\nAn email address consists of two parts, a local part[a] and a domain; if the domain is a domain name rather than an IP address then the SMTP client uses the domain name to look up the mail exchange IP address. The general format of an email address is local-part@domain, e.g. jsmith@[192.168.1.2], jsmith@example.com. The SMTP client transmits the message to the mail exchange, which may forward it to another mail exchange until it eventually arrives at the host of the recipient\\'s mail system.\\r\\n\\r\\nThe transmission of electronic mail from the author\\'s computer and between mail hosts in the Internet uses the Simple Mail Transfer Protocol (SMTP), defined in RFC 5321 and 5322, and extensions such as RFC 6531. The mailboxes may be accessed and managed by applications on personal computers, mobile devices or webmail sites, using the SMTP protocol and either the Post Office Protocol (POP) or the Internet Message Access Protocol (IMAP).\\r\\n\\r\\nWhen transmitting email messages, mail user agents (MUAs) and mail transfer agents (MTAs) use the domain name system (DNS) to look up a Resource Record (RR) for the recipient\\'s domain. A mail exchanger resource record (MX record) contains the name of the recipient\\'s mailserver. In absence of an MX record, an address record (A or AAAA) directly specifies the mail host.\\r\\n\\r\\nThe local part of an email address has no significance for intermediate mail relay systems other than the final mailbox host. Email senders and intermediate relay systems must not assume it to be case-insensitive, since the final mailbox host may or may not treat it as such. A single mailbox may receive mail for multiple email addresses, if configured by the administrator. Conversely, a single email address may be the alias to a distribution list to many mailboxes. Email aliases, electronic mailing lists, sub-addressing, and catch-all addresses, the latter being mailboxes that receive messages regardless of the local part, are common patterns for achieving a variety of delivery goals.\\r\\n\\r\\nThe addresses found in the header fields of an email message are not directly used by mail exchanges to deliver the message. An email message also contains a message envelope that contains the information for mail routing. While envelope and header addresses may be equal, forged email addresses - also called spoofed email addresses - are often seen in spam, phishing, and many other Internet-based scams. This has led to several initiatives which aim to make such forgeries of fraudulent emails easier to spot.\\r\\n\\r\\nSyntax\\r\\nThe format of an email address is local-part@domain, where the local part may be up to 64 octets long and the domain may have a maximum of 255 octets.[4] The formal definitions are in RFC 5322 (sections 3.2.3 and 3.4.1) and RFC 5321—with a more readable form given in the informational RFC 3696[b] and the associated errata.\\r\\n\\r\\nAn email address also may have an associated \"display-name\" (Display Name) for the recipient, which precedes the address specification, now surrounded by angled brackets, for example: John Smith <john.smith@example.org>.[5] Email spammers and phishers will often use \"Display Name spoofing\" to trick their victims, by using a false Display Name, or by using a different email address as the Display Name.[6]\\r\\n\\r\\nEarlier forms of email addresses for other networks than the Internet included other notations, such as that required by X.400, and the UUCP bang path notation, in which the address was given in the form of a sequence of computers through which the message should be relayed. This was widely used for several years, but was superseded by the Internet standards promulgated by the Internet Engineering Task Force (IETF).\\r\\n\\r\\nLocal-part\\r\\nThe local-part of the email address may be unquoted or may be enclosed in quotation marks.\\r\\n\\r\\nIf unquoted, it may use any of these ASCII characters:\\r\\n\\r\\nuppercase and lowercase Latin letters A to Z and a to z\\r\\ndigits 0 to 9\\r\\nprintable characters !#$%&\\'*+-/=?^_`{|}~\\r\\ndot ., provided that it is not the first or last character and provided also that it does not appear consecutively (e.g., John..Doe@example.com is not allowed).[7]\\r\\nIf quoted, it may contain Space, Horizontal Tab (HT), any ASCII graphic except Backslash and Quote and a quoted-pair consisting of a Backslash followed by HT, Space or any ASCII graphic; it may also be split between lines anywhere that HT or Space appears. In contrast to unquoted local-parts, the addresses \".John.Doe\"@example.com, \"John.Doe.\"@example.com and \"John..Doe\"@example.com are allowed.\\r\\n\\r\\nThe maximum total length of the local-part of an email address is 64 octets.[8]\\r\\n\\r\\nNote that some mail servers support wildcard recognition of local parts, typically the characters following a plus and less often the characters following a minus, so fred+bah@domain and fred+foo@domain might end up in the same inbox as fred+@domain or even as fred@domain. This can be useful for tagging emails for sorting (see below), and for spam control.[9] Braces { and } are also used in that fashion, although less often.[citation needed]\\r\\n\\r\\nspace and special characters \"(),:;<>@[\\\\] are allowed with restrictions (they are only allowed inside a quoted string, as described in the paragraph below, and in that quoted string, any backslash or double-quote must be preceded once by a backslash);\\r\\ncomments are allowed with parentheses at either end of the local-part; e.g., john.smith(comment)@example.com and (comment)john.smith@example.com are both equivalent to john.smith@example.com.\\r\\nIn addition to the above ASCII characters, international characters above U+007F, encoded as UTF-8, are permitted by RFC 6531 when the EHLO specifies SMTPUTF8, though even mail systems that support SMTPUTF8 and 8BITMIME may restrict which characters to use when assigning local-parts.\\r\\n\\r\\nA local part is either a Dot-string or a Quoted-string; it cannot be a combination. Quoted strings and characters, however, are not commonly used.[citation needed] RFC 5321 also warns that \"a host that expects to receive mail SHOULD avoid defining mailboxes where the Local-part requires (or uses) the Quoted-string form\".\\r\\n\\r\\nThe local-part postmaster is treated specially—it is case-insensitive, and should be forwarded to the domain email administrator. Technically all other local-parts are case-sensitive, therefore jsmith@example.com and JSmith@example.com specify different mailboxes; however, many organizations treat uppercase and lowercase letters as equivalent. Indeed, RFC 5321 warns that \"a host that expects to receive mail SHOULD avoid defining mailboxes where ... the Local-part is case-sensitive\".\\r\\n\\r\\nDespite the wide range of special characters which are technically valid, organisations, mail services, mail servers and mail clients in practice often do not accept all of them. For example, Windows Live Hotmail only allows creation of email addresses using alphanumerics, dot (.), underscore (_) and hyphen (-).[10] Common advice is to avoid using some special characters to avoid the risk of rejected emails.[11]\\r\\n\\r\\nDomain\\r\\nThe domain name part of an email address has to conform to strict guidelines: it must match the requirements for a hostname, a list of dot-separated DNS labels, each label being limited to a length of 63 characters and consisting of:[7]:\\u200a§2\\u200a\\r\\n\\r\\nuppercase and lowercase Latin letters A to Z and a to z;\\r\\ndigits 0 to 9, provided that top-level domain names are not all-numeric;\\r\\nhyphen -, provided that it is not the first or last character.\\r\\nThis rule is known as the LDH rule (letters, digits, hyphen). In addition, the domain may be an IP address literal, surrounded by square brackets [], such as jsmith@[192.168.2.1] or jsmith@[IPv6:2001:db8::1], although this is rarely seen except in email spam. Internationalized domain names (which are encoded to comply with the requirements for a hostname) allow for presentation of non-ASCII domains. In mail systems compliant with RFC 6531 and RFC 6532 an email address may be encoded as UTF-8, both a local-part as well as a domain name.\\r\\n\\r\\nComments are allowed in the domain as well as in the local-part; for example, john.smith@(comment)example.com and john.smith@example.com(comment) are equivalent to john.smith@example.com.\\r\\n\\r\\nReserved domains\\r\\nRFC 2606 specifies that certain domains, for example those intended for documentation and testing, should not be resolvable and that as a result mail addressed to mailboxes in them and their subdomains should be non-deliverable. Of note for e-mail are example, invalid, example.com, example.net, and example.org.\\r\\n\\r\\nExamples\\r\\nValid email addresses\\r\\nsimple@example.com\\r\\nvery.common@example.com\\r\\ndisposable.style.email.with+symbol@example.com\\r\\nother.email-with-hyphen@and.subdomains.example.com\\r\\nfully-qualified-domain@example.com\\r\\nuser.name+tag+sorting@example.com (may go to user.name@example.com inbox depending on mail server)\\r\\nx@example.com (one-letter local-part)\\r\\nexample-indeed@strange-example.com\\r\\ntest/test@test.com (slashes are a printable character, and allowed)\\r\\nadmin@mailserver1 (local domain name with no TLD, although ICANN highly discourages dotless email addresses[12])\\r\\nexample@s.example (see the List of Internet top-level domains)\\r\\n\" \"@example.org (space between the quotes)\\r\\n\"john..doe\"@example.org (quoted double dot)\\r\\nmailhost!username@example.org (bangified host route used for uucp mailers)\\r\\n\"very.(),:;<>[]\\\\\".VERY.\\\\\"very@\\\\\\\\ \\\\\"very\\\\\".unusual\"@strange.example.com (include non-letters character AND multiple at sign, the first one being double quoted)\\r\\nuser%example.com@example.org (% escaped mail route to user@example.com via example.org)\\r\\nuser-@example.org (local part ending with non-alphanumeric character from the list of allowed printable characters)\\r\\npostmaster@[123.123.123.123] (IP addresses are allowed instead of domains when in square brackets, but strongly discouraged)\\r\\npostmaster@[IPv6:2001:0db8:85a3:0000:0000:8a2e:0370:7334] (IPv6 uses a different syntax)\\r\\n\\r\\nInvalid email addresses\\r\\nAbc.example.com (no @ character)\\r\\nA@b@c@example.com (only one @ is allowed outside quotation marks)\\r\\na\"b(c)d,e:f;g<h>i[j\\\\k]l@example.com (none of the special characters in this local-part are allowed outside quotation marks)\\r\\njust\"not\"right@example.com (quoted strings must be dot separated or the only element making up the local-part)\\r\\nthis is\"not\\\\allowed@example.com (spaces, quotes, and backslashes may only exist when within quoted strings and preceded by a backslash)\\r\\nthis\\\\ still\\\\\"not\\\\\\\\allowed@example.com (even if escaped (preceded by a backslash), spaces, quotes, and backslashes must still be contained by quotes)\\r\\n1234567890123456789012345678901234567890123456789012345678901234+x@example.com (local-part is longer than 64 characters)\\r\\ni_like_underscore@but_its_not_allowed_in_this_part.example.com (Underscore is not allowed in domain part)\\r\\nQA[icon]CHOCOLATE[icon]@test.com (icon characters)\\r\\nCommon local-part semantics\\r\\nAccording to RFC 5321 2.3.11 Mailbox and Address, \"...the local-part MUST be interpreted and assigned semantics only by the host specified in the domain of the address.\" This means that no assumptions can be made about the meaning of the local-part of another mail server. It is entirely up to the configuration of the mail server.\\r\\n\\r\\nLocal-part normalization\\r\\nInterpretation of the local part of an email address is dependent on the conventions and policies implemented in the mail server. For example, case sensitivity may distinguish mailboxes differing only in capitalization of characters of the local-part, although this is not very common.[13] Gmail ignores all dots in the local-part of a @gmail.com address for the purposes of determining account identity.[14]\\r\\n\\r\\nSubaddressing\\r\\nSome mail services support a tag included in the local-part, such that the address is an alias to a prefix of the local part. For example, the address joeuser+tag@example.com denotes the same delivery address as joeuser@example.com. RFC 5233,[15] refers to this convention as subaddressing, but it is also known as plus addressing, tagged addressing or mail extensions.\\r\\n\\r\\nAddresses of this form, using various separators between the base name and the tag, are supported by several email services, including Andrew Project (plus),[16] Runbox (plus), Gmail (plus),[17] Rackspace (plus), Yahoo! Mail Plus (hyphen),[18] Apple\\'s iCloud (plus), Outlook.com (plus),[19] Proton Mail (plus),[20] Fastmail (plus and Subdomain Addressing),[21] postale.io (plus),[22] Pobox (plus),[23] MeMail (plus),[24] MMDF (equals), Qmail and Courier Mail Server (hyphen).[25][26] Postfix and Exim allow configuring an arbitrary separator from the legal character set.[27][28]\\r\\n\\r\\nThe text of the tag may be used to apply filtering,[25] or to create single-use, or disposable email addresses.[29]\\r\\n\\r\\nIn practice, the form validation of some web sites may reject characters such as \"+\" in an email address – treating them, incorrectly, as invalid characters. This can lead to an incorrect user receiving an e-mail if the \"+\" is silently stripped by a website without any warning or error messages. For example, an email intended for the user-entered email address foo+bar@example.com could be incorrectly sent to foobar@example.com. In other cases a poor user experience can occur if some parts of a site, such as a user registration page, allow the \"+\" character whilst other parts, such as a page for unsubscribing from a site\\'s mailing list, do not.\\r\\n\\r\\nValidation and verification\\r\\n\\r\\nThis section needs additional citations for verification. Please help improve this article by adding citations to reliable sources in this section. Unsourced material may be challenged and removed. (July 2019) (Learn how and when to remove this template message)\\r\\nEmail addresses are often requested as input to website as validation of user existence. Other validation methods are available, such as cell phone number validation, postal mail validation, and fax validation.\\r\\n\\r\\nAn email address is generally recognized as having two parts joined with an at-sign (@), although technical specification detailed in RFC 822 and subsequent RFCs are more extensive.[30]\\r\\n\\r\\nSyntactically correct, verified email addresses do not guarantee that an email box exists. Thus many mail servers use other techniques and check the mailbox existence against relevant systems such as the Domain Name System for the domain or using callback verification to check if the mailbox exists. Callback verification is an imperfect solution, as it may be disabled to avoid a directory harvest attack, or callbacks may be reported as spam and lead to listing on a DNSBL.\\r\\n\\r\\nSeveral validation techniques may be utilized to validate a user email address. For example,[31]\\r\\n\\r\\nVerification links: Email address validation is often accomplished for account creation on websites by sending an email to the user-provided email address with a special temporary hyperlink. On receipt, the user opens the link, immediately activating the account. Email addresses are also useful as means of delivering messages from a website, e.g., user messages, user actions, to the email inbox.\\r\\nFormal and informal standards: RFC 3696 provides specific advice for validating Internet identifiers, including email addresses. Some websites instead attempt to evaluate the validity of email addresses through arbitrary standards, such as by rejecting addresses containing valid characters, such as + and /, or enforcing arbitrary length limitations. Email address internationalization provides for a much larger range of characters than many current validation algorithms allow, such as all Unicode characters above U+0080, encoded as UTF-8.\\r\\nAlgorithmic tools: Large websites, bulk mailers and spammers require efficient tools to validate email addresses. Such tools depend upon heuristic algorithms and statistical models.[32]\\r\\nSender reputation: An email sender\\'s reputation may be used to attempt to verify whether the sender is trustworthy or a potential spammer. Factors that may be incorporated into an assessment of sender reputation include the quality of past contact with or content provided by, and engagement levels of, the sender\\'s IP address or email address.\\r\\nBrowser-based verification: HTML5 forms implemented in many browsers allow email address validation to be handled by the browser.[33]\\r\\nSome companies offer services to validate an email address, often using an application programming interface, but there is no guarantee that it will provide accurate results.\\r\\n\\r\\nInternationalization\\r\\nThe IETF conducts a technical and standards working group devoted to internationalization issues of email addresses, entitled Email Address Internationalization (EAI, also known as IMA, Internationalized Mail Address).[34] This group produced RFC 6530, 6531, 6532 and 6533, and continues to work on additional EAI-related RFCs.\\r\\n\\r\\nThe IETF\\'s EAI Working group published RFC 6530 \"Overview and Framework for Internationalized Email\", which enabled non-ASCII characters to be used in both the local-parts and domain of an email address. RFC 6530 provides for email based on the UTF-8 encoding, which permits the full repertoire of Unicode. RFC 6531 provides a mechanism for SMTP servers to negotiate transmission of the SMTPUTF8 content.\\r\\n\\r\\nThe basic EAI concepts involve exchanging mail in UTF-8. Though the original proposal included a downgrading mechanism for legacy systems, this has now been dropped.[35] The local servers are responsible for the local-part of the address, whereas the domain would be restricted by the rules of internationalized domain names, though still transmitted in UTF-8. The mail server is also responsible for any mapping mechanism between the IMA form and any ASCII alias.\\r\\n\\r\\nEAI enables users to have a localized address in a native language script or character set, as well as an ASCII form for communicating with legacy systems or for script-independent use. Applications that recognize internationalized domain names and mail addresses must have facilities to convert these representations.\\r\\n\\r\\nSignificant demand for such addresses is expected in China, Japan, Russia, and other markets that have large user bases in a non-Latin-based writing system.\\r\\n\\r\\nFor example, in addition to the .in top-level domain, the government of India in 2011[36] got approval for \".bharat\", (from Bhārat Gaṇarājya), written in seven different scripts[37][38] for use by Gujrati, Marathi, Bangali, Tamil, Telugu, Punjabi and Urdu speakers. Indian company XgenPlus.com claims to be the world\\'s first EAI mailbox provider,[39] and the Government of Rajasthan now supplies a free email account on domain राजस्थान.भारत for every citizen of the state.[40] A leading media house Rajasthan Patrika launched their IDN domain पत्रिका.भारत with contactable email.\\r\\n\\r\\nInternationalization examples\\r\\nThe example addresses below would not be handled by RFC 5322 based servers, but are permitted by RFC 6530. Servers compliant with this will be able to handle these:\\r\\n\\r\\nLatin alphabet with diacritics: Pelé@example.com\\r\\nGreek alphabet: δοκιμή@παράδειγμα.δοκιμή\\r\\nTraditional Chinese characters: 我買@屋企.香港\\r\\nJapanese characters: 二ノ宮@黒川.日本\\r\\nCyrillic characters: медведь@с-балалайкой.рф\\r\\nDevanagari characters: संपर्क@डाटामेल.भारत\\r\\nInternationalization support\\r\\nPostfix mailer supports internationalized mail since 2015-02-08 with a stable release 3.0.0.[41]\\r\\nGoogle has support for sending emails to and from internationalized domains, but does not allow the registration of non-ASCII email addresses.[42]\\r\\nMicrosoft added similar functionality in Outlook 2016[43]\\r\\nDataMail launches internationalized email support for 8 Indian languages using the XgenPlus email platform in India.[44]\\r\\nStandards documents\\r\\nRFC 821 – Simple Mail Transfer Protocol (Obsoleted by RFC 2821)\\r\\nRFC 822 – Standard for the Format of ARPA Internet Text Messages (Obsoleted by RFC 2822) (Errata)\\r\\nRFC 1035 – Domain names, Implementation and specification (Errata)\\r\\nRFC 1123 – Requirements for Internet Hosts, Application and Support (Updated by RFC 2821, RFC 5321) (Errata)\\r\\nRFC 2142 – Mailbox Names for Common Services, Roles and Functions (Errata)\\r\\nRFC 2821 – Simple Mail Transfer Protocol (Obsoletes RFC 821, Updates RFC 1123, Obsoleted by RFC 5321) (Errata)\\r\\nRFC 2822 – Internet Message Format (Obsoletes RFC 822, Obsoleted by RFC 5322) (Errata)\\r\\nRFC 3696 – Application Techniques for Checking and Transformation of Names (Errata)\\r\\nRFC 4291 – IP Version 6 Addressing Architecture (Updated by RFC 5952) (Errata)\\r\\nRFC 5321 – Simple Mail Transfer Protocol (Obsoletes RFC 2821, Updates RFC 1123) (Errata)\\r\\nRFC 5322 – Internet Message Format (Obsoletes RFC 2822, Updated by RFC 6854) (Errata)\\r\\nRFC 5598 _ Internet Mail Architecture\\r\\nRFC 5952 – A Recommendation for IPv6 Address Text Representation (Updates RFC 4291) (Errata)\\r\\nRFC 6530 – Overview and Framework for Internationalized Email (Obsoletes RFC 4952, 5504, 5825)\\r\\nRFC 6531 – SMTP Extension for Internationalized Email (Obsoletes RFC 5336)\\r\\nRFC 6854 – Update to Internet Message Format to Allow Group Syntax in the \"From:\" and \"Sender:\" Header Fields (Updates RFC 5322)\\r\\nSee also\\r\\nicon\\tinternet portal\\r\\n\\ttechnology portal\\r\\nAnti-spam techniques\\r\\nEmail client\\r\\nEmail box\\r\\nEmail authentication\\r\\nInternational email\\r\\nNotes\\r\\n Sometimes a user name, but not always.\\r\\n Written by J. Klensin, the author of RFC 5321\\r\\nReferences\\r\\n J. Klensin (October 2008). \"General Syntax Principles and Transaction Model\". Simple Mail Transfer Protocol. p. 15. sec. 2.4. doi:10.17487/RFC5321. RFC 5321. The local-part of a mailbox MUST BE treated as case sensitive.\\r\\n J. Klensin (October 2008). \"General Syntax Principles and Transaction Model\". Simple Mail Transfer Protocol. p. 15. sec. 2.4. doi:10.17487/RFC5321. RFC 5321. However, exploiting the case sensitivity of mailbox local-parts impedes interoperability and is discouraged.\\r\\n \"...you can add or remove the dots from a mail address without changing the actual destination address; and they\\'ll all go to your inbox...\", Google.com\\r\\n Klensin, J. (October 2008). \"Size Limits and Minimums\". Simple Mail Transfer Protocol. IETF. sec. 4.5.3.1. doi:10.17487/RFC5321. RFC 5321.\\r\\n \"Address Specification\". Internet Message Format. sec. 3.4. doi:10.17487/RFC5322. RFC 5322. Retrieved March 14, 2023.\\r\\n \"Spotting a Spoofing\". cyber.nj.gov. November 19, 2020. Retrieved 17 April 2023.\\r\\n Klensin, J. (February 2004). RFC 3696. IETF. doi:10.17487/RFC3696. Retrieved 2017-08-01.:\\u200a§3\\u200a\\r\\n Klensin, J. (October 2008). RFC 5321. IETF. sec. 4.5.3.1.1. doi:10.17487/RFC5321. Retrieved 2019-08-01.\\r\\n \"Send emails from a different address or alias - Use Gmail aliases\". Gmail Help. Archived from the original on 7 December 2019. Retrieved 13 December 2019.\\r\\n \"Sign up for Windows Live\". Retrieved 2008-07-26.. However, the phrase is hidden, thus one has to either check the availability of an invalid ID, e.g., me#1, or resort to alternative displaying, e.g., no-style or source view, in order to read it.\\r\\n \"Characters in the local part of an email address\". Retrieved 2016-03-30.\\r\\n \"New gTLD Dotless Domain Names Prohibited\". www.icann.org. ICANN. Retrieved 23 March 2020.\\r\\n Are Email Addresses Case Sensitive? by Heinz Tschabitscher\\r\\n \"Receiving someone else\\'s mail\". google.com.\\r\\n Murchison, K. (2008). \"Sieve Email Filtering: Subaddress Extension\". Ietf Datatracker. IETF. doi:10.17487/RFC5233. Retrieved February 9, 2019.\\r\\n \"An Overview of the Andrew Message System\" (PDF). Retrieved 17 April 2023.\\r\\n \"Using an address alias\". google.com.\\r\\n \"Disposable addresses in Yahoo Mail - Yahoo Help - SLN3523\". help.yahoo.com.\\r\\n \"Outlook.com supports simpler \"+\" email aliases too\". Within Windows. Archived from the original on 2014-02-20.\\r\\n \"Addresses and Aliases\". proton.me.\\r\\n \"Plus addressing and subdomain addressing\". www.fastmail.com. Archived from the original on 2020-10-06. Retrieved 2020-10-06.\\r\\n \"postale.io\\'s FAQ on sub-addressing\". postale.io. Archived from the original on 2020-10-06. Retrieved 2020-10-06.\\r\\n \"Can I use myaddress+extension@pobox.com with my Pobox account?\". helpspot.pobox.com. n.d. Archived from the original on 2020-10-03. Retrieved 2020-10-03. Pobox supports the use of \"+anystring\" (plus extensions) with any address.\\r\\n \"MeMail\". www.memail.com. Retrieved 2020-10-06.\\r\\n \"Dot-Qmail, Control the delivery of mail messages\". Archived from the original on 26 January 2012. Retrieved 27 January 2012.\\r\\n Sill, Dave. \"4.1.5. extension addresses\". Life with qmail. Retrieved 27 January 2012.\\r\\n \"Postfix Configuration Parameters\". postfix.org.\\r\\n \"Exim Configuration Parameters, \"local_part_suffix\"\". exim.org.\\r\\n Gina Trapani (2005) \"Instant disposable Gmail addresses\"\\r\\n \"How Domino formats the sender\\'s Internet address in outbound messages\". IBM Knowledge Center. Retrieved 23 July 2019.\\r\\n \"M3AAWG Sender Best Common Practices, Version 3\" (PDF). Messaging, Malware and Mobile Anti-Abuse Working Group. February 2015. Retrieved 23 July 2019.\\r\\n Verification & Validation Techniques for Email Address Quality Assurance by Jan Hornych 2011, University of Oxford\\r\\n \"4.10 Forms — HTML5\". w3.org.\\r\\n \"Eai Status Pages\". Email Address Internationalization (Active WG). IETF. March 17, 2006 – March 18, 2013. Retrieved July 26, 2008.\\r\\n \"Email Address Internationalization (eai)\". IETF. Retrieved November 30, 2010.\\r\\n \"2011-01-25 - Approval of Delegation of the seven top-level domains representing India in various languages - myICANN.org\". features.icann.org.\\r\\n \"Internationalized Domain Names (IDNs) | Registry.In\". registry.in. Retrieved 2016-10-17.\\r\\n \"Now, get your email address in Hindi - The Economic Times\". The Economic Times. Retrieved 2016-10-17.\\r\\n \"Universal Acceptance in India\". 15 February 2017.\\r\\n \"देश में पहला, प्रदेश के हर नागरिक के लिए मुफ्त ई-वॉल्ट और ई-मेल की सुविधा शुरू - वसुन्धरा राजे\". वसुन्धरा राजे (in Hindi). 2017-08-18. Retrieved 2017-08-20.\\r\\n \"\\'Postfix stable release 3.0.0\\' – MARC\". marc.info.\\r\\n \"A first step toward more global email\". Google Official Blog. 5 August 2014. Retrieved 6 August 2014.\\r\\n \"What\\'s new in Outlook 2016 for Windows\", support.office.com\\r\\n \"DataMail launches free linguistic email service in eight Indian languages\". Tech2. 19 October 2016. Retrieved 2017-11-25.\\r\\nExternal links\\r\\n Validate Email Address at Wikibooks\\r\\n Best Practices at Wikibooks\\r\\n Media related to Email address at Wikimedia Commons\\r\\nCategory: Email\\r\\nThis page was last edited on 5 May 2023, at 07:48 (UTC).\\r\\nText is available under the Creative Commons Attribution-ShareAlike License 3.0; additional terms may apply. By using this site, you agree to the Terms of Use and Privacy Policy. Wikipedia® is a registered trademark of the Wikimedia Foundation, Inc., a non-profit organization.\\r\\nPrivacy policyAbout WikipediaDisclaimersContact WikipediaMobile viewDevelopersStatisticsCookie statementWikimedia FoundationPowered by MediaWiki'"
      ]
     },
     "execution_count": 439,
     "metadata": {},
     "output_type": "execute_result"
    }
   ],
   "source": [
    "text"
   ]
  },
  {
   "cell_type": "code",
   "execution_count": 440,
   "metadata": {},
   "outputs": [],
   "source": [
    "matches = []"
   ]
  },
  {
   "cell_type": "code",
   "execution_count": 441,
   "metadata": {},
   "outputs": [],
   "source": [
    "for group in phoneRegex.findall(text):\n",
    "    phone = '-'.join([group[1],group[3],group[5]])\n",
    "    if group[8] != '':\n",
    "        phone = phone + ' x' + group[8]\n",
    "    matches.append(phone)\n",
    "\n",
    "for groups in emailRegex.findall(text):\n",
    "       matches.append(groups[0])\n"
   ]
  },
  {
   "cell_type": "code",
   "execution_count": 442,
   "metadata": {},
   "outputs": [
    {
     "data": {
      "text/plain": [
       "['123-456-7890',\n",
       " '123-456-7890',\n",
       " '123-456-7890',\n",
       " '123-456-7890',\n",
       " '123-456-7890',\n",
       " '123-456-7890',\n",
       " 'john.smith@example.com',\n",
       " 'jsmith@example.com.',\n",
       " 'john.smith@example.org',\n",
       " 'John..Doe@example.com',\n",
       " 'john.smith@example.com',\n",
       " 'john.smith@example.com.',\n",
       " 'jsmith@example.com',\n",
       " 'JSmith@example.com',\n",
       " 'john.smith@example.com',\n",
       " 'john.smith@example.com.',\n",
       " 'simple@example.com',\n",
       " 'very.common@example.com',\n",
       " 'symbol@example.com',\n",
       " 'other.email-with-hyphen@and.subdomains.example.com',\n",
       " 'fully-qualified-domain@example.com',\n",
       " 'sorting@example.com',\n",
       " 'user.name@example.com',\n",
       " 'x@example.com',\n",
       " 'example-indeed@strange-example.com',\n",
       " 'test@test.com',\n",
       " 'username@example.org',\n",
       " 'example.com@example.org',\n",
       " 'user@example.com',\n",
       " 'user-@example.org',\n",
       " 'c@example.com',\n",
       " 'l@example.com',\n",
       " 'right@example.com',\n",
       " 'allowed@example.com',\n",
       " 'allowed@example.com',\n",
       " 'x@example.com',\n",
       " 'i_like_underscore@but_its_not_allowed_in_this_part.example.com',\n",
       " 'tag@example.com',\n",
       " 'joeuser@example.com.',\n",
       " 'bar@example.com',\n",
       " 'foobar@example.com.',\n",
       " 'Pelé@example.com',\n",
       " '我買@屋企.香港',\n",
       " '二ノ宮@黒川.日本',\n",
       " 'медведь@с-балалайкой.рф',\n",
       " 'extension@pobox.com']"
      ]
     },
     "execution_count": 442,
     "metadata": {},
     "output_type": "execute_result"
    }
   ],
   "source": [
    "matches"
   ]
  }
 ],
 "metadata": {
  "kernelspec": {
   "display_name": "Python 3",
   "language": "python",
   "name": "python3"
  },
  "language_info": {
   "codemirror_mode": {
    "name": "ipython",
    "version": 3
   },
   "file_extension": ".py",
   "mimetype": "text/x-python",
   "name": "python",
   "nbconvert_exporter": "python",
   "pygments_lexer": "ipython3",
   "version": "3.11.2"
  },
  "orig_nbformat": 4
 },
 "nbformat": 4,
 "nbformat_minor": 2
}
