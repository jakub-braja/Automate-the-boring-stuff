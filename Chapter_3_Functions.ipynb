{
 "cells": [
  {
   "attachments": {},
   "cell_type": "markdown",
   "metadata": {},
   "source": [
    "# FUNCTIONS"
   ]
  },
  {
   "attachments": {},
   "cell_type": "markdown",
   "metadata": {},
   "source": [
    "* **def** statement is used to define the function name and its parameters, if any, and to start the function block.\n",
    "* The function code is written in the indented block below the def statement.\n",
    "* The **return** statement is used to specify the value to be returned by the function, if any.\n",
    "* To call the function, simply use its name followed by any arguments it requires in parentheses."
   ]
  },
  {
   "attachments": {},
   "cell_type": "markdown",
   "metadata": {},
   "source": [
    "## **def** Statements with Parameters"
   ]
  },
  {
   "attachments": {},
   "cell_type": "markdown",
   "metadata": {},
   "source": [
    "When you call functions, you pass them values, called **arguments**, by typing them between the parentheses.\n",
    "\n",
    "The definition of the function has **parameters**. Parameters are **variables** that contain arguments. **_When a function is called with arguments, the arguments are stored in the parameters_**"
   ]
  },
  {
   "attachments": {},
   "cell_type": "markdown",
   "metadata": {},
   "source": [
    "**def function(parameter)**  *function definition*\n",
    "\n",
    "an **argument** is passed to the **parameter**, a parameter is a varaible that stores a value, this value is called **argument**"
   ]
  },
  {
   "cell_type": "code",
   "execution_count": 1,
   "metadata": {},
   "outputs": [
    {
     "data": {
      "text/plain": [
       "8"
      ]
     },
     "execution_count": 1,
     "metadata": {},
     "output_type": "execute_result"
    }
   ],
   "source": [
    "# We are defining the function and its parameters\n",
    "def sum(parameter1, parameter2):  # we have parameter1 and parameter2 that are vaiables that will store out future input\n",
    "    return parameter1 + parameter2 # we define what to do with the parameter we assigned\n",
    "\n",
    "# we need to define these two parameters so no mattter what will happen and what value we will input the operation can be generic meanining\n",
    "# the function will perform the same actions based on the parameters syntax\n",
    "\n",
    "sum(3,5)  # WE are passing the arguments 3 and 5 to the parameters and the functions does whit those the same operations above , so\n",
    "# it sums up the valuse\n",
    "\n",
    "# in fact the resul is 8 \n",
    "    "
   ]
  },
  {
   "attachments": {},
   "cell_type": "markdown",
   "metadata": {},
   "source": [
    "## *Define, Call, Pass, Argument, Parameter*"
   ]
  },
  {
   "cell_type": "code",
   "execution_count": 2,
   "metadata": {},
   "outputs": [
    {
     "name": "stdout",
     "output_type": "stream",
     "text": [
      "Hello, Al\n"
     ]
    }
   ],
   "source": [
    "def sayHello(name):\n",
    "       print('Hello, ' + name)\n",
    "\n",
    "sayHello('Al')"
   ]
  },
  {
   "attachments": {},
   "cell_type": "markdown",
   "metadata": {},
   "source": [
    "**To define a function:** is to create it, just like an assignment statement like spam = 42 creates the spam variable. The def statement defines the sayHello() function"
   ]
  },
  {
   "attachments": {},
   "cell_type": "markdown",
   "metadata": {},
   "source": [
    "**The sayHello('Al') line** calls the now-created function, sending the execution to the top of the function’s code. This function call is also known **as passing the string value 'Al' to the function**. A value being passed to a function in a function call is an **argument**. \n",
    "\n",
    "The argument 'Al' is assigned to a local variable named name.**Variables that have arguments assigned to them are parameters.**"
   ]
  },
  {
   "attachments": {},
   "cell_type": "markdown",
   "metadata": {},
   "source": [
    "## **return** Values and return Statements\n",
    "\n",
    "When creating a function using the def statement, you can specify what the return value should be with a return statement. A return statement consists of the following:\n",
    "\n",
    "* The **return** keyword\n",
    "* The value or expression that the function should return"
   ]
  },
  {
   "attachments": {},
   "cell_type": "markdown",
   "metadata": {},
   "source": [
    "## The **None** Value\n",
    "\n",
    "The None value is the only value of the **NoneType** data type.\n",
    "This value-without-a-value can be helpful when you need to store something that won’t be confused for a real value in a variable. \n",
    "\n",
    "*One place where None is used is as the return value of print(). The print() function displays text on the screen, but it doesn’t need to return anything in the same way len() or input() does. But since all function calls need to evaluate to a return value, print() returns None. To see this in action, enter the following into the interactive shell:*"
   ]
  },
  {
   "cell_type": "code",
   "execution_count": 5,
   "metadata": {},
   "outputs": [
    {
     "name": "stdout",
     "output_type": "stream",
     "text": [
      "Hello\n"
     ]
    },
    {
     "data": {
      "text/plain": [
       "True"
      ]
     },
     "execution_count": 5,
     "metadata": {},
     "output_type": "execute_result"
    }
   ],
   "source": [
    "# let's see if the print() function really returns None\n",
    "\n",
    "spam = print('Hello')\n",
    "\n",
    "None == spam "
   ]
  },
  {
   "cell_type": "code",
   "execution_count": 7,
   "metadata": {},
   "outputs": [
    {
     "name": "stdout",
     "output_type": "stream",
     "text": [
      "\n",
      "\n"
     ]
    },
    {
     "data": {
      "text/plain": [
       "True"
      ]
     },
     "execution_count": 7,
     "metadata": {},
     "output_type": "execute_result"
    }
   ],
   "source": [
    "print()\n",
    "\n",
    "None == print()"
   ]
  },
  {
   "attachments": {},
   "cell_type": "markdown",
   "metadata": {},
   "source": [
    "* The **print()** function is used to display output on the screen or in a file, and its purpose is to provide information to the user or for debugging purposes. Once the information is printed, it doesn't have any further use in the code, and so it doesn't need to be returned.\n",
    "\n",
    "* **In contrast, a function that uses a return statement** is designed to perform some computation and then provide the result to the calling code for further processing or use. The value that is returned by the function can be assigned to a variable, passed to another function, or used in any other way that the calling code requires.\n",
    "\n",
    "#### **So, the key difference is that the print() function is used to display information, whereas a function that uses a return statement is used to provide data back to the calling code for further use or processing.**"
   ]
  },
  {
   "attachments": {
    "image.png": {
     "image/png": "[encoded data removed]"
    }
   },
   "cell_type": "markdown",
   "metadata": {},
   "source": [
    "## THE CALL STACK\n",
    "\n",
    "![image.png](attachment:image.png)\n",
    "\n",
    "A function doesn’t send the execution on a one-way trip to the top of a function. Python will remember which line of code called the function so that the execution can return there when it encounters a return statement. If that original function called other functions, the execution would return to those function calls first, before returning from the original function call."
   ]
  },
  {
   "cell_type": "code",
   "execution_count": 16,
   "metadata": {},
   "outputs": [],
   "source": [
    "# WE define a() here but we are not calling it yet!\n",
    "def a():\n",
    "    print('a() starts')\n",
    "\n",
    "    b() # b() and c() are called inside a() and we defined it later\n",
    "\n",
    "    d()\n",
    "    print('a() returns')\n",
    "\n",
    "# we define b() here even though we are calling it previously as well as c()\n",
    "def b():\n",
    "    print('b() starts') \n",
    "\n",
    "    c()  # b() calls c() but it is not defined yet\n",
    "\n",
    "    print('b() returns')\n",
    "\n",
    "def c():\n",
    "    print('c() starts')\n",
    "    print('c() returns')\n",
    "\n",
    "def d():\n",
    "    print('d() starts')\n",
    "    print('d() returns')\n",
    "\n",
    "    # the first function that is actually called is b() inside a()\n",
    "\n",
    "    #OUTPUT\n",
    "    #\n",
    "    # ('a() starts')\n",
    "    # ('b() starts')\n",
    "    # ('c() starts')\n",
    "    # ('c() returns')\n",
    "    # ('b() returns')\n",
    "    # ('d() starts')\n",
    "    # ('d() returns')\n",
    "    # ('a() returns')"
   ]
  },
  {
   "cell_type": "code",
   "execution_count": 17,
   "metadata": {},
   "outputs": [
    {
     "name": "stdout",
     "output_type": "stream",
     "text": [
      "a() starts\n",
      "b() starts\n",
      "c() starts\n",
      "c() returns\n",
      "b() returns\n",
      "d() starts\n",
      "d() returns\n",
      "a() returns\n"
     ]
    }
   ],
   "source": [
    "a()"
   ]
  },
  {
   "attachments": {},
   "cell_type": "markdown",
   "metadata": {},
   "source": [
    "## Local and Global Scope\n",
    "\n",
    "Parameters and variables that are assigned in a called function are said to exist in that function’s **local scope**. Variables that are assigned outside all functions are said to exist in the **global scope**. A variable that exists in a local scope is called a **local variable**, while a variable that exists in the global scope is called a **global variable**. A variable must be one or the other; it cannot be both local and global.\n",
    "\n",
    "* A variable with global scope is one that is defined outside of any function or class, and is therefore visible throughout the entire program. Any part of the program can access and modify a global variable a **function as well**\n",
    "\n",
    "* A variable with local scope is one that is defined within a function, and is only visible and accessible within that function. It cannot be accessed from outside the function, and any changes made to it within the function do not affect its value outside of the function.\n",
    "\n",
    "\n",
    "Scopes matter for several reasons:\n",
    "\n",
    "* C**ode in the global scope, outside of all functions, cannot use any local variables.**\n",
    "* **However, code in a local scope can access global variables.**\n",
    "* **Code in a function’s local scope cannot use variables in any other local scope.**\n",
    "* You can use the same name for different variables if they are in different scopes. That is, there can be a local variable named spam and a global variable also named spam.\n",
    "\n",
    "*The reason Python has different scopes instead of just making everything a global variable is so that when variables are modified by the code in a particular call to a function, the function interacts with the rest of the program only through its parameters and the return value. This narrows down the number of lines of code that may be causing a bug.*\n"
   ]
  },
  {
   "cell_type": "code",
   "execution_count": 19,
   "metadata": {},
   "outputs": [],
   "source": [
    "x = 10      # global variable\n",
    "\n",
    "def my_function():\n",
    "    y = 20  # local variable\n",
    "    print(\"x inside function:\", x)\n",
    "    print(\"y inside function:\", y)"
   ]
  },
  {
   "cell_type": "code",
   "execution_count": 20,
   "metadata": {},
   "outputs": [
    {
     "name": "stdout",
     "output_type": "stream",
     "text": [
      "x inside function: 10\n",
      "y inside function: 20\n"
     ]
    }
   ],
   "source": [
    "my_function()"
   ]
  },
  {
   "attachments": {},
   "cell_type": "markdown",
   "metadata": {},
   "source": [
    "#### *Local Variables Cannot Be Used in the Global Scope*\n",
    "This raises an error as print is trying to find eggs, but eggs is not defined in the global scope but just in the local as such cannot be accessed by the print function"
   ]
  },
  {
   "cell_type": "code",
   "execution_count": 21,
   "metadata": {},
   "outputs": [
    {
     "ename": "NameError",
     "evalue": "name 'eggs' is not defined",
     "output_type": "error",
     "traceback": [
      "\u001b[1;31m---------------------------------------------------------------------------\u001b[0m",
      "\u001b[1;31mNameError\u001b[0m                                 Traceback (most recent call last)",
      "Cell \u001b[1;32mIn[21], line 6\u001b[0m\n\u001b[0;32m      2\u001b[0m     eggs \u001b[39m=\u001b[39m \u001b[39m31337\u001b[39m\n\u001b[0;32m      4\u001b[0m spam()\n\u001b[1;32m----> 6\u001b[0m \u001b[39mprint\u001b[39m(eggs)\n",
      "\u001b[1;31mNameError\u001b[0m: name 'eggs' is not defined"
     ]
    }
   ],
   "source": [
    "def spam():\n",
    "    eggs = 31337\n",
    "\n",
    "spam()\n",
    "\n",
    "print(eggs)"
   ]
  },
  {
   "attachments": {},
   "cell_type": "markdown",
   "metadata": {},
   "source": [
    "#### *Local Scopes Cannot Use Variables in Other Local Scopes*\n",
    "\n",
    "The function below would not print 0 because eggs = 0 in the bacon() function. It will print 99 as the eggs = 0 variable cannot be passed between functions"
   ]
  },
  {
   "cell_type": "code",
   "execution_count": 22,
   "metadata": {},
   "outputs": [
    {
     "name": "stdout",
     "output_type": "stream",
     "text": [
      "99\n"
     ]
    }
   ],
   "source": [
    "def spam():\n",
    "        eggs = 99\n",
    "        bacon()\n",
    "        print(eggs)\n",
    "\n",
    "def bacon():\n",
    "        ham = 101\n",
    "        eggs = 0\n",
    "\n",
    "spam()"
   ]
  },
  {
   "attachments": {},
   "cell_type": "markdown",
   "metadata": {},
   "source": [
    "#### *Global Variables Can Be Read from a Local Scope*"
   ]
  },
  {
   "cell_type": "code",
   "execution_count": 25,
   "metadata": {},
   "outputs": [
    {
     "name": "stdout",
     "output_type": "stream",
     "text": [
      "42\n",
      "42\n"
     ]
    }
   ],
   "source": [
    "def spam():\n",
    "    print(eggs)\n",
    "\n",
    "eggs = 42\n",
    "\n",
    "spam()\n",
    "print(eggs)"
   ]
  },
  {
   "attachments": {},
   "cell_type": "markdown",
   "metadata": {},
   "source": [
    "#### *Local and Global Variables with the Same Name*\n",
    "\n",
    "Technically, it’s perfectly acceptable to use the same variable name for a global variable and local variables in different scopes in Python. But, to simplify your life, avoid doing this\n",
    "\n",
    "ince these three separate variables all have the same name, it can be confusing to keep track of which one is being used at any given time. **This is why you should avoid using the same variable name in different scopes.**"
   ]
  },
  {
   "cell_type": "code",
   "execution_count": 1,
   "metadata": {},
   "outputs": [
    {
     "name": "stdout",
     "output_type": "stream",
     "text": [
      "bacon local\n",
      "spam local\n",
      "bacon local\n",
      "global\n"
     ]
    }
   ],
   "source": [
    "def spam():\n",
    "    eggs = 'spam local'\n",
    "    print(eggs) # prints 'spam local'\n",
    "\n",
    "def bacon():\n",
    "    eggs = 'bacon local'\n",
    "    print(eggs) # prints 'bacon local'\n",
    "\n",
    "    spam()\n",
    "    print(eggs) # prints 'bacon local\n",
    "\n",
    "\n",
    "eggs = 'global'\n",
    "\n",
    "bacon()\n",
    "\n",
    "print(eggs)    # prints 'global'ArithmeticError\n",
    "\n",
    "#OUTPUT\n",
    "# 'bacon local'\n",
    "# 'spam local'\n",
    "# 'bacon local'\n",
    "# 'global'\n"
   ]
  },
  {
   "attachments": {},
   "cell_type": "markdown",
   "metadata": {},
   "source": [
    "# The global Statement\n",
    "\n",
    "f you need to modify a global variable from within a function, use the global statement. If you have a line such as global eggs at the top of a function, it tells Python, “In this function, eggs refers to the global variable, so don’t create a local variable with this name"
   ]
  },
  {
   "cell_type": "code",
   "execution_count": 3,
   "metadata": {},
   "outputs": [
    {
     "name": "stdout",
     "output_type": "stream",
     "text": [
      "spam\n",
      "spam\n"
     ]
    }
   ],
   "source": [
    "def spam():\n",
    "    global eggs\n",
    "    eggs = 'spam'\n",
    "    print(eggs)\n",
    "\n",
    "eggs = 'global'\n",
    "\n",
    "spam()\n",
    "\n",
    "print(eggs)"
   ]
  },
  {
   "attachments": {},
   "cell_type": "markdown",
   "metadata": {},
   "source": [
    "There are four rules to tell whether a variable is in a local scope or global scope:\n",
    "\n",
    "1. If a variable is being used in the global scope (that is, outside of all functions), then it is always a global variable.\n",
    "2. If there is a global statement for that variable in a function, it is a global variable.\n",
    "3. Otherwise, if the variable is used in an assignment statement in the function, it is a local variable.\n",
    "4. But if the variable is not used in an assignment statement, it is a global variable."
   ]
  },
  {
   "cell_type": "code",
   "execution_count": 6,
   "metadata": {},
   "outputs": [
    {
     "name": "stdout",
     "output_type": "stream",
     "text": [
      "42\n"
     ]
    }
   ],
   "source": [
    "def spam():\n",
    "    global eggs\n",
    "    eggs = 'spam' # this is global (2)\n",
    "\n",
    "def bacon():\n",
    "    eggs = 'bacon' # this is local (3)\n",
    "\n",
    "def ham():\n",
    "    print(eggs) #this is global (4)\n",
    "\n",
    "eggs = 42 # this is global\n",
    "\n",
    "spam()\n",
    "\n",
    "print(eggs)"
   ]
  },
  {
   "attachments": {},
   "cell_type": "markdown",
   "metadata": {},
   "source": [
    "# EXCEPTION HANDLING\n",
    "\n",
    "Example, dividing by zero"
   ]
  },
  {
   "cell_type": "code",
   "execution_count": 9,
   "metadata": {},
   "outputs": [
    {
     "name": "stdout",
     "output_type": "stream",
     "text": [
      "21.0\n",
      "3.5\n"
     ]
    },
    {
     "ename": "ZeroDivisionError",
     "evalue": "division by zero",
     "output_type": "error",
     "traceback": [
      "\u001b[1;31m---------------------------------------------------------------------------\u001b[0m",
      "\u001b[1;31mZeroDivisionError\u001b[0m                         Traceback (most recent call last)",
      "Cell \u001b[1;32mIn[9], line 6\u001b[0m\n\u001b[0;32m      4\u001b[0m \u001b[39mprint\u001b[39m(spam(\u001b[39m2\u001b[39m))\n\u001b[0;32m      5\u001b[0m \u001b[39mprint\u001b[39m(spam(\u001b[39m12\u001b[39m))\n\u001b[1;32m----> 6\u001b[0m \u001b[39mprint\u001b[39m(spam(\u001b[39m0\u001b[39;49m))\n\u001b[0;32m      7\u001b[0m \u001b[39mprint\u001b[39m(spam(\u001b[39m1\u001b[39m))\n",
      "Cell \u001b[1;32mIn[9], line 2\u001b[0m, in \u001b[0;36mspam\u001b[1;34m(divideBy)\u001b[0m\n\u001b[0;32m      1\u001b[0m \u001b[39mdef\u001b[39;00m \u001b[39mspam\u001b[39m(divideBy):\n\u001b[1;32m----> 2\u001b[0m     \u001b[39mreturn\u001b[39;00m \u001b[39m42\u001b[39;49m \u001b[39m/\u001b[39;49m divideBy\n",
      "\u001b[1;31mZeroDivisionError\u001b[0m: division by zero"
     ]
    }
   ],
   "source": [
    "def spam(divideBy):\n",
    "    return 42 / divideBy\n",
    "\n",
    "print(spam(2))\n",
    "print(spam(12))\n",
    "print(spam(0))\n",
    "print(spam(1))"
   ]
  },
  {
   "attachments": {},
   "cell_type": "markdown",
   "metadata": {},
   "source": [
    "**Errors can be handled with try and except statements**. The code that could potentially have an error is put in a **try clause**. The program execution moves to the start of a following **except clause** if an error happens.\n",
    "\n",
    "*When code in a try clause causes an error, the program execution immediately moves to the code in the except clause. After running that code, the execution continues as normal.*"
   ]
  },
  {
   "cell_type": "code",
   "execution_count": 11,
   "metadata": {},
   "outputs": [
    {
     "name": "stdout",
     "output_type": "stream",
     "text": [
      "21.0\n",
      "3.5\n",
      "Error: Invalid argument\n",
      "None\n",
      "42.0\n"
     ]
    }
   ],
   "source": [
    "def spam(divideBy):\n",
    "    # we decide to hanfle the error here if it has to happen\n",
    "    try:\n",
    "\n",
    "        return 42 / divideBy\n",
    "    \n",
    "    except ZeroDivisionError: # we provide the exception that most probabliy will apply to this calc\n",
    "        print('Error: Invalid argument')\n",
    "\n",
    "print(spam(2))\n",
    "print(spam(12))\n",
    "print(spam(0))\n",
    "print(spam(1))"
   ]
  },
  {
   "attachments": {},
   "cell_type": "markdown",
   "metadata": {},
   "source": [
    "On contrary if we put our code like this, basically we are not defining the error exception directly in the function but outside the programm will stop at the first except statement.\n",
    "\n",
    "**The reason print(spam(1)) is never executed is because once the execution jumps to the code in the except clause, it does not return to the try clause. Instead, it just continues moving down the program as normal.**"
   ]
  },
  {
   "cell_type": "code",
   "execution_count": 12,
   "metadata": {},
   "outputs": [
    {
     "name": "stdout",
     "output_type": "stream",
     "text": [
      "21.0\n",
      "3.5\n",
      "Error: Invalid argument.\n"
     ]
    }
   ],
   "source": [
    "def spam(divideBy):\n",
    "    return 42 / divideBy\n",
    "\n",
    "try:\n",
    "    print(spam(2))\n",
    "    print(spam(12))\n",
    "    print(spam(0))\n",
    "    print(spam(1))\n",
    "except ZeroDivisionError:\n",
    "    print('Error: Invalid argument.')"
   ]
  },
  {
   "attachments": {},
   "cell_type": "markdown",
   "metadata": {},
   "source": [
    "# A Short Program: Zigzag"
   ]
  },
  {
   "cell_type": "code",
   "execution_count": 27,
   "metadata": {},
   "outputs": [],
   "source": [
    "import time, sys"
   ]
  },
  {
   "cell_type": "markdown",
   "metadata": {},
   "source": [
    "This is written by myself and it is not elegant at all"
   ]
  },
  {
   "cell_type": "code",
   "execution_count": 36,
   "metadata": {},
   "outputs": [
    {
     "name": "stdout",
     "output_type": "stream",
     "text": [
      " *****\n",
      "  *****\n",
      "   *****\n",
      "    *****\n",
      "    *****\n",
      "   *****\n",
      "  *****\n",
      " *****\n",
      "*****\n",
      "*****\n",
      " *****\n",
      "  *****\n",
      "   *****\n",
      "    *****\n"
     ]
    },
    {
     "ename": "KeyboardInterrupt",
     "evalue": "",
     "output_type": "error",
     "traceback": [
      "\u001b[1;31m---------------------------------------------------------------------------\u001b[0m",
      "\u001b[1;31mKeyboardInterrupt\u001b[0m                         Traceback (most recent call last)",
      "Cell \u001b[1;32mIn[36], line 12\u001b[0m\n\u001b[0;32m      5\u001b[0m indent \u001b[39m=\u001b[39m \u001b[39m0\u001b[39m\n\u001b[0;32m      7\u001b[0m \u001b[39mwhile\u001b[39;00m \u001b[39mTrue\u001b[39;00m:\n\u001b[0;32m      8\u001b[0m     \u001b[39m#we start out indentation from 0\u001b[39;00m\n\u001b[0;32m      9\u001b[0m     \n\u001b[0;32m     10\u001b[0m     \u001b[39m# we print the first time the patter with 0 indentation\u001b[39;00m\n\u001b[0;32m     11\u001b[0m     \u001b[39m# decide the timing here\u001b[39;00m\n\u001b[1;32m---> 12\u001b[0m     time\u001b[39m.\u001b[39msleep(\u001b[39m0.5\u001b[39m)\n\u001b[0;32m     14\u001b[0m     \u001b[39m# we add 1 to our indentation\u001b[39;00m\n\u001b[0;32m     15\u001b[0m     indent \u001b[39m=\u001b[39m indent \u001b[39m+\u001b[39m \u001b[39m1\u001b[39m \n",
      "\u001b[1;31mKeyboardInterrupt\u001b[0m: "
     ]
    }
   ],
   "source": [
    "pattern = '*****'\n",
    "\n",
    "max_indent = 5\n",
    "\n",
    "indent = 0\n",
    "\n",
    "while True:\n",
    "    #we start out indentation from 0\n",
    "    \n",
    "    # we print the first time the patter with 0 indentation\n",
    "    # decide the timing here\n",
    "    time.sleep(0.5)\n",
    "\n",
    "    # we add 1 to our indentation\n",
    "    indent = indent + 1 \n",
    "\n",
    "    # now we have to check the value of the indentation, if > max_indnet we start to subtract\n",
    "\n",
    "    if indent == max_indent:\n",
    "\n",
    "        while indent != 0:\n",
    "\n",
    "            indent = indent - 1 \n",
    "\n",
    "            print(f'{indent * \" \" + pattern}')\n",
    "            time.sleep(0.5)\n",
    "            \n",
    "    print(indent * \" \" + pattern)"
   ]
  },
  {
   "cell_type": "code",
   "execution_count": 35,
   "metadata": {},
   "outputs": [
    {
     "name": "stdout",
     "output_type": "stream",
     "text": [
      "   *****\n",
      "    *****\n",
      "     *****\n",
      "    *****\n",
      "   *****\n",
      "  *****\n",
      " *****\n",
      "*****\n",
      " *****\n",
      "  *****\n",
      "   *****\n",
      "    *****\n",
      "     *****\n",
      "    *****\n",
      "   *****\n",
      "  *****\n",
      " *****\n",
      "*****\n",
      " *****\n"
     ]
    },
    {
     "ename": "AttributeError",
     "evalue": "'tuple' object has no attribute 'tb_frame'",
     "output_type": "error",
     "traceback": [
      "\u001b[1;31m---------------------------------------------------------------------------\u001b[0m",
      "\u001b[1;31mKeyboardInterrupt\u001b[0m                         Traceback (most recent call last)",
      "Cell \u001b[1;32mIn[35], line 12\u001b[0m\n\u001b[0;32m     11\u001b[0m \u001b[39mprint\u001b[39m(indent \u001b[39m*\u001b[39m \u001b[39m'\u001b[39m\u001b[39m \u001b[39m\u001b[39m'\u001b[39m \u001b[39m+\u001b[39m pattern)\n\u001b[1;32m---> 12\u001b[0m time\u001b[39m.\u001b[39msleep(\u001b[39m0.5\u001b[39m)\n\u001b[0;32m     14\u001b[0m \u001b[39mif\u001b[39;00m indnet_increase \u001b[39m==\u001b[39m \u001b[39mTrue\u001b[39;00m:\n\u001b[0;32m     15\u001b[0m     \u001b[39m# Increase the number of spacing \u001b[39;00m\n",
      "\u001b[1;31mKeyboardInterrupt\u001b[0m: ",
      "\nDuring handling of the above exception, another exception occurred:\n",
      "\u001b[1;31mSystemExit\u001b[0m                                Traceback (most recent call last)",
      "    \u001b[1;31m[... skipping hidden 1 frame]\u001b[0m\n",
      "Cell \u001b[1;32mIn[35], line 33\u001b[0m\n\u001b[0;32m     32\u001b[0m \u001b[39mexcept\u001b[39;00m \u001b[39mKeyboardInterrupt\u001b[39;00m:\n\u001b[1;32m---> 33\u001b[0m     sys\u001b[39m.\u001b[39;49mexit()\n",
      "\u001b[1;31mSystemExit\u001b[0m: None",
      "\nDuring handling of the above exception, another exception occurred:\n",
      "\u001b[1;31mAttributeError\u001b[0m                            Traceback (most recent call last)",
      "    \u001b[1;31m[... skipping hidden 1 frame]\u001b[0m\n",
      "File \u001b[1;32m~\\AppData\\Roaming\\PyPy\\PyPy39\\site-packages\\IPython\\core\\interactiveshell.py:2047\u001b[0m, in \u001b[0;36mInteractiveShell.showtraceback\u001b[1;34m(self, exc_tuple, filename, tb_offset, exception_only, running_compiled_code)\u001b[0m\n\u001b[0;32m   2044\u001b[0m \u001b[39mif\u001b[39;00m exception_only:\n\u001b[0;32m   2045\u001b[0m     stb \u001b[39m=\u001b[39m [\u001b[39m'\u001b[39m\u001b[39mAn exception has occurred, use \u001b[39m\u001b[39m%\u001b[39m\u001b[39mtb to see \u001b[39m\u001b[39m'\u001b[39m\n\u001b[0;32m   2046\u001b[0m            \u001b[39m'\u001b[39m\u001b[39mthe full traceback.\u001b[39m\u001b[39m\\n\u001b[39;00m\u001b[39m'\u001b[39m]\n\u001b[1;32m-> 2047\u001b[0m     stb\u001b[39m.\u001b[39mextend(\u001b[39mself\u001b[39;49m\u001b[39m.\u001b[39;49mInteractiveTB\u001b[39m.\u001b[39;49mget_exception_only(etype,\n\u001b[0;32m   2048\u001b[0m                                                      value))\n\u001b[0;32m   2049\u001b[0m \u001b[39melse\u001b[39;00m:\n\u001b[0;32m   2050\u001b[0m     \u001b[39mtry\u001b[39;00m:\n\u001b[0;32m   2051\u001b[0m         \u001b[39m# Exception classes can customise their traceback - we\u001b[39;00m\n\u001b[0;32m   2052\u001b[0m         \u001b[39m# use this in IPython.parallel for exceptions occurring\u001b[39;00m\n\u001b[0;32m   2053\u001b[0m         \u001b[39m# in the engines. This should return a list of strings.\u001b[39;00m\n",
      "File \u001b[1;32m~\\AppData\\Roaming\\PyPy\\PyPy39\\site-packages\\IPython\\core\\ultratb.py:636\u001b[0m, in \u001b[0;36mListTB.get_exception_only\u001b[1;34m(self, etype, value)\u001b[0m\n\u001b[0;32m    628\u001b[0m \u001b[39mdef\u001b[39;00m \u001b[39mget_exception_only\u001b[39m(\u001b[39mself\u001b[39m, etype, value):\n\u001b[0;32m    629\u001b[0m \u001b[39m    \u001b[39m\u001b[39m\"\"\"Only print the exception type and message, without a traceback.\u001b[39;00m\n\u001b[0;32m    630\u001b[0m \n\u001b[0;32m    631\u001b[0m \u001b[39m    Parameters\u001b[39;00m\n\u001b[1;32m   (...)\u001b[0m\n\u001b[0;32m    634\u001b[0m \u001b[39m    value : exception value\u001b[39;00m\n\u001b[0;32m    635\u001b[0m \u001b[39m    \"\"\"\u001b[39;00m\n\u001b[1;32m--> 636\u001b[0m     \u001b[39mreturn\u001b[39;00m ListTB\u001b[39m.\u001b[39;49mstructured_traceback(\u001b[39mself\u001b[39;49m, etype, value)\n",
      "File \u001b[1;32m~\\AppData\\Roaming\\PyPy\\PyPy39\\site-packages\\IPython\\core\\ultratb.py:503\u001b[0m, in \u001b[0;36mListTB.structured_traceback\u001b[1;34m(self, etype, evalue, etb, tb_offset, context)\u001b[0m\n\u001b[0;32m    500\u001b[0m     chained_exc_ids\u001b[39m.\u001b[39madd(\u001b[39mid\u001b[39m(exception[\u001b[39m1\u001b[39m]))\n\u001b[0;32m    501\u001b[0m     chained_exceptions_tb_offset \u001b[39m=\u001b[39m \u001b[39m0\u001b[39m\n\u001b[0;32m    502\u001b[0m     out_list \u001b[39m=\u001b[39m (\n\u001b[1;32m--> 503\u001b[0m         \u001b[39mself\u001b[39;49m\u001b[39m.\u001b[39;49mstructured_traceback(\n\u001b[0;32m    504\u001b[0m             etype, evalue, (etb, chained_exc_ids),\n\u001b[0;32m    505\u001b[0m             chained_exceptions_tb_offset, context)\n\u001b[0;32m    506\u001b[0m         \u001b[39m+\u001b[39m chained_exception_message\n\u001b[0;32m    507\u001b[0m         \u001b[39m+\u001b[39m out_list)\n\u001b[0;32m    509\u001b[0m \u001b[39mreturn\u001b[39;00m out_list\n",
      "File \u001b[1;32m~\\AppData\\Roaming\\PyPy\\PyPy39\\site-packages\\IPython\\core\\ultratb.py:1288\u001b[0m, in \u001b[0;36mAutoFormattedTB.structured_traceback\u001b[1;34m(self, etype, value, tb, tb_offset, number_of_lines_of_context)\u001b[0m\n\u001b[0;32m   1286\u001b[0m \u001b[39melse\u001b[39;00m:\n\u001b[0;32m   1287\u001b[0m     \u001b[39mself\u001b[39m\u001b[39m.\u001b[39mtb \u001b[39m=\u001b[39m tb\n\u001b[1;32m-> 1288\u001b[0m \u001b[39mreturn\u001b[39;00m FormattedTB\u001b[39m.\u001b[39;49mstructured_traceback(\n\u001b[0;32m   1289\u001b[0m     \u001b[39mself\u001b[39;49m, etype, value, tb, tb_offset, number_of_lines_of_context)\n",
      "File \u001b[1;32m~\\AppData\\Roaming\\PyPy\\PyPy39\\site-packages\\IPython\\core\\ultratb.py:1177\u001b[0m, in \u001b[0;36mFormattedTB.structured_traceback\u001b[1;34m(self, etype, value, tb, tb_offset, number_of_lines_of_context)\u001b[0m\n\u001b[0;32m   1174\u001b[0m mode \u001b[39m=\u001b[39m \u001b[39mself\u001b[39m\u001b[39m.\u001b[39mmode\n\u001b[0;32m   1175\u001b[0m \u001b[39mif\u001b[39;00m mode \u001b[39min\u001b[39;00m \u001b[39mself\u001b[39m\u001b[39m.\u001b[39mverbose_modes:\n\u001b[0;32m   1176\u001b[0m     \u001b[39m# Verbose modes need a full traceback\u001b[39;00m\n\u001b[1;32m-> 1177\u001b[0m     \u001b[39mreturn\u001b[39;00m VerboseTB\u001b[39m.\u001b[39;49mstructured_traceback(\n\u001b[0;32m   1178\u001b[0m         \u001b[39mself\u001b[39;49m, etype, value, tb, tb_offset, number_of_lines_of_context\n\u001b[0;32m   1179\u001b[0m     )\n\u001b[0;32m   1180\u001b[0m \u001b[39melif\u001b[39;00m mode \u001b[39m==\u001b[39m \u001b[39m'\u001b[39m\u001b[39mMinimal\u001b[39m\u001b[39m'\u001b[39m:\n\u001b[0;32m   1181\u001b[0m     \u001b[39mreturn\u001b[39;00m ListTB\u001b[39m.\u001b[39mget_exception_only(\u001b[39mself\u001b[39m, etype, value)\n",
      "File \u001b[1;32m~\\AppData\\Roaming\\PyPy\\PyPy39\\site-packages\\IPython\\core\\ultratb.py:1030\u001b[0m, in \u001b[0;36mVerboseTB.structured_traceback\u001b[1;34m(self, etype, evalue, etb, tb_offset, number_of_lines_of_context)\u001b[0m\n\u001b[0;32m   1021\u001b[0m \u001b[39mdef\u001b[39;00m \u001b[39mstructured_traceback\u001b[39m(\n\u001b[0;32m   1022\u001b[0m     \u001b[39mself\u001b[39m,\n\u001b[0;32m   1023\u001b[0m     etype: \u001b[39mtype\u001b[39m,\n\u001b[1;32m   (...)\u001b[0m\n\u001b[0;32m   1027\u001b[0m     number_of_lines_of_context: \u001b[39mint\u001b[39m \u001b[39m=\u001b[39m \u001b[39m5\u001b[39m,\n\u001b[0;32m   1028\u001b[0m ):\n\u001b[0;32m   1029\u001b[0m \u001b[39m    \u001b[39m\u001b[39m\"\"\"Return a nice text document describing the traceback.\"\"\"\u001b[39;00m\n\u001b[1;32m-> 1030\u001b[0m     formatted_exception \u001b[39m=\u001b[39m \u001b[39mself\u001b[39;49m\u001b[39m.\u001b[39;49mformat_exception_as_a_whole(etype, evalue, etb, number_of_lines_of_context,\n\u001b[0;32m   1031\u001b[0m                                                            tb_offset)\n\u001b[0;32m   1033\u001b[0m     colors \u001b[39m=\u001b[39m \u001b[39mself\u001b[39m\u001b[39m.\u001b[39mColors  \u001b[39m# just a shorthand + quicker name lookup\u001b[39;00m\n\u001b[0;32m   1034\u001b[0m     colorsnormal \u001b[39m=\u001b[39m colors\u001b[39m.\u001b[39mNormal  \u001b[39m# used a lot\u001b[39;00m\n",
      "File \u001b[1;32m~\\AppData\\Roaming\\PyPy\\PyPy39\\site-packages\\IPython\\core\\ultratb.py:935\u001b[0m, in \u001b[0;36mVerboseTB.format_exception_as_a_whole\u001b[1;34m(self, etype, evalue, etb, number_of_lines_of_context, tb_offset)\u001b[0m\n\u001b[0;32m    932\u001b[0m \u001b[39massert\u001b[39;00m \u001b[39misinstance\u001b[39m(tb_offset, \u001b[39mint\u001b[39m)\n\u001b[0;32m    933\u001b[0m head \u001b[39m=\u001b[39m \u001b[39mself\u001b[39m\u001b[39m.\u001b[39mprepare_header(etype, \u001b[39mself\u001b[39m\u001b[39m.\u001b[39mlong_header)\n\u001b[0;32m    934\u001b[0m records \u001b[39m=\u001b[39m (\n\u001b[1;32m--> 935\u001b[0m     \u001b[39mself\u001b[39;49m\u001b[39m.\u001b[39;49mget_records(etb, number_of_lines_of_context, tb_offset) \u001b[39mif\u001b[39;00m etb \u001b[39melse\u001b[39;00m []\n\u001b[0;32m    936\u001b[0m )\n\u001b[0;32m    938\u001b[0m frames \u001b[39m=\u001b[39m []\n\u001b[0;32m    939\u001b[0m skipped \u001b[39m=\u001b[39m \u001b[39m0\u001b[39m\n",
      "File \u001b[1;32m~\\AppData\\Roaming\\PyPy\\PyPy39\\site-packages\\IPython\\core\\ultratb.py:1002\u001b[0m, in \u001b[0;36mVerboseTB.get_records\u001b[1;34m(self, etb, number_of_lines_of_context, tb_offset)\u001b[0m\n\u001b[0;32m   1000\u001b[0m tbs \u001b[39m=\u001b[39m []\n\u001b[0;32m   1001\u001b[0m \u001b[39mwhile\u001b[39;00m cf \u001b[39mis\u001b[39;00m \u001b[39mnot\u001b[39;00m \u001b[39mNone\u001b[39;00m:\n\u001b[1;32m-> 1002\u001b[0m     source_file \u001b[39m=\u001b[39m inspect\u001b[39m.\u001b[39mgetsourcefile(etb\u001b[39m.\u001b[39;49mtb_frame)\n\u001b[0;32m   1003\u001b[0m     lines, first \u001b[39m=\u001b[39m inspect\u001b[39m.\u001b[39mgetsourcelines(etb\u001b[39m.\u001b[39mtb_frame)\n\u001b[0;32m   1004\u001b[0m     max_len \u001b[39m=\u001b[39m \u001b[39mmax\u001b[39m(max_len, first \u001b[39m+\u001b[39m \u001b[39mlen\u001b[39m(lines))\n",
      "\u001b[1;31mAttributeError\u001b[0m: 'tuple' object has no attribute 'tb_frame'"
     ]
    }
   ],
   "source": [
    "indent = 3\n",
    "\n",
    "pattern = '*****'\n",
    "\n",
    "max_indent = 5\n",
    "\n",
    "indnet_increase = True # this will be our switch\n",
    "\n",
    "try:\n",
    "    while True: # the main loop\n",
    "        print(indent * ' ' + pattern)\n",
    "        time.sleep(0.5)\n",
    "\n",
    "        if indnet_increase == True:\n",
    "            # Increase the number of spacing \n",
    "            indent = indent + 1 \n",
    "            \n",
    "            if indent == max_indent:\n",
    "\n",
    "                # change direction\n",
    "\n",
    "                indnet_increase = False\n",
    "        \n",
    "        else: # else already is alterantive to True so it automatically is False \n",
    "\n",
    "            indent = indent - 1 \n",
    "\n",
    "            if indent == 0:\n",
    "\n",
    "                indnet_increase = True\n",
    "                \n",
    "except KeyboardInterrupt:\n",
    "    sys.exit()\n",
    "\n",
    "\n"
   ]
  },
  {
   "attachments": {},
   "cell_type": "markdown",
   "metadata": {},
   "source": [
    "# The Collatz Sequence\n",
    "\n",
    "*Write a function named collatz() that has one parameter named number. If number is even, then collatz() should print number // 2 and return this value. If number is odd, then collatz() should print and return 3 * number + 1.*"
   ]
  },
  {
   "cell_type": "code",
   "execution_count": 83,
   "metadata": {},
   "outputs": [],
   "source": [
    "# collatz funcion is defined here\n",
    "def collatz(number):\n",
    "    # we choose if the number is eveon or odd here \n",
    "    if number % 2 == 0:\n",
    "        \n",
    "        return number // 2 # if even is simply halfed\n",
    "    \n",
    "    else:\n",
    "\n",
    "        return 3 * number + 1 # if odd is multiplied by 3 and 1 is added "
   ]
  },
  {
   "cell_type": "code",
   "execution_count": 84,
   "metadata": {},
   "outputs": [
    {
     "name": "stdout",
     "output_type": "stream",
     "text": [
      "Input an integer of (q)uit\n",
      "2\n",
      "1\n",
      "Input an integer of (q)uit\n"
     ]
    }
   ],
   "source": [
    "while True:\n",
    "\n",
    "    # the starting message for our program or input od sys.exit()\n",
    "    print('Input an integer of (q)uit')\n",
    "\n",
    "    # input the number\n",
    "    user_input = input()\n",
    "\n",
    "    # if i want to quit i just press q\n",
    "    if user_input == 'q':\n",
    "        break\n",
    "\n",
    "    try:\n",
    "        num = int(user_input)\n",
    "    except ValueError:\n",
    "        print('Invalid input. Please enter an integer or \"q\" to quit.')\n",
    "\n",
    "  \n",
    "    else:\n",
    "\n",
    "        while num != 1:\n",
    "\n",
    "            num = collatz(num)\n",
    "            print(num)\n",
    "\n",
    "        \n"
   ]
  }
 ],
 "metadata": {
  "kernelspec": {
   "display_name": "Python 3",
   "language": "python",
   "name": "python3"
  },
  "language_info": {
   "codemirror_mode": {
    "name": "ipython",
    "version": 3
   },
   "file_extension": ".py",
   "mimetype": "text/x-python",
   "name": "python",
   "nbconvert_exporter": "python",
   "pygments_lexer": "ipython3",
   "version": "3.9.16"
  },
  "orig_nbformat": 4
 },
 "nbformat": 4,
 "nbformat_minor": 2
}
